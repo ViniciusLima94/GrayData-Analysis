


%matplotlib inline
import sys

sys.path.insert(1, "/home/vinicius/storage1/projects/GrayData-Analysis")


import h5py
import matplotlib.pyplot as plt
import numpy as np
import pandas as pd
import xarray as xr
from frites.conn import define_windows

from GDa.session import session, session_info

pd.set_option("display.max_columns", None)








info = session_info(
    raw_path="/home/vinicius/funcog/gda/GrayLab/",
    monkey="lucy",
    date="141017",
    session=1,
)





print("Recording informations:\n")
print(info.recording_info.keys())


info.trial_info.head()





filtered_trials = info.trial_info[
    (info.trial_info["trial_type"] == 1.0)
    & (info.trial_info["behavioral_response"] == 1.0)
]
# Print the data frane
filtered_trials.head()





# Instantiate class
s = session(
    raw_path="/home/vinicius/funcog/gda/GrayLab/",
    monkey="lucy",
    date="141017",
    session=1,
    slvr_msmod=True,
    align_to="cue",
    evt_dt=[-0.65, 3.00],
    only_unique_recordings=False,
)





# Read data from .mat files
s.read_from_mat(load_spike_times=True, verbose=True)


plt.imshow(s.spike_times.mean("trials"), aspect="auto", cmap="turbo", origin="lower")
plt.colorbar()





print(s.data.shape)
print(s.spike_times.shape)


print("Session info.")
print("------------------------------------------------------------------")
print(s.data.attrs.keys())








s.trial_info.head()


idx = s.trial_info[
    (s.trial_info["trial_type"] == 1.0) & (s.trial_info["behavioral_response"] == 1.0)
].trial_index.values


data_filtered = s.data.sel(trials=idx)


print(f"{data_filtered.shape=}")


data_filtered = s.spike_times.sel(trials=idx)


spikes = data_filtered.sel(time=slice(-0.5, 2))

win, twin = define_windows(spikes.time.data, slwin_len=20 / 1000, slwin_step=20 / 1000)

spike_rates = []
for ti, tf in win:
    spike_rates += [spikes.isel(time=slice(ti, tf)).sum("time")]
spike_rates = xr.concat(spike_rates, "times")
spike_rates = spike_rates.assign_coords({"times": twin})


spike_rates.sel(roi="V1").mean(("trials", "roi")).plot()





trials = np.random.choice(data_filtered.trials, size=5)


plt.figure(figsize=(20, 30))
pos = 1
for c in range(data_filtered.sizes["roi"]):
    for t in trials:
        plt.subplot(data_filtered.sizes["roi"], len(trials), pos)
        plt.plot(data_filtered.isel(roi=c).sel(trials=t))
        plt.axis("off")
        if c == 0:
            plt.title(f"trial {t}", fontsize=15)
        if t == trials[0]:
            plt.ylabel(data_filtered.roi[c].values, fontsize=15, rotation=0)
        pos += 1
plt.tight_layout()


data_filtered = data_filtered.isel(
    roi=[0, 2, 3, 5, 6, 7, 8, 9, 10, 13, 14, 16, 19, 22, 23, 27, 30, 31, 33, 34]
).sortby("roi", ascending=False)


data_filtered = data_filtered * 1e6


plt.figure(figsize=(15, 12))
pos = 1
for i in range(data_filtered.sizes["roi"]):
    ax = plt.subplot(20, 1, pos)
    data_filtered.sel(trials=249).isel(roi=i).plot(lw=1)
    plt.text(-0.8, 15e-6, f"{data_filtered.roi.data[i]}")
    plt.axis("off")
    plt.xlabel("")
    plt.title("")
    if i == data_filtered.sizes["roi"] - 1:
        plt.plot(0, 0, "o")
        plt.plot(0.5, 0, "o")
        plt.plot(1.5, 0, "o")
        plt.plot(2, 0, "o")
    pos += 1
    [ax.spines[key].set_visible(False) for key in ["top", "right"]]
    plt.savefig("recordings.pdf", dpi=600)



