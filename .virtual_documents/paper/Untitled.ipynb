import sys
sys.path.insert(1, "/home/vinicius/storage1/projects/GrayData-Analysis")


import os

import numpy as np
import xarray as xr
import argparse

from frites.dataset import DatasetEphy
from frites.estimator import GCMIEstimator
from frites.workflow import WfMi
from config import get_dates, return_delay_split
from GDa.util import average_stages
from GDa.session import session_info
from GDa.loader import loader
from tqdm import tqdm



