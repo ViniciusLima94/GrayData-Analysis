{
 "cells": [
  {
   "cell_type": "markdown",
   "metadata": {},
   "source": [
    "###  Using the class spectral analysis\n",
    "\n",
    "Tutorial on how to use the spectral analysis class to compute power spectrum, spectogram, and the pairwise coherence."
   ]
  },
  {
   "cell_type": "code",
   "execution_count": 1,
   "metadata": {},
   "outputs": [],
   "source": [
    "%matplotlib inline\n",
    "import time\n",
    "import numpy                 as     np\n",
    "import matplotlib.pyplot     as     plt\n",
    "from   GDa.spectral_analysis import spectral_analysis\n",
    "from   GDa.session           import session\n",
    "from   GDa.misc              import smooth_spectra"
   ]
  },
  {
   "cell_type": "markdown",
   "metadata": {},
   "source": [
    "Let's start by loading a session data:"
   ]
  },
  {
   "cell_type": "code",
   "execution_count": null,
   "metadata": {},
   "outputs": [],
   "source": [
    "# Session data\n",
    "session_data = np.load('raw_lfp/lucy_session01_150128.npy', allow_pickle=True).item()\n",
    "# LFP data\n",
    "LFP          = session_data['data']\n",
    "# Index of all pair of channels\n",
    "pairs        = session_data['info']['pairs']\n",
    "# Sample frequency\n",
    "fsample      = int(session_data['info']['fsample'])\n",
    "# Directory were to save the coherence data\n",
    "dir_out      = session_data['path']['dir_out']"
   ]
  },
  {
   "cell_type": "markdown",
   "metadata": {},
   "source": [
    "To instantiate the __spectral_analysis__ class:"
   ]
  },
  {
   "cell_type": "code",
   "execution_count": null,
   "metadata": {},
   "outputs": [],
   "source": [
    "spec = spectral_analysis()"
   ]
  },
  {
   "cell_type": "markdown",
   "metadata": {},
   "source": [
    "We can plot a random LFP signal:"
   ]
  },
  {
   "cell_type": "code",
   "execution_count": null,
   "metadata": {},
   "outputs": [],
   "source": [
    "lfp   = LFP[0,10,:]\n",
    "# Time axis, using from -0.65 to 3.00 s because this is the event dt we used when we saved the data\n",
    "tarr = np.linspace(-0.65, 3.00, lfp.shape[-1]) "
   ]
  },
  {
   "cell_type": "code",
   "execution_count": null,
   "metadata": {},
   "outputs": [],
   "source": [
    "# Plotting the signal\n",
    "plt.plot(tarr, lfp, 'k')\n",
    "plt.title('Selected LFP')\n",
    "plt.xlabel('Time')\n",
    "plt.ylabel('mV')"
   ]
  },
  {
   "cell_type": "markdown",
   "metadata": {},
   "source": [
    "We can bandpass filter the data with the function __filter__ in __spectral_analysis__, let's filter it on the alpha band (8-15 Hz):"
   ]
  },
  {
   "cell_type": "code",
   "execution_count": null,
   "metadata": {},
   "outputs": [],
   "source": [
    "LFP_filtered = spec.filter(data = LFP, fs = fsample, f_low = 8, f_high = 12, n_jobs = -1)"
   ]
  },
  {
   "cell_type": "code",
   "execution_count": null,
   "metadata": {},
   "outputs": [],
   "source": [
    "plt.plot(lfp, 'k')\n",
    "plt.plot(LFP_filtered[0,10,:], 'r')\n",
    "plt.title('Filtering the LFP')\n",
    "plt.legend(['Orignal', '8-15 Hz'])"
   ]
  },
  {
   "cell_type": "markdown",
   "metadata": {},
   "source": [
    "We can compute the wavelets of the signal using the function __wavelet_transform__, which allows to use morlet or multitaper transforms."
   ]
  },
  {
   "cell_type": "code",
   "execution_count": null,
   "metadata": {
    "scrolled": true
   },
   "outputs": [],
   "source": [
    "# Defining frequencies\n",
    "freqs = np.arange(4,60,2)\n",
    "\n",
    "# Morlet\n",
    "W_ml = spec.wavelet_transform(data = LFP,  \n",
    "                              fs = fsample, freqs = freqs, n_cycles = 5,\n",
    "                              time_bandwidth = None, delta = 15, method = 'morlet', n_jobs = -1)\n",
    "\n",
    "# Multitaper\n",
    "#W_mt = spec.wavelet_transform(data = LFP,  \n",
    "#                              fs = fsample, freqs = freqs, n_cycles = freqs/2.0,\n",
    "#                              time_bandwidth = 8.0, delta = 15, method = 'multitaper', n_jobs = -1)"
   ]
  },
  {
   "cell_type": "markdown",
   "metadata": {},
   "source": [
    "The auto spectra can be computed as tem elementwise product of $W$ and its conjugate:"
   ]
  },
  {
   "cell_type": "code",
   "execution_count": null,
   "metadata": {},
   "outputs": [],
   "source": [
    "Sauto_ml = W_ml * np.conj(W_ml)\n",
    "#Sauto_mt = W_mt * np.conj(W_mt)"
   ]
  },
  {
   "cell_type": "markdown",
   "metadata": {},
   "source": [
    "Next, we can visualize the result for __trial=0__, and __channel=10__:"
   ]
  },
  {
   "cell_type": "code",
   "execution_count": null,
   "metadata": {},
   "outputs": [],
   "source": [
    "#plt.figure(figsize=(10,4))\n",
    "# Sxx\n",
    "#plt.subplot(1,2,1)\n",
    "plt.imshow(Sauto_ml[0,10,:,:].real, aspect='auto', cmap='jet', origin='lower', extent=[-0.65,3.00,4,60]);plt.colorbar()\n",
    "plt.title('Morlet Transform', fontsize=20)\n",
    "plt.ylabel(r\"$\\bf{S_{xx}}$\" + \"\\n\" + \"Frequency [Hz]\", fontsize=20)\n",
    "plt.xlabel('Time [s]')\n",
    "#plt.subplot(1,2,2)\n",
    "#plt.imshow(Sauto_mt[0,10,:,:].real, aspect='auto', cmap='jet', origin='lower', extent=[-0.65,3.00,3,40]);plt.colorbar()\n",
    "#plt.title('Multitaper Transform', fontsize=20)\n",
    "#plt.xlabel('Time [s]')\n",
    "plt.tight_layout()"
   ]
  },
  {
   "cell_type": "markdown",
   "metadata": {},
   "source": [
    "Finally we can compute the (single trial) time-frequency coherence between two signals by using the function __wavelet_coherence__, for each trial and pair a file will be saved in __dir_out__ with the coherence data.\n",
    "\n",
    "An array with the pairs of channels (pairs = $[[0,1], [0,2], \\dots, [n,n]]$) should be passed to the function (note that you don't necessarily have to provide every pair possible, you can also focus on a few pairs you are interested).\n",
    "\n",
    "If $n_{\\rm jobs}>1$, it will parallelize on pairs of channels, to test let's compute it passing only one trial of the data, and measure the execution time:"
   ]
  },
  {
   "cell_type": "code",
   "execution_count": null,
   "metadata": {},
   "outputs": [],
   "source": [
    "start = time.time()\n",
    "\n",
    "spec.wavelet_coherence(data = LFP[:10,:,:], pairs = pairs, fs = fsample, freqs = freqs, \n",
    "                       n_cycles = 5, time_bandwidth = None, delta = 15, method = 'morlet', \n",
    "                       win_time = 34, win_freq = 1, dir_out = dir_out, n_jobs = -1)\n",
    "\n",
    "end = time.time()\n",
    "\n",
    "print('Elapsed time to load super-tensor: ' +str((end - start)) + ' sec.' )"
   ]
  },
  {
   "cell_type": "markdown",
   "metadata": {},
   "source": [
    "We can load a saved file with the coherence in order to plot:"
   ]
  },
  {
   "cell_type": "code",
   "execution_count": null,
   "metadata": {},
   "outputs": [],
   "source": [
    "import h5py\n",
    "hf  = h5py.File('Results/lucy/150128/session01/ch1_10_ch2_30.h5', 'r')\n",
    "coh = np.array(hf.get('coherence'))"
   ]
  },
  {
   "cell_type": "code",
   "execution_count": null,
   "metadata": {
    "scrolled": true
   },
   "outputs": [],
   "source": [
    "plt.imshow(coh[0,:,:], aspect = 'auto', cmap = 'jet', origin = 'lower', extent=[-0.65,3,4,60]); plt.colorbar()\n",
    "plt.ylabel('Frequency [Hz]')\n",
    "plt.xlabel('Time [s]')"
   ]
  },
  {
   "cell_type": "markdown",
   "metadata": {},
   "source": [
    "The spectral analysis class also have the __gabor_coherence__ method which allows computing the coherence between a pair os signals, since it is not built uppon MNE the parameters we should pass are not the data but two single LFP signals, let's call this funtion for the same signals we have plot above (__trial=0__, __channel1=10__, and __channel2=30__)."
   ]
  },
  {
   "cell_type": "code",
   "execution_count": null,
   "metadata": {},
   "outputs": [],
   "source": [
    "signal1 = LFP[0,10,:]\n",
    "signal2 = LFP[0,30,:]\n",
    "\n",
    "coh_gabor = spec.gabor_coherence(signal1 = signal1, signal2 = signal2, fs = fsample, freqs = freqs, \n",
    "                                 win_time = 500, win_freq = 1, n_cycles = 5)"
   ]
  },
  {
   "cell_type": "code",
   "execution_count": null,
   "metadata": {},
   "outputs": [],
   "source": [
    "plt.imshow(coh_gabor.real, aspect = 'auto', cmap = 'jet', origin = 'lower', extent=[-0.65,3,4,60]); plt.colorbar()\n",
    "plt.ylabel('Frequency [Hz]')\n",
    "plt.xlabel('Time [s]')"
   ]
  },
  {
   "cell_type": "markdown",
   "metadata": {},
   "source": [
    "As it can be seen the results as pretty similar, as expected."
   ]
  }
 ],
 "metadata": {
  "kernelspec": {
   "display_name": "Python 3",
   "language": "python",
   "name": "python3"
  },
  "language_info": {
   "codemirror_mode": {
    "name": "ipython",
    "version": 3
   },
   "file_extension": ".py",
   "mimetype": "text/x-python",
   "name": "python",
   "nbconvert_exporter": "python",
   "pygments_lexer": "ipython3",
   "version": "3.6.8"
  }
 },
 "nbformat": 4,
 "nbformat_minor": 2
}
