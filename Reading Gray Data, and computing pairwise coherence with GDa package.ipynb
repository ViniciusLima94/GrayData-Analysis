{
 "cells": [
  {
   "cell_type": "markdown",
   "metadata": {},
   "source": [
    "### 1. Demonstration on how to read a given section of the Gray data with the LFP class\n",
    "\n",
    "The LFP class is part of the GDa (Gray Data Analysis) package, and it is used to read and save the gray data in python format for further processing such as the pair-wise coherence computation using another class called 'spectral_analysis' (discussed below in item 2).\n",
    "\n",
    "It can be imported as:"
   ]
  },
  {
   "cell_type": "code",
   "execution_count": 1,
   "metadata": {},
   "outputs": [],
   "source": [
    "from GDa.LFP import LFP"
   ]
  },
  {
   "cell_type": "markdown",
   "metadata": {},
   "source": [
    "To instantiate a LFP class you have to call the constructor method and give the parameters listed below:\n",
    "1. raw_path : The path to the raw data, in this example it is 'GrayLab/';\n",
    "2. monkey   : The monkey name, it should be either 'lucy' or 'ethyl';\n",
    "3. stype    : The type of session, it should be either 'samplecor', 'sampleinc' or 'samplecorinc' (in this example we are using only trials with correct answers);\n",
    "4. date     : The date to use in a given section (in this example we have '141014', '141015', '141205', '150128', '150211', '150304' available);\n",
    "5. session  : The section to use, it should be either session01 or session02;\n",
    "6. evt_dt   : The time window that should be used using sample on as the referece (in this example we are using from 0.65 s befor sample on to 3 s after it);"
   ]
  },
  {
   "cell_type": "code",
   "execution_count": 2,
   "metadata": {},
   "outputs": [],
   "source": [
    "lfp_data = LFP(raw_path = 'GrayLab/', monkey = 'lucy', stype = 'samplecor', date = '150128', \n",
    "               session = 'session01', evt_dt = [-0.65,3.00])"
   ]
  },
  {
   "cell_type": "markdown",
   "metadata": {},
   "source": [
    "When the constructor is called it instantiate the variable, and pass the argument values to its internal atributes, and also create the paths to read and save data (the LFP class inherit another class called set_path in io.py), it does it via the method 'define_paths'. It is possible to check those directories with the following commands:"
   ]
  },
  {
   "cell_type": "code",
   "execution_count": 3,
   "metadata": {},
   "outputs": [
    {
     "name": "stdout",
     "output_type": "stream",
     "text": [
      "It you read the data from: GrayLab/lucy/150128/session01/\n",
      "It you save the data in:   Results/lucy/150128/session01/\n"
     ]
    }
   ],
   "source": [
    "print('It you read the data from: ' + lfp_data.dir)     \n",
    "print('It you save the data in:   ' + lfp_data.dir_out)"
   ]
  },
  {
   "cell_type": "markdown",
   "metadata": {},
   "source": [
    "Next we should read the trial, and recording informations. This can be done by reading the files 'trial_info.mat', and 'recording_info.mat' in the firts directory printed above. It can be done by calling the method 'read_session_info()':"
   ]
  },
  {
   "cell_type": "code",
   "execution_count": 4,
   "metadata": {},
   "outputs": [],
   "source": [
    "lfp_data.read_session_info()"
   ]
  },
  {
   "cell_type": "markdown",
   "metadata": {},
   "source": [
    "You can print some of those informations using the method 'print_info()':"
   ]
  },
  {
   "cell_type": "code",
   "execution_count": 5,
   "metadata": {},
   "outputs": [
    {
     "name": "stdout",
     "output_type": "stream",
     "text": [
      "\n",
      "-------------------+-----------\n",
      "Number of channels | 56\n",
      "-------------------+-----------\n",
      "Number of trials   | 1006.0\n",
      "-------------------+-----------\n",
      "Sample frequency   | 1000 Hz\n",
      "-------------------+-----------\n"
     ]
    }
   ],
   "source": [
    "lfp_data.print_info()"
   ]
  },
  {
   "cell_type": "markdown",
   "metadata": {},
   "source": [
    "You can check other informations contained in those dictionaries by calling the method 'keys()':"
   ]
  },
  {
   "cell_type": "code",
   "execution_count": 6,
   "metadata": {},
   "outputs": [
    {
     "name": "stdout",
     "output_type": "stream",
     "text": [
      "Recording info keys\n",
      "----------------------------------------------------------------------------------------\n",
      "dict_keys(['image_locations', 'image_names', 'image_data', 'channel_count', 'channel_numbers', 'area', 'depth', 'fsample', 'calib_eye_sampling_rate', 'number_sua', 'ms_mod', 'slvr'])\n",
      "----------------------------------------------------------------------------------------\n",
      "Trial info keys\n",
      "----------------------------------------------------------------------------------------\n",
      "dict_keys(['behavioral_response', 'match_image', 'match_location', 'match_on', 'nonmatch_image', 'nonmatch_location', 'num_trials', 'reaction_time', 'sample_image', 'sample_location', 'sample_off', 'sample_on', 'trial_type'])\n"
     ]
    }
   ],
   "source": [
    "print('Recording info keys')\n",
    "print('----------------------------------------------------------------------------------------')\n",
    "print(lfp_data.recording_info.keys())\n",
    "print('----------------------------------------------------------------------------------------')\n",
    "print('Trial info keys')\n",
    "print('----------------------------------------------------------------------------------------')\n",
    "print(lfp_data.trial_info.keys())"
   ]
  },
  {
   "cell_type": "markdown",
   "metadata": {},
   "source": [
    "If you want to check a specif info you only have to access those dicitionaries with the specific key. For instance, lets say I want to see the distribution of the channels across the cortex, I can acess the field 'area' in the 'recording_info' dicitionary, and plot an histogram. "
   ]
  },
  {
   "cell_type": "code",
   "execution_count": 7,
   "metadata": {},
   "outputs": [
    {
     "data": {
      "text/plain": [
       "<Figure size 640x480 with 1 Axes>"
      ]
     },
     "metadata": {},
     "output_type": "display_data"
    }
   ],
   "source": [
    "import numpy as np\n",
    "import matplotlib.pyplot as plt\n",
    "np.unique(lfp_data.recording_info['area'])\n",
    "c, x = np.histogram(lfp_data.recording_info['area'], bins = np.unique(lfp_data.recording_info['area']))\n",
    "plt.plot(range(len(c)), c)\n",
    "plt.xticks(range(len(c)), x, rotation = 90)\n",
    "plt.ylabel('#')\n",
    "plt.xlabel('Areas')\n",
    "plt.title('Distribution of channels across the cortex')\n",
    "plt.show()"
   ]
  },
  {
   "cell_type": "markdown",
   "metadata": {},
   "source": [
    "Next, we should be able to read the LFP data using the method 'read_lfp_data()': "
   ]
  },
  {
   "cell_type": "code",
   "execution_count": 8,
   "metadata": {},
   "outputs": [
    {
     "name": "stdout",
     "output_type": "stream",
     "text": [
      "Reading data...\n"
     ]
    }
   ],
   "source": [
    "lfp_data.read_lfp_data()"
   ]
  },
  {
   "cell_type": "markdown",
   "metadata": {},
   "source": [
    "The data can then be acessed by calling the 'data' atribute:"
   ]
  },
  {
   "cell_type": "code",
   "execution_count": 9,
   "metadata": {},
   "outputs": [
    {
     "name": "stdout",
     "output_type": "stream",
     "text": [
      "Printing a portion of the data \n",
      "------------------------------------------------------------------\n",
      "[[-1.96358590e-05 -3.32542587e-05 -3.89901593e-05 -4.06701777e-05\n",
      "  -4.30660246e-05]\n",
      " [ 1.48573270e-05  1.50673456e-05  1.18835277e-05  9.48347847e-06\n",
      "   1.01710536e-05]\n",
      " [-4.03398101e-05 -3.50792548e-05 -3.13664967e-05 -2.53359149e-05\n",
      "  -1.68239268e-05]\n",
      " [-3.26558127e-05 -3.02250686e-05 -3.28385458e-05 -3.40755482e-05\n",
      "  -2.91601949e-05]\n",
      " [-4.15397203e-05 -4.61350183e-05 -4.65830583e-05 -4.51145810e-05\n",
      "  -4.32743595e-05]]\n",
      "Printing the data shape\n",
      "------------------------------------------------------------------\n",
      "Size = (540, 49, 3651)\n"
     ]
    }
   ],
   "source": [
    "print('Printing a portion of the data ')\n",
    "print('------------------------------------------------------------------')\n",
    "print(lfp_data.data[:5,0,:5])\n",
    "print('Printing the data shape')\n",
    "print('------------------------------------------------------------------')\n",
    "print('Size = ' + str(lfp_data.data.shape))"
   ]
  },
  {
   "cell_type": "markdown",
   "metadata": {},
   "source": [
    "Notice that the number of trials has gone from 1006 to 540, and the number of channels from 56 to 49. This is due the fact that we are getting only trials where the monkey looked to the correct image at the match period, and we are excluding trials that do not contain slvr and msmod.\n",
    "\n",
    "Below we plot some of the LFP that we've just read:"
   ]
  },
  {
   "cell_type": "code",
   "execution_count": 10,
   "metadata": {},
   "outputs": [
    {
     "data": {
      "image/png": "[encoded data removed]",
      "text/plain": [
       "<Figure size 504x288 with 20 Axes>"
      ]
     },
     "metadata": {},
     "output_type": "display_data"
    }
   ],
   "source": [
    "import matplotlib.pyplot as plt \n",
    "%matplotlib inline\n",
    "trials   = [0, 100, 250, 500]\n",
    "channels = [0, 5, 20, 30, 45] \n",
    "colors   = {0:'b', 5:'g', 20:'m', 30:'r', 45:'y'}\n",
    "count    = 1\n",
    "plt.figure(figsize=(7,4))\n",
    "for t in trials:\n",
    "    for c in channels:\n",
    "        plt.subplot(len(trials), len(channels), count)\n",
    "        plt.subplots_adjust(wspace=.1, hspace=.1)\n",
    "        plt.box(False)\n",
    "        plt.plot(lfp_data.data[t,c,1000:2000], c=colors[c])\n",
    "        plt.xticks([])\n",
    "        plt.yticks([])\n",
    "        if c == 0:\n",
    "            plt.ylabel('Trial ' + str(t))\n",
    "        if t == 0:\n",
    "            plt.title('Ch. ' + str(c))\n",
    "        count += 1\n",
    "plt.show()"
   ]
  },
  {
   "cell_type": "markdown",
   "metadata": {},
   "source": [
    "Next, we can save the data in numpy format (.npy), by calling the function save_npy(). The data will be saved in 'raw_lfp/FILENAME', the filename is structure as: MONKEY_NAME_SESSION_DATE.npy, in our example: 'lucy_session01_150128.npy'."
   ]
  },
  {
   "cell_type": "code",
   "execution_count": 11,
   "metadata": {},
   "outputs": [],
   "source": [
    "lfp_data.save_npy()"
   ]
  },
  {
   "cell_type": "markdown",
   "metadata": {},
   "source": [
    "You can check the information saved with the method 'print_saved_info()':"
   ]
  },
  {
   "cell_type": "code",
   "execution_count": 12,
   "metadata": {},
   "outputs": [
    {
     "name": "stdout",
     "output_type": "stream",
     "text": [
      "------------------------+------------------------------------------------------------------------\n",
      "Number of channels      | 49/56\n",
      "------------------------+------------------------------------------------------------------------\n",
      "Number of trials        | 540/1006.0\n",
      "------------------------+------------------------------------------------------------------------\n",
      "Number of channel pairs | 1176\n",
      "------------------------+------------------------------------------------------------------------\n",
      "Pairs matrix            | [array([0, 1]), array([0, 2]), array([0, 3]), array([0, 4]), array([0, 5])]...\n",
      "------------------------+------------------------------------------------------------------------\n",
      "Real trial index        | [ 2  3  4 10 13 14 15 16 19 20]...\n",
      "------------------------+------------------------------------------------------------------------\n",
      "Sample frequency        | 1000 Hz\n",
      "------------------------+------------------------------------------------------------------------\n",
      "Time array              | [-0.65  -0.649 -0.648 -0.647 -0.646 -0.645 -0.644 -0.643 -0.642 -0.641]...\n",
      "------------------------+------------------------------------------------------------------------\n",
      "Real channel labels     | ['1' '4' '9' '13' '16' '17' '22' '23' '26' '27']...\n",
      "------------------------+------------------------------------------------------------------------\n",
      "Duration sample on/off  | [520. 507. 507. 507. 520. 507. 506. 507. 507. 520.]...\n",
      "------------------------+------------------------------------------------------------------------\n",
      "Duration sample/match   | [1973. 1853. 1933. 1786. 1707. 1733. 1639. 1800. 1680. 1719.]...\n",
      "------------------------+------------------------------------------------------------------------\n",
      "Stimulus label          | [1. 4. 1. 3. 1. 3. 1. 4. 0. 2.]...\n",
      "------------------------+------------------------------------------------------------------------\n"
     ]
    }
   ],
   "source": [
    "lfp_data.print_saved_info()"
   ]
  },
  {
   "cell_type": "markdown",
   "metadata": {},
   "source": [
    "But, what exactly is saved? The file saved in the cell above is a dictionary with two keys: 'data', and 'info'. The first one contains the LFP data, the second is a dictionary itself with several informations, below we descrive what is contained in each key of the 'info' dictionary:\n",
    "1. nC : Number of channels used (not necessarily the total number of channels in the data);\n",
    "2. nP : The total number of channel pairs.\n",
    "3. nT : The total number of trials used.\n",
    "4. pairs : A matrix $nP\\times 2$, with the index of channels that form each pair. So, pair 1 is the first row of this matrix, and the number in each column indicates the channel numbers that form this particular pair (this is not the real index of the channels, this one goes from 0 to nC-1, however they can be used to retrieve the original indexes and labels, I will explain this below).\n",
    "5. indt : The real number of each trial used.\n",
    "6. fsample : Frequency sample of the LFP signal.\n",
    "7. tarray : Array containing the time axis (in our example it goes from -0.65 to 3.0).\n",
    "8. channels_labels : Array containing the original channels labels.\n",
    "9. dcue : Array containing the time interval between sample on, and sample off for each trial.\n",
    "10. dsm  : Array containing the time interval between sample on, and match on for each trial.\n",
    "11. stim : Stimulus label for each of the trials used.\n",
    "12. indch: Real index of the channels used.\n",
    "We can load the saved file using:"
   ]
  },
  {
   "cell_type": "code",
   "execution_count": 13,
   "metadata": {},
   "outputs": [],
   "source": [
    "import numpy as np\n",
    "lfp_raw = np.load('raw_lfp/lucy_session01_150128.npy', allow_pickle=True).item()"
   ]
  },
  {
   "cell_type": "markdown",
   "metadata": {},
   "source": [
    "And then check its keys:"
   ]
  },
  {
   "cell_type": "code",
   "execution_count": null,
   "metadata": {},
   "outputs": [
    {
     "name": "stdout",
     "output_type": "stream",
     "text": [
      "Printing dictionary keys\n",
      "------------------------------------------------------------------\n",
      "Keys: dict_keys(['data', 'info'])\n"
     ]
    }
   ],
   "source": [
    "print('Printing dictionary keys')\n",
    "print('------------------------------------------------------------------')\n",
    "print('Keys: ' + str(lfp_raw.keys()))"
   ]
  },
  {
   "cell_type": "markdown",
   "metadata": {},
   "source": [
    "The dictionary 'lfp_raw['data']' contains the matrix with the LFP, let's check 'lfp_raw['info']'."
   ]
  },
  {
   "cell_type": "code",
   "execution_count": null,
   "metadata": {},
   "outputs": [
    {
     "name": "stdout",
     "output_type": "stream",
     "text": [
      "Printing values saved in the info key\n",
      "-------------------------------------------------------------------------------------------------------\n",
      "Number of channels (nC) : 49\n",
      "-------------------------------------------------------------------------------------------------------\n",
      "Number of pairs (nP) : 1176\n",
      "-------------------------------------------------------------------------------------------------------\n",
      "Number of trials (nT) : 540\n",
      "-------------------------------------------------------------------------------------------------------\n",
      "Pairs (pairs) : \n",
      "[[0 1]\n",
      " [0 2]\n",
      " [0 3]\n",
      " [0 4]\n",
      " [0 5]]\n",
      " ...\n",
      "-------------------------------------------------------------------------------------------------------\n",
      "Trial indexes (indt) :[ 2  3  4 10 13 14 15 16 19 20]...\n",
      "-------------------------------------------------------------------------------------------------------\n",
      "Frequency sample (fsample) :1000...\n",
      "-------------------------------------------------------------------------------------------------------\n",
      "Time axis (tarray) : [-0.65 -0.25  0.15  0.55  0.95  1.35  1.75  2.15  2.55  2.95]\n",
      "-------------------------------------------------------------------------------------------------------\n",
      "Channel labels (channels_labels) : ['1' '4' '9' '13' '16' '17' '22' '23' '26' '27']...\n",
      "-------------------------------------------------------------------------------------------------------\n",
      "Duration sample on/off (dcue) : [520. 507. 519. 507. 507. 507. 506. 520. 507. 520. 506.]...\n",
      "-------------------------------------------------------------------------------------------------------\n",
      "Duration sample on/match on (dsm) : [1973. 2013. 1652. 1720. 1626. 1933. 1666. 1706. 1613. 1799. 1786.]...\n",
      "-------------------------------------------------------------------------------------------------------\n",
      "Stimulus label (stim) : [1. 2. 4. 4. 0. 1. 4. 4. 0. 3. 1. 1. 1. 3. 3. 2. 2. 3. 2. 4. 4. 2.]...\n",
      "-------------------------------------------------------------------------------------------------------\n",
      "Real channels indexes (dsm) : [ 1  4  7 10 14 17 20 23 27 30 33 36 39 44 49 52 56]...\n",
      "-------------------------------------------------------------------------------------------------------\n"
     ]
    }
   ],
   "source": [
    "print('Printing values saved in the info key')\n",
    "print('-------------------------------------------------------------------------------------------------------')\n",
    "print('Number of channels (nC) : ' + str(lfp_raw['info']['nC']))\n",
    "print('-------------------------------------------------------------------------------------------------------')\n",
    "print('Number of pairs (nP) : ' + str(lfp_raw['info']['nP']))\n",
    "print('-------------------------------------------------------------------------------------------------------')\n",
    "print('Number of trials (nT) : ' + str(lfp_raw['info']['nT']))\n",
    "print('-------------------------------------------------------------------------------------------------------')\n",
    "print('Pairs (pairs) : \\n' + str(lfp_raw['info']['pairs'][:5,:]) + '\\n ...' ) \n",
    "print('-------------------------------------------------------------------------------------------------------')\n",
    "print('Trial indexes (indt) :' + str(lfp_raw['info']['indt'][:10]) + '...' ) \n",
    "print('-------------------------------------------------------------------------------------------------------')\n",
    "print('Frequency sample (fsample) :' + str(lfp_raw['info']['fsample']) + '...' ) \n",
    "print('-------------------------------------------------------------------------------------------------------')\n",
    "print('Time axis (tarray) : ' + str(lfp_raw['info']['tarray'][::400]))\n",
    "print('-------------------------------------------------------------------------------------------------------')\n",
    "print('Channel labels (channels_labels) : ' + str(lfp_raw['info']['channels_labels'][:10]) + '...')\n",
    "print('-------------------------------------------------------------------------------------------------------')\n",
    "print('Duration sample on/off (dcue) : ' + str(lfp_raw['info']['dcue'][::50])  + '...' )\n",
    "print('-------------------------------------------------------------------------------------------------------')\n",
    "print('Duration sample on/match on (dsm) : ' + str(lfp_raw['info']['dsm'][::50])  + '...' )\n",
    "print('-------------------------------------------------------------------------------------------------------')\n",
    "print('Stimulus label (stim) : ' + str(lfp_raw['info']['stim'][::25])  + '...' )\n",
    "print('-------------------------------------------------------------------------------------------------------')\n",
    "print('Real channels indexes (dsm) : ' + str(lfp_raw['info']['indch'][::3])  + '...' )\n",
    "print('-------------------------------------------------------------------------------------------------------')"
   ]
  },
  {
   "cell_type": "markdown",
   "metadata": {},
   "source": [
    "I would like to point that, if a given session has $nC$ channels, the total number of pairs is $nP = \\text{comb}(nC,2)$ since coherence is simetric. But, how can we keep track of the real channel index, and labels?\n",
    "\n",
    "To illustrate, supose that for a given session, we have $nC = 10$, therfore the real channel indexes are: $I^{\\rm channel}_{\\rm real} = [0,1,2,3,4,5,6,7,8,9]$, however suppose that we are not going to use the channels with index $2$, $6$, and $9$ (due to msmod os slvr for instance), which would result in $I^{\\rm channel}_{\\rm real} = [0,1,3,4,5,7,8]$, and a new $nC^{'} = 7$. \n",
    "\n",
    "Consequentily, $nP = \\text{comb}(7, 2) = 21$. Since arrays are indexed from zero to a maximum length in python, we assign new indexes to our channels that we will call $I^{\\rm channel}_{\\rm python}$, and they go from $0$ to $nC^{'}$. So, $I^{\\rm channel}_{\\rm python}$ is nothing else than the indexes to $I^{\\rm channel}_{\\rm real}$, and we can retrieve the real index of the channel $I^{\\rm channel}_{\\rm python} = 5$ by simply tanking the 5th element of $I^{\\rm channel}_{\\rm python}$, and the channel label, and anatomical area, by their turn, are indexed by $I^{\\rm channel}_{\\rm python}$."
   ]
  },
  {
   "cell_type": "code",
   "execution_count": null,
   "metadata": {},
   "outputs": [
    {
     "name": "stdout",
     "output_type": "stream",
     "text": [
      "---------------------+--------------------\n",
      "Pair index           | 153\n",
      "---------------------+--------------------\n",
      "Channel index        | 3, 16\n",
      "---------------------+--------------------\n",
      "Real channel index   | 3, 30\n",
      "---------------------+--------------------\n",
      "Channel label        | 9, 134\n",
      "---------------------+--------------------\n",
      "Channel region       | F7, LIP\n"
     ]
    }
   ],
   "source": [
    "print('---------------------+--------------------')\n",
    "print('Pair index           | 153')\n",
    "print('---------------------+--------------------')\n",
    "print('Channel index        | ' + str(lfp_data.pairs[153,0]) + ', ' + str(lfp_data.pairs[153,1]) )\n",
    "print('---------------------+--------------------')\n",
    "print('Real channel index   | ' + str(lfp_data.indch[2]) + ', ' + str(lfp_data.indch[27]) )\n",
    "print('---------------------+--------------------')\n",
    "print('Channel label        | ' + str(lfp_data.labels[2]) + ', ' + str(lfp_data.labels[27]) )\n",
    "print('---------------------+--------------------')\n",
    "print('Channel region       | ' + str(lfp_data.recording_info['area'][3]) + ', ' + str(lfp_data.recording_info['area'][31]) )"
   ]
  },
  {
   "cell_type": "markdown",
   "metadata": {},
   "source": [
    "### 2. Demonstration on how to perform spectral analysis using the spectral_analysis class\n",
    "\n",
    "After instatiatig a LFP object as we have shown above, we can use this object to instantiate the class spectral_analysis, it is also possible to instantiate a spectral analysis object by loading the data saved by an LFP object. For now this class can filter (using MNE), and compute pairwise time-frequency coherence of the data.\n",
    "\n",
    "The spectral analysis class can be imported from the GDa package with:"
   ]
  },
  {
   "cell_type": "code",
   "execution_count": null,
   "metadata": {},
   "outputs": [],
   "source": [
    "from GDa.spectral_analysis import spectral_analysis"
   ]
  },
  {
   "cell_type": "markdown",
   "metadata": {},
   "source": [
    "Here we will instantiate the spectral_analysis object using the LFP object that we have created above. To instantiate a spectral_analysis object you have to call the constructor method and give the parameters listed below:\n",
    "1. LFP : An object of the type LFP;\n",
    "2. step: The step used to downsample the LFP signal;\n",
    "3. dt  : The new time resolution used to create the downsampled time-array;\n",
    "4. fc  : The frequency centers used to band-pass the data;\n",
    "5. df  : The frequency resolution, or width of the band-pass filter;"
   ]
  },
  {
   "cell_type": "code",
   "execution_count": null,
   "metadata": {},
   "outputs": [],
   "source": [
    "spectral = spectral_analysis(LFP = lfp_data, step = 25, dt = 250, fc = np.arange(6, 62, 2), df = 4)"
   ]
  },
  {
   "cell_type": "markdown",
   "metadata": {},
   "source": [
    "Remember that the matrix containing the LFP data has dimension $[nT, nC, L]$, where $nT$ is the number of trials, $nC$ the number of channels, and $L$ the number of time points of the data, now the data can also be acessed via the spectral_analysis object since it copy this atribute from the LFP object. We can filter the signal using the spectra_analysis method called _filter_ , we can either (1) give to the function the signal we wish to filter (with dimension $[1,L]$), or (2) specify the trial, and channel number of the signal we wish to filter, as we show below:"
   ]
  },
  {
   "cell_type": "code",
   "execution_count": null,
   "metadata": {
    "scrolled": true
   },
   "outputs": [
    {
     "name": "stdout",
     "output_type": "stream",
     "text": [
      "Filtering signal using method (1)\n"
     ]
    }
   ],
   "source": [
    "print('Filtering signal using method (1)')\n",
    "signal_filtered1 = spectral.filter(signal = spectral.data[0,0,:], f_low = 12, f_high = 16, n_jobs = 1)"
   ]
  },
  {
   "cell_type": "code",
   "execution_count": null,
   "metadata": {},
   "outputs": [
    {
     "name": "stdout",
     "output_type": "stream",
     "text": [
      "Filtering signal using method (2)\n"
     ]
    }
   ],
   "source": [
    "print('Filtering signal using method (2)')\n",
    "signal_filtered2 = spectral.filter(trial = 0, index_channel = 0, f_low = 12, f_high = 16, n_jobs = 1)"
   ]
  },
  {
   "cell_type": "markdown",
   "metadata": {},
   "source": [
    "Now we can plot the original siginal alongside the filtered signal:"
   ]
  },
  {
   "cell_type": "code",
   "execution_count": null,
   "metadata": {},
   "outputs": [
    {
     "data": {
      "text/plain": [
       "Text(0.5, 1.0, 'Signal filtered on 12-16 Hz band')"
      ]
     },
     "execution_count": 21,
     "metadata": {},
     "output_type": "execute_result"
    },
    {
     "data": {
      "image/png": "[encoded data removed]",
      "text/plain": [
       "<Figure size 432x288 with 1 Axes>"
      ]
     },
     "metadata": {
      "needs_background": "light"
     },
     "output_type": "display_data"
    }
   ],
   "source": [
    "plt.plot(spectral.tarray, spectral.data[0,0,:], label = 'Original signal')\n",
    "plt.plot(spectral.tarray, signal_filtered1, '--',lw = 3,label = 'Filtered signal (1)')\n",
    "plt.plot(spectral.tarray, signal_filtered2, '-.', lw = 3, label = 'Filtered signal (2)')\n",
    "#plt.xlim([0.5,1.5])\n",
    "plt.legend()\n",
    "plt.xlabel('Time (ms)')\n",
    "plt.ylabel('LFP (mV)')\n",
    "plt.title('Signal filtered on 12-16 Hz band')"
   ]
  },
  {
   "cell_type": "markdown",
   "metadata": {},
   "source": [
    "Finally, we can compute pairwise coherece using the 'pairwise_coherence()' method, this method receives as argument:\n",
    "1. trial: The trial of the data to use;\n",
    "2. index_pair: The index of the channel pair, it contains the index of the two channels that form this specific pair.\n",
    "3. n_jobs: The number of jobs to use."
   ]
  },
  {
   "cell_type": "code",
   "execution_count": null,
   "metadata": {},
   "outputs": [
    {
     "name": "stdout",
     "output_type": "stream",
     "text": [
      "Trial: 0, Pair: 0\n"
     ]
    }
   ],
   "source": [
    "spectral.pairwise_coherence(0, 0, n_jobs = 40)"
   ]
  },
  {
   "cell_type": "markdown",
   "metadata": {},
   "source": [
    "We can plot the pairwise coherence then:"
   ]
  },
  {
   "cell_type": "code",
   "execution_count": null,
   "metadata": {},
   "outputs": [],
   "source": [
    "plt.imshow(spectral.coh.T, aspect='auto', cmap='jet', origin = 'lower', interpolation = 'gaussian', extent=[-0.65, 3, 6, 62])\n",
    "plt.colorbar()\n",
    "plt.title('Coherence between channel ' + str(lfp_data.labels[lfp_data.pairs[0,0]]) + ', and ' + str(lfp_data.labels[lfp_data.pairs[0,1]]) )\n",
    "plt.ylabel(r'$F_{c}$ [Hz]')\n",
    "plt.xlabel('Time (ms)')"
   ]
  },
  {
   "cell_type": "markdown",
   "metadata": {},
   "source": [
    "Alternatively, you could do the same as it was done above, but instead of using an LFP object you can load the data saved by the LFP object to instantiate the spectral_analysis class. To do that, you must give the path to the '.npy' file instead of the LFP object."
   ]
  },
  {
   "cell_type": "code",
   "execution_count": null,
   "metadata": {},
   "outputs": [],
   "source": [
    "spectral = spectral_analysis(path = 'raw_lfp/lucy_session01_150128.npy', step = 25, dt = 250, fc = np.arange(6, 62, 2), df = 4)"
   ]
  },
  {
   "cell_type": "code",
   "execution_count": null,
   "metadata": {},
   "outputs": [],
   "source": [
    "print('Filtering signal using method (1)')\n",
    "signal_filtered1 = spectral.filter(signal = spectral.data[0,0,:], f_low = 12, f_high = 16, n_jobs = 1)"
   ]
  },
  {
   "cell_type": "code",
   "execution_count": null,
   "metadata": {},
   "outputs": [],
   "source": [
    "print('Filtering signal using method (2)')\n",
    "signal_filtered2 = spectral.filter(trial = 0, index_channel = 0, f_low = 12, f_high = 16, n_jobs = 1)"
   ]
  },
  {
   "cell_type": "code",
   "execution_count": null,
   "metadata": {},
   "outputs": [],
   "source": [
    "spectral.pairwise_coherence(0, 0, n_jobs = 40)"
   ]
  },
  {
   "cell_type": "code",
   "execution_count": null,
   "metadata": {},
   "outputs": [],
   "source": [
    "plt.imshow(spectral.coh.T, aspect='auto', cmap='jet', origin = 'lower', interpolation = 'gaussian', extent=[-0.65, 3, 6, 62])\n",
    "plt.colorbar()\n",
    "plt.title('Coherence between channel ' + str(lfp_data.labels[lfp_data.pairs[0,0]]) + ', and ' + str(lfp_data.labels[lfp_data.pairs[0,1]]) )\n",
    "plt.ylabel(r'$F_{c}$ [Hz]')\n",
    "plt.xlabel('Time (ms)')"
   ]
  },
  {
   "cell_type": "markdown",
   "metadata": {},
   "source": [
    "As can be seen the results are equivalent as expected. And you can instantiate the object in the way it is more convenient."
   ]
  },
  {
   "cell_type": "code",
   "execution_count": null,
   "metadata": {},
   "outputs": [],
   "source": []
  }
 ],
 "metadata": {
  "kernelspec": {
   "display_name": "Python 3",
   "language": "python",
   "name": "python3"
  },
  "language_info": {
   "codemirror_mode": {
    "name": "ipython",
    "version": 3
   },
   "file_extension": ".py",
   "mimetype": "text/x-python",
   "name": "python",
   "nbconvert_exporter": "python",
   "pygments_lexer": "ipython3",
   "version": "3.6.8"
  }
 },
 "nbformat": 4,
 "nbformat_minor": 4
}
