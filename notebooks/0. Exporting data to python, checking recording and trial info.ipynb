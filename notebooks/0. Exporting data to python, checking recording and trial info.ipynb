{
 "cells": [
  {
   "cell_type": "code",
   "execution_count": 1,
   "metadata": {},
   "outputs": [],
   "source": [
    "import numpy             as np\n",
    "import matplotlib.pyplot as plt \n",
    "import scipy.special     \n",
    "import h5py\n",
    "import os\n",
    "import glob\n",
    "from   GDa.io   import read_mat, set_paths"
   ]
  },
  {
   "cell_type": "markdown",
   "metadata": {},
   "source": [
    "#### Class to load session trial and recording info"
   ]
  },
  {
   "cell_type": "code",
   "execution_count": 2,
   "metadata": {},
   "outputs": [],
   "source": [
    "class session_info():\n",
    "    \n",
    "    def __init__(self, raw_path = 'GrayLab/', monkey = 'lucy', date = '150128', session = 1):\n",
    "        #Check for incorrect parameter values\n",
    "        if monkey not in ['lucy', 'ethyl']:\n",
    "            raise ValueError('monkey should be either \"lucy\" or \"ethyl\"')\n",
    "        # Class atributes\n",
    "        self.monkey  = monkey\n",
    "        self.date    = date\n",
    "        self.session = 'session0' + str(session)\n",
    "        # Creating paths to load and save data\n",
    "        self.__paths    = set_paths(raw_path = raw_path, monkey = monkey, date = date, session = session)\n",
    "        # To load .mat files\n",
    "        self.__load_mat = read_mat()\n",
    "        # Actually read the info\n",
    "        self.__read_session_info()\n",
    "        \n",
    "    def __read_session_info(self, ):\n",
    "        # Recording and trial info\n",
    "        info = ['recording_info.mat', 'trial_info.mat'] \n",
    "        ri   = self.__load_mat.read_mat(os.path.join(self.__paths.dir,info[0]) )['recording_info']\n",
    "        ti   = self.__load_mat.read_HDF5(os.path.join(self.__paths.dir,info[1]) )['trial_info']\n",
    "        # Storing the recording and trial infor into dictionaries\n",
    "        self.trial_info     = {}\n",
    "        self.recording_info = {}\n",
    "        for key in ri._fieldnames:\n",
    "            self.recording_info[key] = np.squeeze(ri.__dict__[key])\n",
    "        for key in ti.keys():\n",
    "            self.trial_info[key] = np.squeeze(ti[key])\n",
    "    \n",
    "    def print_paths(self, ):\n",
    "        print('dir: ' + self.__paths.dir)\n",
    "        print('dir_out: ' + self.__paths.dir_out)"
   ]
  },
  {
   "cell_type": "markdown",
   "metadata": {},
   "source": [
    "#### Instantiate class and check the information"
   ]
  },
  {
   "cell_type": "code",
   "execution_count": 3,
   "metadata": {},
   "outputs": [],
   "source": [
    "si = session_info(raw_path = 'GrayLab/', monkey = 'lucy', date = '150128', session = 1)"
   ]
  },
  {
   "cell_type": "markdown",
   "metadata": {},
   "source": [
    "We can now check which are the trial and recording information stored in 'recording_info.mat' and 'trial_info.mat'. As Steve said in recording info we should have:\n",
    "\n",
    "#### Recording info:\n",
    "- image_locations: x,y location of images in degrees;\n",
    "- image_names: names of the images;\n",
    "- image_data: rgb matrices;\n",
    "- channel_count: number of electrodes used during recording session;\n",
    "- channel_numbers: electrode number;\n",
    "- area: cell array containing the cortical area each electrode was in during recording session;\n",
    "- depth: depth of each electrode during recording session;\n",
    "- raw_data_sampling_rate: sampling rate of raw data\n",
    "- calib_eye_sampling_rate: sampling rate of the eye data from Monkey Logic software\n",
    "- number_sua: this is the number of single units on each electrode (note: all channels have mua);\n",
    "\n",
    "#### Trial info:\n",
    "\n",
    "- trial_type: 1 match-to-sample, 2 interleaved fixation trials, 3 blocked fixation trials, and 4 blank trials;\n",
    "- sample_on: time that sample image was turned on (milliseconds);\n",
    "- sample_off: time that sample image was turned off (milliseconds);\n",
    "- match_on: time that the matching image and a distractor image are turned on (fixation point is simultaneously turned off);\n",
    "- reaction_time: time taken for animal to make a saccade to the matching image;\n",
    "- sample_image: number identifying which image was used for the sample;\n",
    "- sample_location: number identifying the location of the sample image;\n",
    "- match_image: number identifying the image that corresponds to the sample_image;\n",
    "- match_location: number identifying the location of the matching image;\n",
    "- nonmatch_image: number identifying the image that is not the matching image;\n",
    "- nonmatch_location: number identifying the location of the non matching image;\n",
    "- behavioral_response: 0 incorrect, 1 correct;\n",
    "- num_trials: number of trials performed;\n",
    "\n",
    "Let's print the keys of the dictionaries to check"
   ]
  },
  {
   "cell_type": "code",
   "execution_count": 4,
   "metadata": {},
   "outputs": [
    {
     "name": "stdout",
     "output_type": "stream",
     "text": [
      "Recording informations:\n",
      "\n",
      "dict_keys(['image_locations', 'image_names', 'image_data', 'channel_count', 'channel_numbers', 'area', 'depth', 'lfp_sampling_rate', 'calib_eye_sampling_rate', 'number_sua', 'ms_mod', 'slvr'])\n"
     ]
    }
   ],
   "source": [
    "print('Recording informations:\\n')\n",
    "print(si.recording_info.keys())"
   ]
  },
  {
   "cell_type": "code",
   "execution_count": 5,
   "metadata": {},
   "outputs": [
    {
     "name": "stdout",
     "output_type": "stream",
     "text": [
      "Trial informations:\n",
      "\n",
      "dict_keys(['behavioral_response', 'match_image', 'match_location', 'match_on', 'nonmatch_image', 'nonmatch_location', 'num_trials', 'reaction_time', 'sample_image', 'sample_location', 'sample_off', 'sample_on', 'trial_type'])\n"
     ]
    }
   ],
   "source": [
    "print('Trial informations:\\n')\n",
    "print(si.trial_info.keys())"
   ]
  },
  {
   "cell_type": "markdown",
   "metadata": {},
   "source": [
    "#### Class to load the LFP data"
   ]
  },
  {
   "cell_type": "code",
   "execution_count": 149,
   "metadata": {},
   "outputs": [],
   "source": [
    "class session(session_info):\n",
    "    \n",
    "    def __init__(self, raw_path = 'GrayLab/', monkey = 'lucy', date = '150128', session = 1,\n",
    "                 slvr_msmod = False, align_to = 'cue', trial_type = 1, \n",
    "                 behavioral_response = None, evt_dt = [-0.65, 3.00], save_to_h5 = True):\n",
    "        #Check for incorrect parameter values\n",
    "        if monkey not in ['lucy', 'ethyl']:\n",
    "            raise ValueError('monkey should be either \"lucy\" or \"ethyl\"')\n",
    "            \n",
    "        if align_to not in ['cue', 'match']:\n",
    "            raise ValueError('align_to should be either \"cue\" or \"match\"')\n",
    "            \n",
    "        if behavioral_response not in [0, 1, None]:\n",
    "            raise ValueError('behavioral_response should be either 0 (correct), 1 (incorrect) or None (both)')\n",
    "            \n",
    "        if trial_type not in [1, 2, 3, 4]:\n",
    "            raise ValueError('trial_type should be either 1 (DRT), 2 (intervealed fixation), 3 (blocked fixation) or 4 (blank trials)')       \n",
    "        \n",
    "        if trial_type in [2,3] and behavioral_response is not None:\n",
    "            raise ValueError('For trial type 2 or 3 behavioral_response should be None')\n",
    "        \n",
    "        # Instantiating father class session_info\n",
    "        super().__init__(raw_path = raw_path, monkey = monkey, date = date, session = session)\n",
    "        \n",
    "        # Creating paths to load and save data\n",
    "        self.__paths    = set_paths(raw_path = raw_path, monkey = monkey, date = date, session = session)\n",
    "        self.__load_mat = read_mat()\n",
    "        \n",
    "        # Storing class atributes\n",
    "        self.slvr_msmod = slvr_msmod\n",
    "        self.trial_type = trial_type\n",
    "        self.evt_dt     = evt_dt\n",
    "        self.align_to   = align_to\n",
    "        self.behavioral_response = behavioral_response\n",
    "    \n",
    "        # Atually reads the data\n",
    "        self.__read_lfp_data()\n",
    "        \n",
    "        # Save the data to h5\n",
    "        if save_to_h5:\n",
    "            self.__save_h5()\n",
    "        \n",
    "    def __read_lfp_data(self, ):\n",
    "        \n",
    "        # Get file names\n",
    "        files = sorted(glob.glob( os.path.join(self.__paths.dir, self.date+'*') ))\n",
    "        # Cue onset/offset and match onset times\n",
    "        t_con   = self.trial_info['sample_on']\n",
    "        t_coff  = self.trial_info['sample_off']\n",
    "        t_mon   = self.trial_info['match_on']\n",
    "        \n",
    "        # Choose if is aligned to cue or to match\n",
    "        if self.align_to == 'cue':\n",
    "            t0 = t_con\n",
    "        elif self.align_to == 'match':\n",
    "            t0 = t_mon\n",
    "        \n",
    "        # Channels index array\n",
    "        indch   = np.arange(self.recording_info['channel_count'], dtype = int)\n",
    "        # Exclude channels with short latency visual respose (slvr) and microsacade modulation (ms_mod)\n",
    "        if self.slvr_msmod == False:\n",
    "            idx_slvr_msmod = (self.recording_info['slvr'] == 0) & (self.recording_info['ms_mod'] == 0)\n",
    "            indch          = indch[idx_slvr_msmod]\n",
    "        # Selecting trials\n",
    "        if self.behavioral_response is not None:\n",
    "            indt_idx = (self.trial_info['trial_type'] == self.trial_type) & (self.trial_info['behavioral_response'] == self.behavioral_response)\n",
    "            indt = np.arange(self.trial_info['num_trials'], dtype=int)[indt_idx]\n",
    "        else:\n",
    "            indt_idx = self.trial_info['trial_type'] == self.trial_type\n",
    "            indt = np.arange(self.trial_info['num_trials'], dtype=int)[indt_idx]\n",
    "        \n",
    "        # Number of trials selected\n",
    "        n_trials = len(indt)\n",
    "        # Number of time points\n",
    "        n_times  = int( self.recording_info['lfp_sampling_rate'] * (self.evt_dt[1]-self.evt_dt[0]) )\n",
    "        # Number of channels selected\n",
    "        n_channels = len(indch)\n",
    "        \n",
    "        # Tensor to store the LFP data NtrialsxNchannelsxTime\n",
    "        self.data = np.empty([n_trials, n_channels, n_times]) # LFP data\n",
    "        # Time array\n",
    "        self.time = np.arange(self.evt_dt[0], self.evt_dt[1], 1/self.recording_info['lfp_sampling_rate'])\n",
    "        #self.time = np.empty([n_trials, n_times])             # Time vector for each trial\n",
    "        \n",
    "        # For each selected trial\n",
    "        for i,nt in zip(range(len(indt)), indt):\n",
    "            f        = self.__load_mat.read_HDF5(files[nt])\n",
    "            lfp_data = np.transpose( f['lfp_data'] )\n",
    "            # Beggining and ending time index for this t0\n",
    "            indb     = int(t0[nt] + self.recording_info['lfp_sampling_rate']*self.evt_dt[0])\n",
    "            inde     = int(t0[nt] + self.recording_info['lfp_sampling_rate']*self.evt_dt[1])\n",
    "            # Time index array\n",
    "            ind      = np.arange(indb, inde+1, dtype = int)\n",
    "            # LFP data, dimension NtrialsxNchannelsxTime\n",
    "            self.data[i] = lfp_data[indch, indb:inde]\n",
    "            \n",
    "        # Stimulus presented for the selected trials \n",
    "        stimulus = self.trial_info['sample_image'][indt]\n",
    "        # Labels of the selected channels\n",
    "        labels   = self.recording_info['channel_numbers'][indch]\n",
    "        # Number of possible pairs (undirected network)\n",
    "        nP       = int( scipy.special.comb(n_channels, 2) )\n",
    "        # Every pair combination\n",
    "        i, j     = np.tril_indices(n_channels)\n",
    "        pairs    = np.array([i,j]).T\n",
    "        # Area names for selected channels \n",
    "        area     = self.recording_info['area'][indch]\n",
    "        area     = np.array(area, dtype='S')\n",
    "        # Store to dictionary\n",
    "        self.readinfo = {'nC': n_channels, 'nP':nP, 'nT':n_trials, 'pairs': pairs,\n",
    "                         'indt': indt, 'fsample': self.recording_info['lfp_sampling_rate'],\n",
    "                         'tarray': self.time, 'channels_labels': labels, 'stim':stimulus,\n",
    "                         'indch': indch, 'areas': area, 't_cue_on': t_con[indt] ,\n",
    "                         't_cue_off': t_coff[indt], 't_match_on': t_mon[indt]\n",
    "                         }\n",
    "        \n",
    "    def __save_h5(self,):\n",
    "        file_name = os.path.join('raw_lfp', self.monkey + '_' + self.session + '_' + self.date + '.h5')\n",
    "        try:\n",
    "            hf = h5py.File(file_name, 'r+')\n",
    "        except:\n",
    "            hf = h5py.File(file_name, 'w')\n",
    "\n",
    "        # Create group relative to the trial type, the aligment and to the behavioral response\n",
    "        group = os.path.join('trial_type_'+str(self.trial_type), \n",
    "                                 'aligned_to_' + str(self.align_to),\n",
    "                                 'behavioral_response_'+str(self.behavioral_response)) \n",
    "        # Crate group and save data\n",
    "        g1 = hf.create_group(group)\n",
    "        # Save LFP data\n",
    "        g1.create_dataset('data', data=self.data)\n",
    "        # Save information on 'readinfo' dict.\n",
    "        [g1.create_dataset('info/'+k, data=self.readinfo[k]) for k in self.readinfo.keys()]\n",
    "        # Save dir and dir_out paths\n",
    "        g1.create_dataset('path/dir', data=self.__paths.dir)\n",
    "        g1.create_dataset('path/dir_out', data=self.__paths.dir_out)\n",
    "        hf.close()"
   ]
  },
  {
   "cell_type": "code",
   "execution_count": 150,
   "metadata": {},
   "outputs": [],
   "source": [
    "s = session(raw_path = 'GrayLab/', monkey = 'lucy', date = '150128', session = 1,\n",
    "            slvr_msmod = False, align_to = 'cue', trial_type = 1, \n",
    "            behavioral_response = 1, evt_dt = [-0.65, 3.00])"
   ]
  },
  {
   "cell_type": "code",
   "execution_count": 151,
   "metadata": {},
   "outputs": [
    {
     "data": {
      "text/plain": [
       "[<matplotlib.lines.Line2D at 0x7f6170b64710>]"
      ]
     },
     "execution_count": 151,
     "metadata": {},
     "output_type": "execute_result"
    },
    {
     "data": {
      "image/png": "[encoded data removed]",
      "text/plain": [
       "<Figure size 432x288 with 1 Axes>"
      ]
     },
     "metadata": {
      "needs_background": "light"
     },
     "output_type": "display_data"
    }
   ],
   "source": [
    "plt.plot(s.time, s.data[0,0,:])\n",
    "plt.plot(s.time, s.data[0,10,:])"
   ]
  },
  {
   "cell_type": "code",
   "execution_count": 166,
   "metadata": {},
   "outputs": [],
   "source": [
    "s = session(raw_path = 'GrayLab/', monkey = 'lucy', date = '150128', session = 1,\n",
    "            slvr_msmod = False, align_to = 'cue', trial_type = 2, \n",
    "            behavioral_response = None, evt_dt = [-0.65, 3.00])"
   ]
  },
  {
   "cell_type": "code",
   "execution_count": 174,
   "metadata": {},
   "outputs": [
    {
     "name": "stdout",
     "output_type": "stream",
     "text": [
      "<KeysViewHDF5 ['behavioral_response_None']>\n"
     ]
    }
   ],
   "source": [
    "with h5py.File('raw_lfp/lucy_session01_150128.h5', 'r') as hf:\n",
    "    print(hf['trial_type_2/aligned_to_cue'].keys())\n",
    "    data1 = np.array(hf.get('trial_type_1/aligned_to_cue/behavioral_response_0/data'))\n",
    "    data2 = np.array(hf.get('trial_type_1/aligned_to_cue/behavioral_response_1/data'))"
   ]
  },
  {
   "cell_type": "code",
   "execution_count": null,
   "metadata": {},
   "outputs": [],
   "source": []
  }
 ],
 "metadata": {
  "kernelspec": {
   "display_name": "Python 3",
   "language": "python",
   "name": "python3"
  },
  "language_info": {
   "codemirror_mode": {
    "name": "ipython",
    "version": 3
   },
   "file_extension": ".py",
   "mimetype": "text/x-python",
   "name": "python",
   "nbconvert_exporter": "python",
   "pygments_lexer": "ipython3",
   "version": "3.6.8"
  }
 },
 "nbformat": 4,
 "nbformat_minor": 2
}
