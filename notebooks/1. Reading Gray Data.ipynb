{
 "cells": [
  {
   "cell_type": "markdown",
   "metadata": {},
   "source": [
    "### Demonstration on how to read a given section of the Gray data with the session class\n",
    "\n",
    "The session class is part of the GDa (Gray Data Analysis) package, and it is used to read and save the session info of the gray data in h5 format for further processing such as the pairwise coherence computation and temporal network analysis.\n",
    "\n",
    "It can be imported as:"
   ]
  },
  {
   "cell_type": "code",
   "execution_count": 1,
   "metadata": {},
   "outputs": [],
   "source": [
    "import sys\n",
    "sys.path.insert(1, '/home/vinicius/GrayData-Analysis')\n",
    "\n",
    "import h5py\n",
    "import numpy as np\n",
    "\n",
    "from wand.image  import Image as WImage # To plot pdf files in the notebookS\n",
    "from GDa.session import session_info, session"
   ]
  },
  {
   "cell_type": "markdown",
   "metadata": {},
   "source": [
    "The session_info class will load the recording and trial information for a given session. These informations are stored on the files 'recording_info.mat' and 'trial_info.mat' and they contain the following information:\n",
    "\n",
    "#### Recording info:\n",
    "- image_locations: x,y location of images in degrees;\n",
    "- image_names: names of the images;\n",
    "- image_data: rgb matrices;\n",
    "- channel_count: number of electrodes used during recording session;\n",
    "- channel_numbers: electrode number;\n",
    "- area: cell array containing the cortical area each electrode was in during recording session;\n",
    "- depth: depth of each electrode during recording session;\n",
    "- raw_data_sampling_rate: sampling rate of raw data\n",
    "- calib_eye_sampling_rate: sampling rate of the eye data from Monkey Logic software\n",
    "- number_sua: this is the number of single units on each electrode (note: all channels have mua);\n",
    "\n",
    "#### Trial info:\n",
    "\n",
    "- trial_type: 1 match-to-sample, 2 interleaved fixation trials, 3 blocked fixation trials, and 4 blank trials;\n",
    "- sample_on: time that sample image was turned on (milliseconds);\n",
    "- sample_off: time that sample image was turned off (milliseconds);\n",
    "- match_on: time that the matching image and a distractor image are turned on (fixation point is simultaneously turned off);\n",
    "- reaction_time: time taken for animal to make a saccade to the matching image;\n",
    "- sample_image: number identifying which image was used for the sample;\n",
    "- sample_location: number identifying the location of the sample image;\n",
    "- match_image: number identifying the image that corresponds to the sample_image;\n",
    "- match_location: number identifying the location of the matching image;\n",
    "- nonmatch_image: number identifying the image that is not the matching image;\n",
    "- nonmatch_location: number identifying the location of the non matching image;\n",
    "- behavioral_response: 0 incorrect, 1 correct;\n",
    "- num_trials: number of trials performed;"
   ]
  },
  {
   "cell_type": "markdown",
   "metadata": {},
   "source": [
    "To instantiate a session_info class you have to call the constructor method and give the necessary parameters (go to the source code for further details):"
   ]
  },
  {
   "cell_type": "code",
   "execution_count": 2,
   "metadata": {},
   "outputs": [],
   "source": [
    "si = session_info(raw_path = '../GrayLab/', monkey = 'lucy', date = '150128', session = 1)"
   ]
  },
  {
   "cell_type": "markdown",
   "metadata": {},
   "source": [
    "This will load the inforamtion for monkey lucy, recording sesssion 1 and date 150128. Let's print the keys of the dictionaries to check the information that we just read:"
   ]
  },
  {
   "cell_type": "code",
   "execution_count": 3,
   "metadata": {},
   "outputs": [
    {
     "name": "stdout",
     "output_type": "stream",
     "text": [
      "Recording informations:\n",
      "\n",
      "dict_keys(['image_locations', 'image_names', 'image_data', 'channel_count', 'channel_numbers', 'area', 'depth', 'lfp_sampling_rate', 'calib_eye_sampling_rate', 'number_sua', 'ms_mod', 'slvr'])\n"
     ]
    }
   ],
   "source": [
    "print('Recording informations:\\n')\n",
    "print(si.recording_info.keys())"
   ]
  },
  {
   "cell_type": "code",
   "execution_count": 4,
   "metadata": {},
   "outputs": [
    {
     "name": "stdout",
     "output_type": "stream",
     "text": [
      "Trial informations:\n",
      "\n",
      "dict_keys(['behavioral_response', 'match_image', 'match_location', 'match_on', 'nonmatch_image', 'nonmatch_location', 'num_trials', 'reaction_time', 'sample_image', 'sample_location', 'sample_off', 'sample_on', 'trial_type'])\n"
     ]
    }
   ],
   "source": [
    "print('Trial informations:\\n')\n",
    "print(si.trial_info.keys())"
   ]
  },
  {
   "cell_type": "markdown",
   "metadata": {},
   "source": [
    "The class session inherits from session_info consequently its constuctor method receives the same parameters. However a few other parameters should be provided:\n",
    "\n",
    "1. slvr_msmod (boolean, default = False): wheter to read or not data from channels with slvr and ms_mod;\n",
    "2. align_to (str, default = 'cue'): wheter to align to 'cue' or 'match';\n",
    "3. trial_type (int, default = 1): which type of trial to load 1 (drt), 2 (intervealed fixation), 3 (blocked fixation) or 4 (blank trials);\n",
    "4. behavioral_response (int, default = 1): which type of trials to select  0 (correct), 1 (incorrect) or None (both);\n",
    "5. evt_dt (list, default = [-0.65, 3.00]): the begining and end time of the time-series relative to the reference (cue or match).\n",
    "6. save_to_h5 (boolean, default = False): wheter to save to data to an h5 file;\n",
    "7. h5_path (str, default = None): the path to save the h5 file;"
   ]
  },
  {
   "cell_type": "code",
   "execution_count": 7,
   "metadata": {},
   "outputs": [],
   "source": [
    "s = session(raw_path = '../GrayLab/', monkey = 'lucy', date = '150128', session = 1,\\\n",
    "            slvr_msmod = False, align_to = 'cue', trial_type = 1, \\\n",
    "            behavioral_response = 1, evt_dt = [-0.65, 3.00], save_to_h5=True, h5_path='../raw_lfp')"
   ]
  },
  {
   "cell_type": "markdown",
   "metadata": {},
   "source": [
    "The information for this session is stored on the dictionary __readinfo__ inside the class:"
   ]
  },
  {
   "cell_type": "code",
   "execution_count": 8,
   "metadata": {},
   "outputs": [
    {
     "name": "stdout",
     "output_type": "stream",
     "text": [
      "Session info.\n",
      "------------------------------------------------------------------\n",
      "dict_keys(['nC', 'nP', 'nT', 'pairs', 'indt', 'fsample', 'tarray', 'channels_labels', 'stim', 'indch', 'areas', 't_cue_on', 't_cue_off', 't_match_on'])\n"
     ]
    }
   ],
   "source": [
    "print('Session info.')\n",
    "print('------------------------------------------------------------------')\n",
    "print(s.readinfo.keys())"
   ]
  },
  {
   "cell_type": "markdown",
   "metadata": {},
   "source": [
    "The information stored in each of the keys in __readinfo__ is detailed bellow:\n",
    "\n",
    "1. nC : Number of channels saved (not necessarily the total number of channels in the data);\n",
    "2. nP : The total number of channel pairs.\n",
    "3. nT : The total number of trials used.\n",
    "4. pairs : A matrix $nP\\times 2$, with the index of channels that form each pair.\n",
    "5. indt : The number of each trial saved.\n",
    "6. fsample : Frequency sample of the LFP signal.\n",
    "7. tarray : Array containing the time axis (in our example it goes from -0.65 to 3.0).\n",
    "8. channels_labels : Array containing the original channels labels.\n",
    "9. stim : Stimulus label for each of the trials used.\n",
    "10. indch: Index of the channels used.\n",
    "11. areas: The name of the area of each channel.\n",
    "12. t_cue_on: The time at which cue was turned on.\n",
    "13. t_cue_off: The time at which cue was turned off.\n",
    "14. t_match_on: The time at which match was turned on.\n",
    "\n",
    "\n",
    "If you set __save_to_h5__ to True a h5 file will be created on __h5_path__, the hierachy of the file is detailed in the figure bellow. The file name for this example will be named 'lucy_session01_150128.h5', if you set __trial_type=1__, __align_to='cue'__, and __behavioral_response=1__, the data will be stored in the hierarchy given by the red squares in the figure bellow. If after you instantiate the class  but using __trial_type=3__, __align_to='match'__, and __behavioral_response=None__ the respective data will be stored in tha same file but in the hierachy represented by the green squares."
   ]
  },
  {
   "cell_type": "code",
   "execution_count": 9,
   "metadata": {},
   "outputs": [
    {
     "data": {
      "image/png": "[encoded data removed]",
      "text/plain": [
       "<wand.image.Image: 863e603 'PDF' (829x469)>"
      ]
     },
     "execution_count": 9,
     "metadata": {},
     "output_type": "execute_result"
    }
   ],
   "source": [
    "img = WImage(filename='img/data_hier.pdf')\n",
    "img"
   ]
  }
 ],
 "metadata": {
  "kernelspec": {
   "display_name": "Python 3",
   "language": "python",
   "name": "python3"
  },
  "language_info": {
   "codemirror_mode": {
    "name": "ipython",
    "version": 3
   },
   "file_extension": ".py",
   "mimetype": "text/x-python",
   "name": "python",
   "nbconvert_exporter": "python",
   "pygments_lexer": "ipython3",
   "version": "3.6.8"
  }
 },
 "nbformat": 4,
 "nbformat_minor": 4
}
