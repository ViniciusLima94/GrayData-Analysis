{
 "cells": [
  {
   "cell_type": "markdown",
   "id": "a28069d6-38f7-4dba-bea9-4d31c2902e90",
   "metadata": {},
   "source": [
    "### Comparison of the coherence metric between the original and surrogate data"
   ]
  },
  {
   "cell_type": "code",
   "execution_count": 1,
   "id": "6b9e4bcc-40f1-41d5-ab7e-deac0585f17c",
   "metadata": {},
   "outputs": [],
   "source": [
    "import sys\n",
    "sys.path.insert(1, '/home/vinicius/storage1/projects/GrayData-Analysis')\n",
    "\n",
    "import time\n",
    "import scipy\n",
    "import h5py\n",
    "import numpy                 as     np\n",
    "import xarray                as     xr\n",
    "import pandas                as     pd\n",
    "import matplotlib.pyplot     as     plt\n",
    "import seaborn               as     sns\n",
    "from   tqdm                  import tqdm\n",
    "from   xfrites.conn.conn_coh import conn_coherence_wav\n",
    "\n",
    "from GDa.session             import session_info, session\n",
    "from GDa.signal.surrogates   import phase_rand_surrogates"
   ]
  },
  {
   "cell_type": "markdown",
   "id": "55f7b9e1-c37a-43d7-9f3c-5393778ff4c0",
   "metadata": {},
   "source": [
    "#### Loading data - for correct task trials"
   ]
  },
  {
   "cell_type": "code",
   "execution_count": 2,
   "id": "d5c7f227-34aa-410b-b190-42a16ea39345",
   "metadata": {},
   "outputs": [],
   "source": [
    "# Instantiate class\n",
    "s = session(raw_path = '../GrayLab/', monkey = 'lucy', date = '150128', session = 1,\n",
    "            slvr_msmod = False, align_to = 'cue', evt_dt = [-0.65, 3.00])\n",
    "# Read data from .mat files\n",
    "s.read_from_mat()"
   ]
  },
  {
   "cell_type": "code",
   "execution_count": 3,
   "id": "aae28399-d665-420d-a3d5-2ceddab9ebcc",
   "metadata": {},
   "outputs": [],
   "source": [
    "idx  = s.trial_info[(s.trial_info['trial_type']==1.0) \\\n",
    "                    & (s.trial_info['behavioral_response']==1.0)].trial_index.values"
   ]
  },
  {
   "cell_type": "code",
   "execution_count": 4,
   "id": "44c94ee7-3e5c-41e8-888d-c7e5a47a7827",
   "metadata": {},
   "outputs": [],
   "source": [
    "data = s.data.sel(trials=idx).isel(roi=[47,48])"
   ]
  },
  {
   "cell_type": "markdown",
   "id": "8434b324-03b8-48b7-97b6-cd6fe047feae",
   "metadata": {},
   "source": [
    "#### Generate surrogates"
   ]
  },
  {
   "cell_type": "code",
   "execution_count": 5,
   "id": "a231bfd3-0d05-47e9-9446-c6c0569d1a33",
   "metadata": {
    "tags": []
   },
   "outputs": [
    {
     "name": "stderr",
     "output_type": "stream",
     "text": [
      "  0%|          | 0/10 [00:00<?, ?it/s]"
     ]
    },
    {
     "data": {
      "application/vnd.jupyter.widget-view+json": {
       "model_id": "eed4e3aba0fa4e5a840d0ace894db125",
       "version_major": 2,
       "version_minor": 0
      },
      "text/plain": [
       "  0%|          |  : 0/540 [00:00<?,       ?it/s]"
      ]
     },
     "metadata": {},
     "output_type": "display_data"
    },
    {
     "name": "stderr",
     "output_type": "stream",
     "text": [
      " 10%|█         | 1/10 [00:05<00:51,  5.73s/it]"
     ]
    },
    {
     "data": {
      "application/vnd.jupyter.widget-view+json": {
       "model_id": "0a2ca7dca04b4db897fedfe322b16b0e",
       "version_major": 2,
       "version_minor": 0
      },
      "text/plain": [
       "  0%|          |  : 0/540 [00:00<?,       ?it/s]"
      ]
     },
     "metadata": {},
     "output_type": "display_data"
    },
    {
     "name": "stderr",
     "output_type": "stream",
     "text": [
      " 20%|██        | 2/10 [00:06<00:24,  3.06s/it]"
     ]
    },
    {
     "data": {
      "application/vnd.jupyter.widget-view+json": {
       "model_id": "9c03ae2adcaf45f2a0919553ee805449",
       "version_major": 2,
       "version_minor": 0
      },
      "text/plain": [
       "  0%|          |  : 0/540 [00:00<?,       ?it/s]"
      ]
     },
     "metadata": {},
     "output_type": "display_data"
    },
    {
     "name": "stderr",
     "output_type": "stream",
     "text": [
      " 30%|███       | 3/10 [00:08<00:16,  2.30s/it]"
     ]
    },
    {
     "data": {
      "application/vnd.jupyter.widget-view+json": {
       "model_id": "9e9045a2f8bb413e99589a0b89fd68ab",
       "version_major": 2,
       "version_minor": 0
      },
      "text/plain": [
       "  0%|          |  : 0/540 [00:00<?,       ?it/s]"
      ]
     },
     "metadata": {},
     "output_type": "display_data"
    },
    {
     "name": "stderr",
     "output_type": "stream",
     "text": [
      " 40%|████      | 4/10 [00:09<00:11,  1.89s/it]"
     ]
    },
    {
     "data": {
      "application/vnd.jupyter.widget-view+json": {
       "model_id": "68dc33ebcec843ea971ec24a2f2a9114",
       "version_major": 2,
       "version_minor": 0
      },
      "text/plain": [
       "  0%|          |  : 0/540 [00:00<?,       ?it/s]"
      ]
     },
     "metadata": {},
     "output_type": "display_data"
    },
    {
     "name": "stderr",
     "output_type": "stream",
     "text": [
      " 50%|█████     | 5/10 [00:11<00:08,  1.72s/it]"
     ]
    },
    {
     "data": {
      "application/vnd.jupyter.widget-view+json": {
       "model_id": "31eebbf96f7b4ad8ad5b256e5a63c372",
       "version_major": 2,
       "version_minor": 0
      },
      "text/plain": [
       "  0%|          |  : 0/540 [00:00<?,       ?it/s]"
      ]
     },
     "metadata": {},
     "output_type": "display_data"
    },
    {
     "name": "stderr",
     "output_type": "stream",
     "text": [
      " 60%|██████    | 6/10 [00:12<00:06,  1.61s/it]"
     ]
    },
    {
     "data": {
      "application/vnd.jupyter.widget-view+json": {
       "model_id": "24105a03119149aabab56e7567f6bcfa",
       "version_major": 2,
       "version_minor": 0
      },
      "text/plain": [
       "  0%|          |  : 0/540 [00:00<?,       ?it/s]"
      ]
     },
     "metadata": {},
     "output_type": "display_data"
    },
    {
     "name": "stderr",
     "output_type": "stream",
     "text": [
      " 70%|███████   | 7/10 [00:13<00:04,  1.48s/it]"
     ]
    },
    {
     "data": {
      "application/vnd.jupyter.widget-view+json": {
       "model_id": "ea181ed10d90490ab0cf85b2ce6b231e",
       "version_major": 2,
       "version_minor": 0
      },
      "text/plain": [
       "  0%|          |  : 0/540 [00:00<?,       ?it/s]"
      ]
     },
     "metadata": {},
     "output_type": "display_data"
    },
    {
     "name": "stderr",
     "output_type": "stream",
     "text": [
      " 80%|████████  | 8/10 [00:14<00:02,  1.41s/it]"
     ]
    },
    {
     "data": {
      "application/vnd.jupyter.widget-view+json": {
       "model_id": "6957a9b8ecf54f498c63236b642a64a8",
       "version_major": 2,
       "version_minor": 0
      },
      "text/plain": [
       "  0%|          |  : 0/540 [00:00<?,       ?it/s]"
      ]
     },
     "metadata": {},
     "output_type": "display_data"
    },
    {
     "name": "stderr",
     "output_type": "stream",
     "text": [
      " 90%|█████████ | 9/10 [00:16<00:01,  1.36s/it]"
     ]
    },
    {
     "data": {
      "application/vnd.jupyter.widget-view+json": {
       "model_id": "30b7c09a8dec414ab4e19550c74c1999",
       "version_major": 2,
       "version_minor": 0
      },
      "text/plain": [
       "  0%|          |  : 0/540 [00:00<?,       ?it/s]"
      ]
     },
     "metadata": {},
     "output_type": "display_data"
    },
    {
     "name": "stderr",
     "output_type": "stream",
     "text": [
      "100%|██████████| 10/10 [00:17<00:00,  1.74s/it]\n"
     ]
    }
   ],
   "source": [
    "seeds     = np.arange(0, 10, dtype=int) * 100\n",
    "\n",
    "data_surr = []\n",
    "for seed in tqdm( seeds ):\n",
    "    data_surr += [phase_rand_surrogates(data,val=0,seed=seed,verbose=False,n_jobs=-1)]"
   ]
  },
  {
   "cell_type": "code",
   "execution_count": 6,
   "id": "ae42a8b1-7047-47ba-a0e2-3d163889f518",
   "metadata": {},
   "outputs": [],
   "source": [
    "data_surr = xr.concat(data_surr, dim=\"seeds\")"
   ]
  },
  {
   "cell_type": "markdown",
   "id": "15c2ea6d-d499-4e64-8d9b-792e54286c2d",
   "metadata": {},
   "source": [
    "#### Computing coherence"
   ]
  },
  {
   "cell_type": "code",
   "execution_count": 7,
   "id": "4996a77d-62df-4d9d-b6da-cdc0f6cefea6",
   "metadata": {},
   "outputs": [],
   "source": [
    "sm_times = 300\n",
    "sm_freqs = 1\n",
    "# Downsampling factor\n",
    "delta = 15       \n",
    "mode  = 'multitaper'\n",
    "foi   = np.array([\n",
    "        [0.1, 6.],\n",
    "        [6., 14.],\n",
    "        [14., 26.],\n",
    "        [26., 42.],\n",
    "        [42., 80.]\n",
    "            ])\n",
    "n_freqs      = 100\n",
    "freqs        = np.linspace(foi[0,0], foi[-1,1], n_freqs, endpoint=True)\n",
    "n_cycles     = freqs/2\n",
    "decim_at     ='tfd'"
   ]
  },
  {
   "cell_type": "code",
   "execution_count": 8,
   "id": "66b4303f-3067-40f9-ac02-df36727ac365",
   "metadata": {},
   "outputs": [],
   "source": [
    "# define temporal windows + compute the DFC\n",
    "n_cycles = freqs / 2.\n",
    "\n",
    "kw = dict(\n",
    "    freqs=freqs, times=data.time, roi=None, foi=foi, n_jobs=-1,\n",
    "    sfreq=data.attrs['fsample'], mode=mode, n_cycles=n_cycles, decim=15,\n",
    "    sm_times=300, sm_freqs=1, block_size=2, decim_at=decim_at\n",
    ")"
   ]
  },
  {
   "cell_type": "code",
   "execution_count": 9,
   "id": "aa3686ca-1db0-4502-b57f-dbfabf9fe51f",
   "metadata": {},
   "outputs": [
    {
     "name": "stderr",
     "output_type": "stream",
     "text": [
      "\u001b[1m\u001b[1;33mWARNING\u001b[0m | No regions of interest are provided (roi). Default ones are created\n",
      "Compute pairwise coherence (n_pairs=1, n_freqs=100, decim=15)\n",
      "[Parallel(n_jobs=40)]: Using backend LokyBackend with 40 concurrent workers.\n",
      "[Parallel(n_jobs=40)]: Done   2 out of   2 | elapsed:    7.3s remaining:    0.0s\n",
      "[Parallel(n_jobs=40)]: Done   2 out of   2 | elapsed:    7.3s finished\n"
     ]
    },
    {
     "data": {
      "application/vnd.jupyter.widget-view+json": {
       "model_id": "c000fa39f11c4633afdfd6d5411d6f34",
       "version_major": 2,
       "version_minor": 0
      },
      "text/plain": [
       "  0%|          |  : 0/1 [00:00<?,       ?it/s]"
      ]
     },
     "metadata": {},
     "output_type": "display_data"
    },
    {
     "name": "stderr",
     "output_type": "stream",
     "text": [
      "[Parallel(n_jobs=40)]: Using backend LokyBackend with 40 concurrent workers.\n",
      "[Parallel(n_jobs=40)]: Done   2 out of   2 | elapsed:    7.4s remaining:    0.0s\n",
      "[Parallel(n_jobs=40)]: Done   2 out of   2 | elapsed:    7.4s finished\n"
     ]
    },
    {
     "data": {
      "application/vnd.jupyter.widget-view+json": {
       "model_id": "4da03c94902049d8917cad8beb57dfab",
       "version_major": 2,
       "version_minor": 0
      },
      "text/plain": [
       "  0%|          |  : 0/1 [00:00<?,       ?it/s]"
      ]
     },
     "metadata": {},
     "output_type": "display_data"
    }
   ],
   "source": [
    "coh      = conn_coherence_wav(data, **kw).astype(np.float32)"
   ]
  },
  {
   "cell_type": "code",
   "execution_count": 10,
   "id": "9e27bb25-f7a8-44cf-aa97-ee2e87955808",
   "metadata": {
    "tags": []
   },
   "outputs": [
    {
     "name": "stderr",
     "output_type": "stream",
     "text": [
      "  0%|          | 0/10 [00:00<?, ?it/s]\u001b[1m\u001b[1;33mWARNING\u001b[0m | No regions of interest are provided (roi). Default ones are created\n",
      "Compute pairwise coherence (n_pairs=1, n_freqs=100, decim=15)\n",
      "[Parallel(n_jobs=40)]: Using backend LokyBackend with 40 concurrent workers.\n",
      "[Parallel(n_jobs=40)]: Done   2 out of   2 | elapsed:    7.2s remaining:    0.0s\n",
      "[Parallel(n_jobs=40)]: Done   2 out of   2 | elapsed:    7.2s finished\n"
     ]
    },
    {
     "data": {
      "application/vnd.jupyter.widget-view+json": {
       "model_id": "c68565c3a3c84fb488ab29ef68467b01",
       "version_major": 2,
       "version_minor": 0
      },
      "text/plain": [
       "  0%|          |  : 0/1 [00:00<?,       ?it/s]"
      ]
     },
     "metadata": {},
     "output_type": "display_data"
    },
    {
     "name": "stderr",
     "output_type": "stream",
     "text": [
      "[Parallel(n_jobs=40)]: Using backend LokyBackend with 40 concurrent workers.\n",
      "[Parallel(n_jobs=40)]: Done   2 out of   2 | elapsed:    8.2s remaining:    0.0s\n",
      "[Parallel(n_jobs=40)]: Done   2 out of   2 | elapsed:    8.2s finished\n"
     ]
    },
    {
     "data": {
      "application/vnd.jupyter.widget-view+json": {
       "model_id": "891951bc111e4c269046b8db3449d403",
       "version_major": 2,
       "version_minor": 0
      },
      "text/plain": [
       "  0%|          |  : 0/1 [00:00<?,       ?it/s]"
      ]
     },
     "metadata": {},
     "output_type": "display_data"
    },
    {
     "name": "stderr",
     "output_type": "stream",
     "text": [
      " 10%|█         | 1/10 [00:23<03:31, 23.46s/it]\u001b[1m\u001b[1;33mWARNING\u001b[0m | No regions of interest are provided (roi). Default ones are created\n",
      "Compute pairwise coherence (n_pairs=1, n_freqs=100, decim=15)\n",
      "[Parallel(n_jobs=40)]: Using backend LokyBackend with 40 concurrent workers.\n",
      "[Parallel(n_jobs=40)]: Done   2 out of   2 | elapsed:    7.4s remaining:    0.0s\n",
      "[Parallel(n_jobs=40)]: Done   2 out of   2 | elapsed:    7.4s finished\n"
     ]
    },
    {
     "data": {
      "application/vnd.jupyter.widget-view+json": {
       "model_id": "b5229e6c1a1b44f2a1ebc2535681b99e",
       "version_major": 2,
       "version_minor": 0
      },
      "text/plain": [
       "  0%|          |  : 0/1 [00:00<?,       ?it/s]"
      ]
     },
     "metadata": {},
     "output_type": "display_data"
    },
    {
     "name": "stderr",
     "output_type": "stream",
     "text": [
      "[Parallel(n_jobs=40)]: Using backend LokyBackend with 40 concurrent workers.\n",
      "[Parallel(n_jobs=40)]: Done   2 out of   2 | elapsed:    7.4s remaining:    0.0s\n",
      "[Parallel(n_jobs=40)]: Done   2 out of   2 | elapsed:    7.4s finished\n"
     ]
    },
    {
     "data": {
      "application/vnd.jupyter.widget-view+json": {
       "model_id": "31a32526b2114ce8bebb59067886a465",
       "version_major": 2,
       "version_minor": 0
      },
      "text/plain": [
       "  0%|          |  : 0/1 [00:00<?,       ?it/s]"
      ]
     },
     "metadata": {},
     "output_type": "display_data"
    },
    {
     "name": "stderr",
     "output_type": "stream",
     "text": [
      " 20%|██        | 2/10 [00:46<03:05, 23.14s/it]\u001b[1m\u001b[1;33mWARNING\u001b[0m | No regions of interest are provided (roi). Default ones are created\n",
      "Compute pairwise coherence (n_pairs=1, n_freqs=100, decim=15)\n",
      "[Parallel(n_jobs=40)]: Using backend LokyBackend with 40 concurrent workers.\n",
      "[Parallel(n_jobs=40)]: Done   2 out of   2 | elapsed:    7.4s remaining:    0.0s\n",
      "[Parallel(n_jobs=40)]: Done   2 out of   2 | elapsed:    7.4s finished\n"
     ]
    },
    {
     "data": {
      "application/vnd.jupyter.widget-view+json": {
       "model_id": "8dbbfdf24b8a4a79b7c9e8928680dd86",
       "version_major": 2,
       "version_minor": 0
      },
      "text/plain": [
       "  0%|          |  : 0/1 [00:00<?,       ?it/s]"
      ]
     },
     "metadata": {},
     "output_type": "display_data"
    },
    {
     "name": "stderr",
     "output_type": "stream",
     "text": [
      "[Parallel(n_jobs=40)]: Using backend LokyBackend with 40 concurrent workers.\n",
      "[Parallel(n_jobs=40)]: Done   2 out of   2 | elapsed:    7.7s remaining:    0.0s\n",
      "[Parallel(n_jobs=40)]: Done   2 out of   2 | elapsed:    7.7s finished\n"
     ]
    },
    {
     "data": {
      "application/vnd.jupyter.widget-view+json": {
       "model_id": "effc4496ffd6449db2d9b87b08d1df03",
       "version_major": 2,
       "version_minor": 0
      },
      "text/plain": [
       "  0%|          |  : 0/1 [00:00<?,       ?it/s]"
      ]
     },
     "metadata": {},
     "output_type": "display_data"
    },
    {
     "name": "stderr",
     "output_type": "stream",
     "text": [
      " 30%|███       | 3/10 [01:09<02:40, 22.99s/it]\u001b[1m\u001b[1;33mWARNING\u001b[0m | No regions of interest are provided (roi). Default ones are created\n",
      "Compute pairwise coherence (n_pairs=1, n_freqs=100, decim=15)\n",
      "[Parallel(n_jobs=40)]: Using backend LokyBackend with 40 concurrent workers.\n",
      "[Parallel(n_jobs=40)]: Done   2 out of   2 | elapsed:    7.3s remaining:    0.0s\n",
      "[Parallel(n_jobs=40)]: Done   2 out of   2 | elapsed:    7.3s finished\n"
     ]
    },
    {
     "data": {
      "application/vnd.jupyter.widget-view+json": {
       "model_id": "f17b187c79cc4d9e90116c76aa4d2b95",
       "version_major": 2,
       "version_minor": 0
      },
      "text/plain": [
       "  0%|          |  : 0/1 [00:00<?,       ?it/s]"
      ]
     },
     "metadata": {},
     "output_type": "display_data"
    },
    {
     "name": "stderr",
     "output_type": "stream",
     "text": [
      "[Parallel(n_jobs=40)]: Using backend LokyBackend with 40 concurrent workers.\n",
      "[Parallel(n_jobs=40)]: Done   2 out of   2 | elapsed:    7.4s remaining:    0.0s\n",
      "[Parallel(n_jobs=40)]: Done   2 out of   2 | elapsed:    7.4s finished\n"
     ]
    },
    {
     "data": {
      "application/vnd.jupyter.widget-view+json": {
       "model_id": "24187db24e9b4015bc50df6e55e69cf9",
       "version_major": 2,
       "version_minor": 0
      },
      "text/plain": [
       "  0%|          |  : 0/1 [00:00<?,       ?it/s]"
      ]
     },
     "metadata": {},
     "output_type": "display_data"
    },
    {
     "name": "stderr",
     "output_type": "stream",
     "text": [
      " 40%|████      | 4/10 [01:31<02:17, 22.86s/it]\u001b[1m\u001b[1;33mWARNING\u001b[0m | No regions of interest are provided (roi). Default ones are created\n",
      "Compute pairwise coherence (n_pairs=1, n_freqs=100, decim=15)\n",
      "[Parallel(n_jobs=40)]: Using backend LokyBackend with 40 concurrent workers.\n",
      "[Parallel(n_jobs=40)]: Done   2 out of   2 | elapsed:    7.5s remaining:    0.0s\n",
      "[Parallel(n_jobs=40)]: Done   2 out of   2 | elapsed:    7.5s finished\n"
     ]
    },
    {
     "data": {
      "application/vnd.jupyter.widget-view+json": {
       "model_id": "5d1fd47df4704b95905f656932662083",
       "version_major": 2,
       "version_minor": 0
      },
      "text/plain": [
       "  0%|          |  : 0/1 [00:00<?,       ?it/s]"
      ]
     },
     "metadata": {},
     "output_type": "display_data"
    },
    {
     "name": "stderr",
     "output_type": "stream",
     "text": [
      "[Parallel(n_jobs=40)]: Using backend LokyBackend with 40 concurrent workers.\n",
      "[Parallel(n_jobs=40)]: Done   2 out of   2 | elapsed:    7.4s remaining:    0.0s\n",
      "[Parallel(n_jobs=40)]: Done   2 out of   2 | elapsed:    7.4s finished\n"
     ]
    },
    {
     "data": {
      "application/vnd.jupyter.widget-view+json": {
       "model_id": "e82cf4f1efd544d985a6f50080f219c8",
       "version_major": 2,
       "version_minor": 0
      },
      "text/plain": [
       "  0%|          |  : 0/1 [00:00<?,       ?it/s]"
      ]
     },
     "metadata": {},
     "output_type": "display_data"
    },
    {
     "name": "stderr",
     "output_type": "stream",
     "text": [
      " 50%|█████     | 5/10 [01:54<01:54, 22.91s/it]\u001b[1m\u001b[1;33mWARNING\u001b[0m | No regions of interest are provided (roi). Default ones are created\n",
      "Compute pairwise coherence (n_pairs=1, n_freqs=100, decim=15)\n",
      "[Parallel(n_jobs=40)]: Using backend LokyBackend with 40 concurrent workers.\n",
      "[Parallel(n_jobs=40)]: Done   2 out of   2 | elapsed:    7.3s remaining:    0.0s\n",
      "[Parallel(n_jobs=40)]: Done   2 out of   2 | elapsed:    7.3s finished\n"
     ]
    },
    {
     "data": {
      "application/vnd.jupyter.widget-view+json": {
       "model_id": "06121122239540a0a023036c5aa1b674",
       "version_major": 2,
       "version_minor": 0
      },
      "text/plain": [
       "  0%|          |  : 0/1 [00:00<?,       ?it/s]"
      ]
     },
     "metadata": {},
     "output_type": "display_data"
    },
    {
     "name": "stderr",
     "output_type": "stream",
     "text": [
      "[Parallel(n_jobs=40)]: Using backend LokyBackend with 40 concurrent workers.\n",
      "[Parallel(n_jobs=40)]: Done   2 out of   2 | elapsed:    7.1s remaining:    0.0s\n",
      "[Parallel(n_jobs=40)]: Done   2 out of   2 | elapsed:    7.1s finished\n"
     ]
    },
    {
     "data": {
      "application/vnd.jupyter.widget-view+json": {
       "model_id": "fd05535d55714579a1a0cabe8ec8afa6",
       "version_major": 2,
       "version_minor": 0
      },
      "text/plain": [
       "  0%|          |  : 0/1 [00:00<?,       ?it/s]"
      ]
     },
     "metadata": {},
     "output_type": "display_data"
    },
    {
     "name": "stderr",
     "output_type": "stream",
     "text": [
      " 60%|██████    | 6/10 [02:17<01:30, 22.69s/it]\u001b[1m\u001b[1;33mWARNING\u001b[0m | No regions of interest are provided (roi). Default ones are created\n",
      "Compute pairwise coherence (n_pairs=1, n_freqs=100, decim=15)\n",
      "[Parallel(n_jobs=40)]: Using backend LokyBackend with 40 concurrent workers.\n",
      "[Parallel(n_jobs=40)]: Done   2 out of   2 | elapsed:    7.5s remaining:    0.0s\n",
      "[Parallel(n_jobs=40)]: Done   2 out of   2 | elapsed:    7.5s finished\n"
     ]
    },
    {
     "data": {
      "application/vnd.jupyter.widget-view+json": {
       "model_id": "0e54318a9a234e49b41783406a30bd7d",
       "version_major": 2,
       "version_minor": 0
      },
      "text/plain": [
       "  0%|          |  : 0/1 [00:00<?,       ?it/s]"
      ]
     },
     "metadata": {},
     "output_type": "display_data"
    },
    {
     "name": "stderr",
     "output_type": "stream",
     "text": [
      "[Parallel(n_jobs=40)]: Using backend LokyBackend with 40 concurrent workers.\n",
      "[Parallel(n_jobs=40)]: Done   2 out of   2 | elapsed:    7.5s remaining:    0.0s\n",
      "[Parallel(n_jobs=40)]: Done   2 out of   2 | elapsed:    7.5s finished\n"
     ]
    },
    {
     "data": {
      "application/vnd.jupyter.widget-view+json": {
       "model_id": "47c791542fd044569fe6d8f46db70544",
       "version_major": 2,
       "version_minor": 0
      },
      "text/plain": [
       "  0%|          |  : 0/1 [00:00<?,       ?it/s]"
      ]
     },
     "metadata": {},
     "output_type": "display_data"
    },
    {
     "name": "stderr",
     "output_type": "stream",
     "text": [
      " 70%|███████   | 7/10 [02:40<01:08, 22.82s/it]\u001b[1m\u001b[1;33mWARNING\u001b[0m | No regions of interest are provided (roi). Default ones are created\n",
      "Compute pairwise coherence (n_pairs=1, n_freqs=100, decim=15)\n",
      "[Parallel(n_jobs=40)]: Using backend LokyBackend with 40 concurrent workers.\n",
      "[Parallel(n_jobs=40)]: Done   2 out of   2 | elapsed:    7.5s remaining:    0.0s\n",
      "[Parallel(n_jobs=40)]: Done   2 out of   2 | elapsed:    7.5s finished\n"
     ]
    },
    {
     "data": {
      "application/vnd.jupyter.widget-view+json": {
       "model_id": "7d6f5af1e1334aa18ec4e5c058192094",
       "version_major": 2,
       "version_minor": 0
      },
      "text/plain": [
       "  0%|          |  : 0/1 [00:00<?,       ?it/s]"
      ]
     },
     "metadata": {},
     "output_type": "display_data"
    },
    {
     "name": "stderr",
     "output_type": "stream",
     "text": [
      "[Parallel(n_jobs=40)]: Using backend LokyBackend with 40 concurrent workers.\n",
      "[Parallel(n_jobs=40)]: Done   2 out of   2 | elapsed:    7.5s remaining:    0.0s\n",
      "[Parallel(n_jobs=40)]: Done   2 out of   2 | elapsed:    7.5s finished\n"
     ]
    },
    {
     "data": {
      "application/vnd.jupyter.widget-view+json": {
       "model_id": "70dcd90fd68f4c2a9184eb0a45154648",
       "version_major": 2,
       "version_minor": 0
      },
      "text/plain": [
       "  0%|          |  : 0/1 [00:00<?,       ?it/s]"
      ]
     },
     "metadata": {},
     "output_type": "display_data"
    },
    {
     "name": "stderr",
     "output_type": "stream",
     "text": [
      " 80%|████████  | 8/10 [03:03<00:45, 22.97s/it]\u001b[1m\u001b[1;33mWARNING\u001b[0m | No regions of interest are provided (roi). Default ones are created\n",
      "Compute pairwise coherence (n_pairs=1, n_freqs=100, decim=15)\n",
      "[Parallel(n_jobs=40)]: Using backend LokyBackend with 40 concurrent workers.\n",
      "[Parallel(n_jobs=40)]: Done   2 out of   2 | elapsed:    7.7s remaining:    0.0s\n",
      "[Parallel(n_jobs=40)]: Done   2 out of   2 | elapsed:    7.7s finished\n"
     ]
    },
    {
     "data": {
      "application/vnd.jupyter.widget-view+json": {
       "model_id": "a1cdef3e90924394b572a12977f70e98",
       "version_major": 2,
       "version_minor": 0
      },
      "text/plain": [
       "  0%|          |  : 0/1 [00:00<?,       ?it/s]"
      ]
     },
     "metadata": {},
     "output_type": "display_data"
    },
    {
     "name": "stderr",
     "output_type": "stream",
     "text": [
      "[Parallel(n_jobs=40)]: Using backend LokyBackend with 40 concurrent workers.\n",
      "[Parallel(n_jobs=40)]: Done   2 out of   2 | elapsed:    8.1s remaining:    0.0s\n",
      "[Parallel(n_jobs=40)]: Done   2 out of   2 | elapsed:    8.1s finished\n"
     ]
    },
    {
     "data": {
      "application/vnd.jupyter.widget-view+json": {
       "model_id": "54c6ebf697804ca882097801fde5b728",
       "version_major": 2,
       "version_minor": 0
      },
      "text/plain": [
       "  0%|          |  : 0/1 [00:00<?,       ?it/s]"
      ]
     },
     "metadata": {},
     "output_type": "display_data"
    },
    {
     "name": "stderr",
     "output_type": "stream",
     "text": [
      " 90%|█████████ | 9/10 [03:27<00:23, 23.31s/it]\u001b[1m\u001b[1;33mWARNING\u001b[0m | No regions of interest are provided (roi). Default ones are created\n",
      "Compute pairwise coherence (n_pairs=1, n_freqs=100, decim=15)\n",
      "[Parallel(n_jobs=40)]: Using backend LokyBackend with 40 concurrent workers.\n",
      "[Parallel(n_jobs=40)]: Done   2 out of   2 | elapsed:    8.0s remaining:    0.0s\n",
      "[Parallel(n_jobs=40)]: Done   2 out of   2 | elapsed:    8.0s finished\n"
     ]
    },
    {
     "data": {
      "application/vnd.jupyter.widget-view+json": {
       "model_id": "02ddbc36e3b346dcb00debcaf3f1dd1f",
       "version_major": 2,
       "version_minor": 0
      },
      "text/plain": [
       "  0%|          |  : 0/1 [00:00<?,       ?it/s]"
      ]
     },
     "metadata": {},
     "output_type": "display_data"
    },
    {
     "name": "stderr",
     "output_type": "stream",
     "text": [
      "[Parallel(n_jobs=40)]: Using backend LokyBackend with 40 concurrent workers.\n",
      "[Parallel(n_jobs=40)]: Done   2 out of   2 | elapsed:    8.1s remaining:    0.0s\n",
      "[Parallel(n_jobs=40)]: Done   2 out of   2 | elapsed:    8.1s finished\n"
     ]
    },
    {
     "data": {
      "application/vnd.jupyter.widget-view+json": {
       "model_id": "00f24e553720408a9c2d47c0956de01b",
       "version_major": 2,
       "version_minor": 0
      },
      "text/plain": [
       "  0%|          |  : 0/1 [00:00<?,       ?it/s]"
      ]
     },
     "metadata": {},
     "output_type": "display_data"
    },
    {
     "name": "stderr",
     "output_type": "stream",
     "text": [
      "100%|██████████| 10/10 [03:51<00:00, 23.18s/it]\n"
     ]
    }
   ],
   "source": [
    "coh_surr = []\n",
    "for i in tqdm( range(10) ):\n",
    "    coh_surr += [conn_coherence_wav(data_surr.isel(seeds=i), **kw).astype(np.float32)]\n",
    "coh_surr = xr.concat(coh_surr, dim=\"seeds\")"
   ]
  },
  {
   "cell_type": "code",
   "execution_count": 11,
   "id": "bbac8886-9fdf-4220-b22b-7df10d47d5d1",
   "metadata": {},
   "outputs": [
    {
     "data": {
      "image/png": "[encoded data removed]",
      "text/plain": [
       "<Figure size 576x1080 with 5 Axes>"
      ]
     },
     "metadata": {
      "needs_background": "light"
     },
     "output_type": "display_data"
    }
   ],
   "source": [
    "plt.figure(figsize=(8,15))\n",
    "count = 1\n",
    "for i in range(5):\n",
    "    plt.subplot(5,1,count)\n",
    "    plt.hist( coh.isel(freqs=i).values.flatten(), bins=100,  density=True, histtype='step', fill=False, color='k');\n",
    "    plt.title(f'band {i}', fontsize=15)\n",
    "    plt.ylabel('#', fontsize=15)\n",
    "    for j in range(10):\n",
    "        plt.hist( coh_surr.isel(seeds=j,freqs=i).values.flatten(), bins=100, density=True, histtype='step', fill=False, color='r');\n",
    "    count += 1\n",
    "plt.xlabel('Coherence', fontsize=15)\n",
    "plt.tight_layout()"
   ]
  },
  {
   "cell_type": "code",
   "execution_count": 13,
   "id": "ff975bee-91d0-4e7d-84c3-a4a774be7b00",
   "metadata": {},
   "outputs": [
    {
     "data": {
      "text/html": [
       "<div><svg style=\"position: absolute; width: 0; height: 0; overflow: hidden\">\n",
       "<defs>\n",
       "<symbol id=\"icon-database\" viewBox=\"0 0 32 32\">\n",
       "<path d=\"M16 0c-8.837 0-16 2.239-16 5v4c0 2.761 7.163 5 16 5s16-2.239 16-5v-4c0-2.761-7.163-5-16-5z\"></path>\n",
       "<path d=\"M16 17c-8.837 0-16-2.239-16-5v6c0 2.761 7.163 5 16 5s16-2.239 16-5v-6c0 2.761-7.163 5-16 5z\"></path>\n",
       "<path d=\"M16 26c-8.837 0-16-2.239-16-5v6c0 2.761 7.163 5 16 5s16-2.239 16-5v-6c0 2.761-7.163 5-16 5z\"></path>\n",
       "</symbol>\n",
       "<symbol id=\"icon-file-text2\" viewBox=\"0 0 32 32\">\n",
       "<path d=\"M28.681 7.159c-0.694-0.947-1.662-2.053-2.724-3.116s-2.169-2.030-3.116-2.724c-1.612-1.182-2.393-1.319-2.841-1.319h-15.5c-1.378 0-2.5 1.121-2.5 2.5v27c0 1.378 1.122 2.5 2.5 2.5h23c1.378 0 2.5-1.122 2.5-2.5v-19.5c0-0.448-0.137-1.23-1.319-2.841zM24.543 5.457c0.959 0.959 1.712 1.825 2.268 2.543h-4.811v-4.811c0.718 0.556 1.584 1.309 2.543 2.268zM28 29.5c0 0.271-0.229 0.5-0.5 0.5h-23c-0.271 0-0.5-0.229-0.5-0.5v-27c0-0.271 0.229-0.5 0.5-0.5 0 0 15.499-0 15.5 0v7c0 0.552 0.448 1 1 1h7v19.5z\"></path>\n",
       "<path d=\"M23 26h-14c-0.552 0-1-0.448-1-1s0.448-1 1-1h14c0.552 0 1 0.448 1 1s-0.448 1-1 1z\"></path>\n",
       "<path d=\"M23 22h-14c-0.552 0-1-0.448-1-1s0.448-1 1-1h14c0.552 0 1 0.448 1 1s-0.448 1-1 1z\"></path>\n",
       "<path d=\"M23 18h-14c-0.552 0-1-0.448-1-1s0.448-1 1-1h14c0.552 0 1 0.448 1 1s-0.448 1-1 1z\"></path>\n",
       "</symbol>\n",
       "</defs>\n",
       "</svg>\n",
       "<style>/* CSS stylesheet for displaying xarray objects in jupyterlab.\n",
       " *\n",
       " */\n",
       "\n",
       ":root {\n",
       "  --xr-font-color0: var(--jp-content-font-color0, rgba(0, 0, 0, 1));\n",
       "  --xr-font-color2: var(--jp-content-font-color2, rgba(0, 0, 0, 0.54));\n",
       "  --xr-font-color3: var(--jp-content-font-color3, rgba(0, 0, 0, 0.38));\n",
       "  --xr-border-color: var(--jp-border-color2, #e0e0e0);\n",
       "  --xr-disabled-color: var(--jp-layout-color3, #bdbdbd);\n",
       "  --xr-background-color: var(--jp-layout-color0, white);\n",
       "  --xr-background-color-row-even: var(--jp-layout-color1, white);\n",
       "  --xr-background-color-row-odd: var(--jp-layout-color2, #eeeeee);\n",
       "}\n",
       "\n",
       "html[theme=dark],\n",
       "body.vscode-dark {\n",
       "  --xr-font-color0: rgba(255, 255, 255, 1);\n",
       "  --xr-font-color2: rgba(255, 255, 255, 0.54);\n",
       "  --xr-font-color3: rgba(255, 255, 255, 0.38);\n",
       "  --xr-border-color: #1F1F1F;\n",
       "  --xr-disabled-color: #515151;\n",
       "  --xr-background-color: #111111;\n",
       "  --xr-background-color-row-even: #111111;\n",
       "  --xr-background-color-row-odd: #313131;\n",
       "}\n",
       "\n",
       ".xr-wrap {\n",
       "  display: block;\n",
       "  min-width: 300px;\n",
       "  max-width: 700px;\n",
       "}\n",
       "\n",
       ".xr-text-repr-fallback {\n",
       "  /* fallback to plain text repr when CSS is not injected (untrusted notebook) */\n",
       "  display: none;\n",
       "}\n",
       "\n",
       ".xr-header {\n",
       "  padding-top: 6px;\n",
       "  padding-bottom: 6px;\n",
       "  margin-bottom: 4px;\n",
       "  border-bottom: solid 1px var(--xr-border-color);\n",
       "}\n",
       "\n",
       ".xr-header > div,\n",
       ".xr-header > ul {\n",
       "  display: inline;\n",
       "  margin-top: 0;\n",
       "  margin-bottom: 0;\n",
       "}\n",
       "\n",
       ".xr-obj-type,\n",
       ".xr-array-name {\n",
       "  margin-left: 2px;\n",
       "  margin-right: 10px;\n",
       "}\n",
       "\n",
       ".xr-obj-type {\n",
       "  color: var(--xr-font-color2);\n",
       "}\n",
       "\n",
       ".xr-sections {\n",
       "  padding-left: 0 !important;\n",
       "  display: grid;\n",
       "  grid-template-columns: 150px auto auto 1fr 20px 20px;\n",
       "}\n",
       "\n",
       ".xr-section-item {\n",
       "  display: contents;\n",
       "}\n",
       "\n",
       ".xr-section-item input {\n",
       "  display: none;\n",
       "}\n",
       "\n",
       ".xr-section-item input + label {\n",
       "  color: var(--xr-disabled-color);\n",
       "}\n",
       "\n",
       ".xr-section-item input:enabled + label {\n",
       "  cursor: pointer;\n",
       "  color: var(--xr-font-color2);\n",
       "}\n",
       "\n",
       ".xr-section-item input:enabled + label:hover {\n",
       "  color: var(--xr-font-color0);\n",
       "}\n",
       "\n",
       ".xr-section-summary {\n",
       "  grid-column: 1;\n",
       "  color: var(--xr-font-color2);\n",
       "  font-weight: 500;\n",
       "}\n",
       "\n",
       ".xr-section-summary > span {\n",
       "  display: inline-block;\n",
       "  padding-left: 0.5em;\n",
       "}\n",
       "\n",
       ".xr-section-summary-in:disabled + label {\n",
       "  color: var(--xr-font-color2);\n",
       "}\n",
       "\n",
       ".xr-section-summary-in + label:before {\n",
       "  display: inline-block;\n",
       "  content: '►';\n",
       "  font-size: 11px;\n",
       "  width: 15px;\n",
       "  text-align: center;\n",
       "}\n",
       "\n",
       ".xr-section-summary-in:disabled + label:before {\n",
       "  color: var(--xr-disabled-color);\n",
       "}\n",
       "\n",
       ".xr-section-summary-in:checked + label:before {\n",
       "  content: '▼';\n",
       "}\n",
       "\n",
       ".xr-section-summary-in:checked + label > span {\n",
       "  display: none;\n",
       "}\n",
       "\n",
       ".xr-section-summary,\n",
       ".xr-section-inline-details {\n",
       "  padding-top: 4px;\n",
       "  padding-bottom: 4px;\n",
       "}\n",
       "\n",
       ".xr-section-inline-details {\n",
       "  grid-column: 2 / -1;\n",
       "}\n",
       "\n",
       ".xr-section-details {\n",
       "  display: none;\n",
       "  grid-column: 1 / -1;\n",
       "  margin-bottom: 5px;\n",
       "}\n",
       "\n",
       ".xr-section-summary-in:checked ~ .xr-section-details {\n",
       "  display: contents;\n",
       "}\n",
       "\n",
       ".xr-array-wrap {\n",
       "  grid-column: 1 / -1;\n",
       "  display: grid;\n",
       "  grid-template-columns: 20px auto;\n",
       "}\n",
       "\n",
       ".xr-array-wrap > label {\n",
       "  grid-column: 1;\n",
       "  vertical-align: top;\n",
       "}\n",
       "\n",
       ".xr-preview {\n",
       "  color: var(--xr-font-color3);\n",
       "}\n",
       "\n",
       ".xr-array-preview,\n",
       ".xr-array-data {\n",
       "  padding: 0 5px !important;\n",
       "  grid-column: 2;\n",
       "}\n",
       "\n",
       ".xr-array-data,\n",
       ".xr-array-in:checked ~ .xr-array-preview {\n",
       "  display: none;\n",
       "}\n",
       "\n",
       ".xr-array-in:checked ~ .xr-array-data,\n",
       ".xr-array-preview {\n",
       "  display: inline-block;\n",
       "}\n",
       "\n",
       ".xr-dim-list {\n",
       "  display: inline-block !important;\n",
       "  list-style: none;\n",
       "  padding: 0 !important;\n",
       "  margin: 0;\n",
       "}\n",
       "\n",
       ".xr-dim-list li {\n",
       "  display: inline-block;\n",
       "  padding: 0;\n",
       "  margin: 0;\n",
       "}\n",
       "\n",
       ".xr-dim-list:before {\n",
       "  content: '(';\n",
       "}\n",
       "\n",
       ".xr-dim-list:after {\n",
       "  content: ')';\n",
       "}\n",
       "\n",
       ".xr-dim-list li:not(:last-child):after {\n",
       "  content: ',';\n",
       "  padding-right: 5px;\n",
       "}\n",
       "\n",
       ".xr-has-index {\n",
       "  font-weight: bold;\n",
       "}\n",
       "\n",
       ".xr-var-list,\n",
       ".xr-var-item {\n",
       "  display: contents;\n",
       "}\n",
       "\n",
       ".xr-var-item > div,\n",
       ".xr-var-item label,\n",
       ".xr-var-item > .xr-var-name span {\n",
       "  background-color: var(--xr-background-color-row-even);\n",
       "  margin-bottom: 0;\n",
       "}\n",
       "\n",
       ".xr-var-item > .xr-var-name:hover span {\n",
       "  padding-right: 5px;\n",
       "}\n",
       "\n",
       ".xr-var-list > li:nth-child(odd) > div,\n",
       ".xr-var-list > li:nth-child(odd) > label,\n",
       ".xr-var-list > li:nth-child(odd) > .xr-var-name span {\n",
       "  background-color: var(--xr-background-color-row-odd);\n",
       "}\n",
       "\n",
       ".xr-var-name {\n",
       "  grid-column: 1;\n",
       "}\n",
       "\n",
       ".xr-var-dims {\n",
       "  grid-column: 2;\n",
       "}\n",
       "\n",
       ".xr-var-dtype {\n",
       "  grid-column: 3;\n",
       "  text-align: right;\n",
       "  color: var(--xr-font-color2);\n",
       "}\n",
       "\n",
       ".xr-var-preview {\n",
       "  grid-column: 4;\n",
       "}\n",
       "\n",
       ".xr-var-name,\n",
       ".xr-var-dims,\n",
       ".xr-var-dtype,\n",
       ".xr-preview,\n",
       ".xr-attrs dt {\n",
       "  white-space: nowrap;\n",
       "  overflow: hidden;\n",
       "  text-overflow: ellipsis;\n",
       "  padding-right: 10px;\n",
       "}\n",
       "\n",
       ".xr-var-name:hover,\n",
       ".xr-var-dims:hover,\n",
       ".xr-var-dtype:hover,\n",
       ".xr-attrs dt:hover {\n",
       "  overflow: visible;\n",
       "  width: auto;\n",
       "  z-index: 1;\n",
       "}\n",
       "\n",
       ".xr-var-attrs,\n",
       ".xr-var-data {\n",
       "  display: none;\n",
       "  background-color: var(--xr-background-color) !important;\n",
       "  padding-bottom: 5px !important;\n",
       "}\n",
       "\n",
       ".xr-var-attrs-in:checked ~ .xr-var-attrs,\n",
       ".xr-var-data-in:checked ~ .xr-var-data {\n",
       "  display: block;\n",
       "}\n",
       "\n",
       ".xr-var-data > table {\n",
       "  float: right;\n",
       "}\n",
       "\n",
       ".xr-var-name span,\n",
       ".xr-var-data,\n",
       ".xr-attrs {\n",
       "  padding-left: 25px !important;\n",
       "}\n",
       "\n",
       ".xr-attrs,\n",
       ".xr-var-attrs,\n",
       ".xr-var-data {\n",
       "  grid-column: 1 / -1;\n",
       "}\n",
       "\n",
       "dl.xr-attrs {\n",
       "  padding: 0;\n",
       "  margin: 0;\n",
       "  display: grid;\n",
       "  grid-template-columns: 125px auto;\n",
       "}\n",
       "\n",
       ".xr-attrs dt,\n",
       ".xr-attrs dd {\n",
       "  padding: 0;\n",
       "  margin: 0;\n",
       "  float: left;\n",
       "  padding-right: 10px;\n",
       "  width: auto;\n",
       "}\n",
       "\n",
       ".xr-attrs dt {\n",
       "  font-weight: normal;\n",
       "  grid-column: 1;\n",
       "}\n",
       "\n",
       ".xr-attrs dt:hover span {\n",
       "  display: inline-block;\n",
       "  background: var(--xr-background-color);\n",
       "  padding-right: 10px;\n",
       "}\n",
       "\n",
       ".xr-attrs dd {\n",
       "  grid-column: 2;\n",
       "  white-space: pre-wrap;\n",
       "  word-break: break-all;\n",
       "}\n",
       "\n",
       ".xr-icon-database,\n",
       ".xr-icon-file-text2 {\n",
       "  display: inline-block;\n",
       "  vertical-align: middle;\n",
       "  width: 1em;\n",
       "  height: 1.5em !important;\n",
       "  stroke-width: 0;\n",
       "  stroke: currentColor;\n",
       "  fill: currentColor;\n",
       "}\n",
       "</style><pre class='xr-text-repr-fallback'>&lt;xarray.DataArray &#x27;roi&#x27; (roi: 49)&gt;\n",
       "array([&#x27;a46V&#x27;, &#x27;a24c&#x27;, &#x27;a46D&#x27;, &#x27;F7&#x27;, &#x27;a9/46D&#x27;, &#x27;a8M&#x27;, &#x27;a8r&#x27;, &#x27;a8M&#x27;, &#x27;F2&#x27;, &#x27;F2&#x27;,\n",
       "       &#x27;a44&#x27;, &#x27;F2&#x27;, &#x27;a8L&#x27;, &#x27;F2&#x27;, &#x27;F2&#x27;, &#x27;F1&#x27;, &#x27;a3&#x27;, &#x27;F1&#x27;, &#x27;F1&#x27;, &#x27;F1&#x27;, &#x27;a3&#x27;,\n",
       "       &#x27;a7B&#x27;, &#x27;a7B&#x27;, &#x27;a7B&#x27;, &#x27;Thal&#x27;, &#x27;a3&#x27;, &#x27;a7B&#x27;, &#x27;a7A&#x27;, &#x27;LIP&#x27;, &#x27;LIP&#x27;, &#x27;a5&#x27;,\n",
       "       &#x27;a5&#x27;, &#x27;a5&#x27;, &#x27;a7A&#x27;, &#x27;a5&#x27;, &#x27;MT&#x27;, &#x27;DP&#x27;, &#x27;DP&#x27;, &#x27;V6A&#x27;, &#x27;DP&#x27;, &#x27;V2&#x27;, &#x27;V6A&#x27;,\n",
       "       &#x27;V1&#x27;, &#x27;V1&#x27;, &#x27;V1&#x27;, &#x27;V2&#x27;, &#x27;V1&#x27;, &#x27;V1&#x27;, &#x27;V1&#x27;], dtype=&#x27;&lt;U13&#x27;)\n",
       "Coordinates:\n",
       "  * roi      (roi) &lt;U13 &#x27;a46V&#x27; &#x27;a24c&#x27; &#x27;a46D&#x27; &#x27;F7&#x27; ... &#x27;V2&#x27; &#x27;V1&#x27; &#x27;V1&#x27; &#x27;V1&#x27;</pre><div class='xr-wrap' hidden><div class='xr-header'><div class='xr-obj-type'>xarray.DataArray</div><div class='xr-array-name'>'roi'</div><ul class='xr-dim-list'><li><span class='xr-has-index'>roi</span>: 49</li></ul></div><ul class='xr-sections'><li class='xr-section-item'><div class='xr-array-wrap'><input id='section-81e0a2e4-f5a6-4d7f-99e1-4aac130fdd38' class='xr-array-in' type='checkbox' checked><label for='section-81e0a2e4-f5a6-4d7f-99e1-4aac130fdd38' title='Show/hide data repr'><svg class='icon xr-icon-database'><use xlink:href='#icon-database'></use></svg></label><div class='xr-array-preview xr-preview'><span>&#x27;a46V&#x27; &#x27;a24c&#x27; &#x27;a46D&#x27; &#x27;F7&#x27; &#x27;a9/46D&#x27; &#x27;a8M&#x27; ... &#x27;V1&#x27; &#x27;V2&#x27; &#x27;V1&#x27; &#x27;V1&#x27; &#x27;V1&#x27;</span></div><div class='xr-array-data'><pre>array([&#x27;a46V&#x27;, &#x27;a24c&#x27;, &#x27;a46D&#x27;, &#x27;F7&#x27;, &#x27;a9/46D&#x27;, &#x27;a8M&#x27;, &#x27;a8r&#x27;, &#x27;a8M&#x27;, &#x27;F2&#x27;, &#x27;F2&#x27;,\n",
       "       &#x27;a44&#x27;, &#x27;F2&#x27;, &#x27;a8L&#x27;, &#x27;F2&#x27;, &#x27;F2&#x27;, &#x27;F1&#x27;, &#x27;a3&#x27;, &#x27;F1&#x27;, &#x27;F1&#x27;, &#x27;F1&#x27;, &#x27;a3&#x27;,\n",
       "       &#x27;a7B&#x27;, &#x27;a7B&#x27;, &#x27;a7B&#x27;, &#x27;Thal&#x27;, &#x27;a3&#x27;, &#x27;a7B&#x27;, &#x27;a7A&#x27;, &#x27;LIP&#x27;, &#x27;LIP&#x27;, &#x27;a5&#x27;,\n",
       "       &#x27;a5&#x27;, &#x27;a5&#x27;, &#x27;a7A&#x27;, &#x27;a5&#x27;, &#x27;MT&#x27;, &#x27;DP&#x27;, &#x27;DP&#x27;, &#x27;V6A&#x27;, &#x27;DP&#x27;, &#x27;V2&#x27;, &#x27;V6A&#x27;,\n",
       "       &#x27;V1&#x27;, &#x27;V1&#x27;, &#x27;V1&#x27;, &#x27;V2&#x27;, &#x27;V1&#x27;, &#x27;V1&#x27;, &#x27;V1&#x27;], dtype=&#x27;&lt;U13&#x27;)</pre></div></div></li><li class='xr-section-item'><input id='section-415efbdb-c124-48a5-8aaf-ccbebed6ad49' class='xr-section-summary-in' type='checkbox'  checked><label for='section-415efbdb-c124-48a5-8aaf-ccbebed6ad49' class='xr-section-summary' >Coordinates: <span>(1)</span></label><div class='xr-section-inline-details'></div><div class='xr-section-details'><ul class='xr-var-list'><li class='xr-var-item'><div class='xr-var-name'><span class='xr-has-index'>roi</span></div><div class='xr-var-dims'>(roi)</div><div class='xr-var-dtype'>&lt;U13</div><div class='xr-var-preview xr-preview'>&#x27;a46V&#x27; &#x27;a24c&#x27; &#x27;a46D&#x27; ... &#x27;V1&#x27; &#x27;V1&#x27;</div><input id='attrs-1d10fae4-c7ec-49b9-a15d-b3b10a1d6d08' class='xr-var-attrs-in' type='checkbox' disabled><label for='attrs-1d10fae4-c7ec-49b9-a15d-b3b10a1d6d08' title='Show/Hide attributes'><svg class='icon xr-icon-file-text2'><use xlink:href='#icon-file-text2'></use></svg></label><input id='data-b8a89fce-3320-464c-9350-af721394383d' class='xr-var-data-in' type='checkbox'><label for='data-b8a89fce-3320-464c-9350-af721394383d' title='Show/Hide data repr'><svg class='icon xr-icon-database'><use xlink:href='#icon-database'></use></svg></label><div class='xr-var-attrs'><dl class='xr-attrs'></dl></div><div class='xr-var-data'><pre>array([&#x27;a46V&#x27;, &#x27;a24c&#x27;, &#x27;a46D&#x27;, &#x27;F7&#x27;, &#x27;a9/46D&#x27;, &#x27;a8M&#x27;, &#x27;a8r&#x27;, &#x27;a8M&#x27;, &#x27;F2&#x27;, &#x27;F2&#x27;,\n",
       "       &#x27;a44&#x27;, &#x27;F2&#x27;, &#x27;a8L&#x27;, &#x27;F2&#x27;, &#x27;F2&#x27;, &#x27;F1&#x27;, &#x27;a3&#x27;, &#x27;F1&#x27;, &#x27;F1&#x27;, &#x27;F1&#x27;, &#x27;a3&#x27;,\n",
       "       &#x27;a7B&#x27;, &#x27;a7B&#x27;, &#x27;a7B&#x27;, &#x27;Thal&#x27;, &#x27;a3&#x27;, &#x27;a7B&#x27;, &#x27;a7A&#x27;, &#x27;LIP&#x27;, &#x27;LIP&#x27;, &#x27;a5&#x27;,\n",
       "       &#x27;a5&#x27;, &#x27;a5&#x27;, &#x27;a7A&#x27;, &#x27;a5&#x27;, &#x27;MT&#x27;, &#x27;DP&#x27;, &#x27;DP&#x27;, &#x27;V6A&#x27;, &#x27;DP&#x27;, &#x27;V2&#x27;, &#x27;V6A&#x27;,\n",
       "       &#x27;V1&#x27;, &#x27;V1&#x27;, &#x27;V1&#x27;, &#x27;V2&#x27;, &#x27;V1&#x27;, &#x27;V1&#x27;, &#x27;V1&#x27;], dtype=&#x27;&lt;U13&#x27;)</pre></div></li></ul></div></li><li class='xr-section-item'><input id='section-fe1fbbd1-22fb-4ab0-8bdb-62a0ac59da93' class='xr-section-summary-in' type='checkbox' disabled ><label for='section-fe1fbbd1-22fb-4ab0-8bdb-62a0ac59da93' class='xr-section-summary'  title='Expand/collapse section'>Attributes: <span>(0)</span></label><div class='xr-section-inline-details'></div><div class='xr-section-details'><dl class='xr-attrs'></dl></div></li></ul></div></div>"
      ],
      "text/plain": [
       "<xarray.DataArray 'roi' (roi: 49)>\n",
       "array(['a46V', 'a24c', 'a46D', 'F7', 'a9/46D', 'a8M', 'a8r', 'a8M', 'F2', 'F2',\n",
       "       'a44', 'F2', 'a8L', 'F2', 'F2', 'F1', 'a3', 'F1', 'F1', 'F1', 'a3',\n",
       "       'a7B', 'a7B', 'a7B', 'Thal', 'a3', 'a7B', 'a7A', 'LIP', 'LIP', 'a5',\n",
       "       'a5', 'a5', 'a7A', 'a5', 'MT', 'DP', 'DP', 'V6A', 'DP', 'V2', 'V6A',\n",
       "       'V1', 'V1', 'V1', 'V2', 'V1', 'V1', 'V1'], dtype='<U13')\n",
       "Coordinates:\n",
       "  * roi      (roi) <U13 'a46V' 'a24c' 'a46D' 'F7' ... 'V2' 'V1' 'V1' 'V1'"
      ]
     },
     "execution_count": 13,
     "metadata": {},
     "output_type": "execute_result"
    }
   ],
   "source": [
    "s.data.roi"
   ]
  },
  {
   "cell_type": "code",
   "execution_count": null,
   "id": "704daabf-0c38-4542-bfaa-ac8829ba96c7",
   "metadata": {},
   "outputs": [],
   "source": []
  }
 ],
 "metadata": {
  "kernelspec": {
   "display_name": "Python 3",
   "language": "python",
   "name": "python3"
  },
  "language_info": {
   "codemirror_mode": {
    "name": "ipython",
    "version": 3
   },
   "file_extension": ".py",
   "mimetype": "text/x-python",
   "name": "python",
   "nbconvert_exporter": "python",
   "pygments_lexer": "ipython3",
   "version": "3.8.8"
  }
 },
 "nbformat": 4,
 "nbformat_minor": 5
}
