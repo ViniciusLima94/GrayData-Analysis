{
 "cells": [
  {
   "cell_type": "markdown",
   "id": "54d7899e-f3f3-40af-b15d-86d3cc01669d",
   "metadata": {},
   "source": [
    "### The temporal network class\n",
    "\n",
    "In this notebook we explore how to load the coherence connectivity data with the temporal network class"
   ]
  },
  {
   "cell_type": "code",
   "execution_count": 1,
   "id": "d55a6a77-5de2-4e7e-9118-2fcf0eeb217e",
   "metadata": {},
   "outputs": [],
   "source": [
    "# Path to the toolbox\n",
    "import sys; sys.path.insert(1, '/home/vinicius/storage1/projects/GrayData-Analysis')\n",
    "import os\n",
    "import xarray as xr\n",
    "import pandas as pd\n",
    "import numpy  as np\n",
    "# GDa\n",
    "from   GDa.temporal_network import temporal_network\n",
    "import matplotlib.pyplot as plt "
   ]
  },
  {
   "cell_type": "markdown",
   "id": "2ed5d095-a707-4004-b90c-96a1fc2d9c67",
   "metadata": {},
   "source": [
    "### Instantiate temporal network"
   ]
  },
  {
   "cell_type": "code",
   "execution_count": 2,
   "id": "d621bfe6-6786-4702-a704-80ab0615466c",
   "metadata": {},
   "outputs": [],
   "source": [
    "net = temporal_network(coh_file='coh_k_0.3_morlet.nc', coh_sig_file=None, \n",
    "                 date='141017', trial_type=[1], behavioral_response=[1])"
   ]
  },
  {
   "cell_type": "code",
   "execution_count": 3,
   "id": "53d0e340-85b0-4ecd-9f09-c25dc9406cf9",
   "metadata": {},
   "outputs": [],
   "source": [
    "net.convert_to_adjacency()"
   ]
  },
  {
   "cell_type": "code",
   "execution_count": null,
   "id": "fb342144-ef9b-42a3-baba-2768966f1b27",
   "metadata": {},
   "outputs": [],
   "source": [
    "out = net.super_tensor.groupby(\"roi\").mean(\"roi\").interp({\"freqs\":np.linspace(3,75,20)}, \"quadratic\")"
   ]
  },
  {
   "cell_type": "code",
   "execution_count": null,
   "id": "471ea850-4f78-4ea5-9217-f7fcdc0cd037",
   "metadata": {},
   "outputs": [],
   "source": [
    "out.mean(dim=(\"times\",\"trials\")).plot(x=\"freqs\", hue=\"roi\", color=\"b\", lw=1);\n",
    "plt.legend()"
   ]
  }
 ],
 "metadata": {
  "kernelspec": {
   "display_name": "Python 3",
   "language": "python",
   "name": "python3"
  },
  "language_info": {
   "codemirror_mode": {
    "name": "ipython",
    "version": 3
   },
   "file_extension": ".py",
   "mimetype": "text/x-python",
   "name": "python",
   "nbconvert_exporter": "python",
   "pygments_lexer": "ipython3",
   "version": "3.8.8"
  }
 },
 "nbformat": 4,
 "nbformat_minor": 5
}
