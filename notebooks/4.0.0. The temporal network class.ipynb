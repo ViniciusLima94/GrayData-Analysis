{
 "cells": [
  {
   "cell_type": "markdown",
   "id": "54d7899e-f3f3-40af-b15d-86d3cc01669d",
   "metadata": {},
   "source": [
    "### The temporal network class\n",
    "\n",
    "In this notebook we explore how to load the coherence connectivity data with the temporal network class"
   ]
  },
  {
   "cell_type": "code",
   "execution_count": 1,
   "id": "d55a6a77-5de2-4e7e-9118-2fcf0eeb217e",
   "metadata": {},
   "outputs": [],
   "source": [
    "# Path to the toolbox\n",
    "import sys\n",
    "\n",
    "sys.path.insert(1, \"/home/vinicius/storage1/projects/GrayData-Analysis\")\n",
    "import os\n",
    "\n",
    "import matplotlib.pyplot as plt\n",
    "import numpy as np\n",
    "import pandas as pd\n",
    "import xarray as xr\n",
    "\n",
    "# GDa\n",
    "from GDa.temporal_network import temporal_network"
   ]
  },
  {
   "cell_type": "markdown",
   "id": "2ed5d095-a707-4004-b90c-96a1fc2d9c67",
   "metadata": {},
   "source": [
    "### Instantiate temporal network"
   ]
  },
  {
   "cell_type": "code",
   "execution_count": 5,
   "id": "d621bfe6-6786-4702-a704-80ab0615466c",
   "metadata": {},
   "outputs": [],
   "source": [
    "net = temporal_network(\n",
    "    coh_file=\"coh_k_0.3_multitaper_at_cue.nc\",\n",
    "    coh_sig_file=\"coh_k_0.3_multitaper_at_cue_surr.nc\",\n",
    "    date=\"141017\",\n",
    "    trial_type=[1],\n",
    "    behavioral_response=[1],\n",
    ")"
   ]
  },
  {
   "cell_type": "code",
   "execution_count": 6,
   "id": "53d0e340-85b0-4ecd-9f09-c25dc9406cf9",
   "metadata": {},
   "outputs": [],
   "source": [
    "net.convert_to_adjacency()"
   ]
  },
  {
   "cell_type": "code",
   "execution_count": 11,
   "id": "e0e6e5fb-0633-47cb-be98-3fc2133509f3",
   "metadata": {},
   "outputs": [],
   "source": [
    "A = net.A.isel(freqs=4, trials=123, times=50)"
   ]
  },
  {
   "cell_type": "code",
   "execution_count": 13,
   "id": "914f759a-d9b1-41d3-b5e0-4d9c618c6e07",
   "metadata": {},
   "outputs": [],
   "source": [
    "from GDa.graphics.plot_brain_sketch import plot_edge_brain_sketch"
   ]
  },
  {
   "cell_type": "code",
   "execution_count": 16,
   "id": "cbc63184-fbdd-4eda-8fd8-26c5f70e94ff",
   "metadata": {},
   "outputs": [],
   "source": [
    "pairs = np.array([net.A.attrs[\"sources\"], net.A.attrs[\"targets\"]]).T"
   ]
  },
  {
   "cell_type": "code",
   "execution_count": 18,
   "id": "0a05e7f0-5c23-42ba-b9d4-811958729028",
   "metadata": {},
   "outputs": [],
   "source": [
    "nodes = net.A.attrs[\"channels_labels\"]"
   ]
  },
  {
   "cell_type": "code",
   "execution_count": 25,
   "id": "d18c7639-cd64-46b3-88c0-f7483c1009bc",
   "metadata": {},
   "outputs": [],
   "source": [
    "adj = A.to_dataframe(name=\"adj\").reset_index()"
   ]
  },
  {
   "cell_type": "code",
   "execution_count": 27,
   "id": "604acc54-b14e-44b6-b0d7-751bce77d4be",
   "metadata": {},
   "outputs": [],
   "source": [
    "del adj[\"trials\"], adj[\"times\"], adj[\"freqs\"]"
   ]
  },
  {
   "cell_type": "code",
   "execution_count": 29,
   "id": "6a5c7276-f82e-49d5-8aa2-13a2e89cfc60",
   "metadata": {},
   "outputs": [],
   "source": [
    "adj.to_csv(\"adj.csv\")"
   ]
  },
  {
   "cell_type": "code",
   "execution_count": null,
   "id": "196c14fe-0565-47b4-bf65-5864854d0b65",
   "metadata": {},
   "outputs": [],
   "source": []
  }
 ],
 "metadata": {
  "kernelspec": {
   "display_name": "Python 3 (ipykernel)",
   "language": "python",
   "name": "python3"
  },
  "language_info": {
   "codemirror_mode": {
    "name": "ipython",
    "version": 3
   },
   "file_extension": ".py",
   "mimetype": "text/x-python",
   "name": "python",
   "nbconvert_exporter": "python",
   "pygments_lexer": "ipython3",
   "version": "3.8.8"
  }
 },
 "nbformat": 4,
 "nbformat_minor": 5
}
