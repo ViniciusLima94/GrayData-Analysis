{
 "cells": [
  {
   "cell_type": "markdown",
   "metadata": {},
   "source": [
    "### Algorithm to detect and characterize burst dynamics\n"
   ]
  },
  {
   "cell_type": "code",
   "execution_count": 1,
   "metadata": {},
   "outputs": [],
   "source": [
    "# Adding GDa to path\n",
    "import sys\n",
    "raw_path = '/home/vinicius/storage1/projects/GrayData-Analysis'\n",
    "sys.path.insert(1, raw_path)\n",
    "import GDa.stats.bursting                as     bst\n",
    "from   GDa.stats.util                    import custom_mean, custom_std\n",
    "from   GDa.session                       import session\n",
    "from   GDa.temporal_network              import temporal_network\n",
    "from   GDa.util                          import smooth\n",
    "\n",
    "import seaborn                           as       sns\n",
    "import numpy                             as       np\n",
    "import xarray                            as       xr\n",
    "import matplotlib.pyplot                 as       plt\n",
    "import scipy.signal\n",
    "import time\n",
    "import os\n",
    "import h5py\n",
    "\n",
    "from   xfrites.conn.conn_coh             import conn_coherence_wav\n",
    "from   tqdm                              import tqdm\n",
    "from   sklearn.manifold                  import TSNE\n",
    "from   scipy                             import stats"
   ]
  },
  {
   "cell_type": "markdown",
   "metadata": {},
   "source": [
    "### Detecting bursts (example)"
   ]
  },
  {
   "cell_type": "code",
   "execution_count": 21,
   "metadata": {},
   "outputs": [],
   "source": [
    "x         = np.array([0,1,1,0,0,1,0,0,0,1,1,1,1,1,1,1,1,0,0,0,1,1,1])\n",
    "mask      = {}\n",
    "mask['1'] = np.array([1,1,1,1,1,1,1,1,1,1,1,1,0,0,0,0,0,0,0,0,0,0,0]).astype(bool)\n",
    "mask['2'] = np.logical_not(mask['1'])"
   ]
  },
  {
   "cell_type": "code",
   "execution_count": 22,
   "metadata": {},
   "outputs": [
    {
     "data": {
      "image/png": "[encoded data removed]",
      "text/plain": [
       "<Figure size 864x576 with 1 Axes>"
      ]
     },
     "metadata": {
      "needs_background": "light"
     },
     "output_type": "display_data"
    }
   ],
   "source": [
    "plt.figure(figsize=(12,8))\n",
    "plt.vlines(np.arange(len(x))[x==1], 0, 1,  color='k', label='spike-train')\n",
    "plt.plot(mask['1'], lw=3, label='Stage 1', color='blue')\n",
    "plt.plot(mask['2'], lw=3, label='Stage 2', color='red')\n",
    "plt.ylim(0,1.01)\n",
    "plt.legend()\n",
    "plt.tight_layout()"
   ]
  },
  {
   "cell_type": "markdown",
   "metadata": {},
   "source": [
    "#### Finding the length of burst durations"
   ]
  },
  {
   "cell_type": "code",
   "execution_count": 23,
   "metadata": {},
   "outputs": [
    {
     "name": "stdout",
     "output_type": "stream",
     "text": [
      "burst lengths = [2 1 8 3]\n"
     ]
    }
   ],
   "source": [
    "print(f'burst lengths = {bst.find_activation_sequences(x, dt=None, pad=False, max_size=None)}')"
   ]
  },
  {
   "cell_type": "markdown",
   "metadata": {},
   "source": [
    "#### Finding the length of burst durations for segments of the spike-train using a mask"
   ]
  },
  {
   "cell_type": "code",
   "execution_count": 24,
   "metadata": {},
   "outputs": [
    {
     "name": "stdout",
     "output_type": "stream",
     "text": [
      "Mask 0, burst lengths = [2 1 3]\n",
      "Mask 1, burst lengths = [5 3]\n"
     ]
    }
   ],
   "source": [
    "for idx, key in enumerate(mask):\n",
    "    print(f'Mask {idx}, burst lengths = {bst.masked_find_activation_sequences(x, mask[key], dt=None, drop_edges=False)}')"
   ]
  },
  {
   "cell_type": "markdown",
   "metadata": {},
   "source": [
    "#### Finding the length of burst durations for segments of the spike-train using a mask dropping the bursts in the edge between masks"
   ]
  },
  {
   "cell_type": "code",
   "execution_count": 25,
   "metadata": {},
   "outputs": [
    {
     "name": "stdout",
     "output_type": "stream",
     "text": [
      "Mask 0, burst lengths = [2 1]\n",
      "Mask 1, burst lengths = [3]\n"
     ]
    }
   ],
   "source": [
    "for idx, key in enumerate(mask):\n",
    "    print(f'Mask {idx}, burst lengths = {bst.masked_find_activation_sequences(x, mask[key], dt=None, drop_edges=True)}')"
   ]
  }
 ],
 "metadata": {
  "kernelspec": {
   "display_name": "Python 3",
   "language": "python",
   "name": "python3"
  },
  "language_info": {
   "codemirror_mode": {
    "name": "ipython",
    "version": 3
   },
   "file_extension": ".py",
   "mimetype": "text/x-python",
   "name": "python",
   "nbconvert_exporter": "python",
   "pygments_lexer": "ipython3",
   "version": "3.8.8"
  }
 },
 "nbformat": 4,
 "nbformat_minor": 4
}
