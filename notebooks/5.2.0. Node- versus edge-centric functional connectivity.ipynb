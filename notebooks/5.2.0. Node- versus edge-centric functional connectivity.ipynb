{
 "cells": [
  {
   "cell_type": "markdown",
   "metadata": {},
   "source": [
    "### Nodes-link Inter-relation coefficient\n",
    "\n",
    "Does coherence is fully explained by local power? This can be adressed via the nodes-link inter-realtion coefficient (NLI):\n",
    "\n",
    "$NIL_{ij} = \\langle H[Z(POW_i)]H[Z(POW_j)]H[Z(COH_{ij})]\\rangle + \\langle \\tilde{H}[Z(POW_i)]\\tilde{H}[Z(POW_j)]\\tilde{H}[Z(COH_{ij})]\\rangle$\n",
    "\n",
    "where, \n",
    "\n",
    "$H[x] = x$, if $x \\geq 0$ and $\\tilde{H}[x] = -x$, if $x \\leq 0$"
   ]
  },
  {
   "cell_type": "code",
   "execution_count": 1,
   "metadata": {},
   "outputs": [],
   "source": [
    "# Adding GDa to path\n",
    "import os\n",
    "import sys\n",
    "\n",
    "import matplotlib.pyplot as plt\n",
    "import numba as nb\n",
    "import numpy as np\n",
    "import pandas as pd\n",
    "import xarray as xr\n",
    "\n",
    "sys.path.insert(1, \"/home/vinicius/storage1/projects/GrayData-Analysis\")\n",
    "\n",
    "from tqdm import tqdm\n",
    "\n",
    "from GDa.flatmap.flatmap import flatmap\n",
    "from GDa.net.layerwise import compute_network_partition\n",
    "from GDa.net.temporal import compute_allegiance_matrix\n",
    "from GDa.net.util import convert_to_adjacency\n",
    "from GDa.temporal_network import temporal_network"
   ]
  },
  {
   "cell_type": "code",
   "execution_count": 2,
   "metadata": {},
   "outputs": [],
   "source": [
    "@nb.vectorize([nb.float64(nb.float64)])\n",
    "def H(x):\n",
    "    if x >= 0:\n",
    "        return x\n",
    "    else:\n",
    "        return 0\n",
    "\n",
    "\n",
    "@nb.vectorize([nb.float64(nb.float64)])\n",
    "def H_tilde(x):\n",
    "    if x <= 0:\n",
    "        return -x\n",
    "    else:\n",
    "        return 0"
   ]
  },
  {
   "cell_type": "markdown",
   "metadata": {},
   "source": [
    "#### Loading power and temporal network"
   ]
  },
  {
   "cell_type": "code",
   "execution_count": 3,
   "metadata": {},
   "outputs": [],
   "source": [
    "_ROOT = os.path.expanduser(\"~/storage1/projects/GrayData-Analysis\")\n",
    "_RESULTS = os.path.join(\"Results\", \"lucy\", \"141017\", \"session01\")\n",
    "\n",
    "power_file = \"power_tt_1_br_1_at_cue.nc\"\n",
    "coh_sig_file = \"coh_k_0.3_multitaper_at_cue_surr.nc\"\n",
    "wt = None"
   ]
  },
  {
   "cell_type": "code",
   "execution_count": 4,
   "metadata": {},
   "outputs": [],
   "source": [
    "power = xr.load_dataarray(os.path.join(_ROOT, _RESULTS, power_file))\n",
    "power = power.transpose(\"roi\", \"freqs\", \"trials\", \"times\")"
   ]
  },
  {
   "cell_type": "code",
   "execution_count": 5,
   "metadata": {},
   "outputs": [],
   "source": [
    "net = temporal_network(\n",
    "    coh_file=f\"coh_k_0.3_multitaper_at_cue.nc\",\n",
    "    coh_sig_file=coh_sig_file,\n",
    "    wt=wt,\n",
    "    date=\"141017\",\n",
    "    trial_type=[1],\n",
    "    behavioral_response=[1],\n",
    ")"
   ]
  },
  {
   "cell_type": "code",
   "execution_count": 6,
   "metadata": {},
   "outputs": [],
   "source": [
    "# Concatenate trials and times\n",
    "power = power.stack(samples=(\"trials\", \"times\"))\n",
    "coh = net.super_tensor.stack(samples=(\"trials\", \"times\"))"
   ]
  },
  {
   "cell_type": "code",
   "execution_count": 7,
   "metadata": {},
   "outputs": [],
   "source": [
    "# z-score\n",
    "Zpower = (power - power.mean(\"samples\")) / power.std(\"samples\")\n",
    "Zcoh = (coh - coh.mean(\"samples\")) / coh.std(\"samples\")"
   ]
  },
  {
   "cell_type": "code",
   "execution_count": 8,
   "metadata": {},
   "outputs": [],
   "source": [
    "roi = Zcoh.roi.data\n",
    "freqs = Zcoh.freqs.data\n",
    "n_rois = len(roi)\n",
    "n_freqs = len(freqs)"
   ]
  },
  {
   "cell_type": "markdown",
   "metadata": {},
   "source": [
    "#### Compute NLI"
   ]
  },
  {
   "cell_type": "code",
   "execution_count": 9,
   "metadata": {},
   "outputs": [],
   "source": [
    "sources = net.super_tensor.attrs[\"sources\"].astype(int)\n",
    "targets = net.super_tensor.attrs[\"targets\"].astype(int)\n",
    "areas = np.asarray(net.super_tensor.attrs[\"areas\"])"
   ]
  },
  {
   "cell_type": "code",
   "execution_count": 10,
   "metadata": {},
   "outputs": [],
   "source": [
    "nli = np.zeros((Zcoh.shape[0], Zcoh.shape[1]))\n",
    "for p, (s, t) in enumerate(zip(sources, targets)):\n",
    "    nli[p] = np.mean(H(Zpower[s]) * H(Zpower[t]) * H(Zcoh[p]), -1) + np.mean(\n",
    "        H_tilde(Zpower[s]) * H_tilde(Zpower[t]) * H_tilde(Zcoh[p]), -1\n",
    "    )\n",
    "nli = xr.DataArray(\n",
    "    nli,\n",
    "    dims=(\"roi\", \"freqs\"),\n",
    "    name=\"nli\",\n",
    "    coords={\"roi\": net.super_tensor.roi.data, \"freqs\": net.super_tensor.freqs.data},\n",
    ")"
   ]
  },
  {
   "cell_type": "code",
   "execution_count": 11,
   "metadata": {},
   "outputs": [],
   "source": [
    "# Create data frame with the data\n",
    "mean_power = power.mean(\"samples\")\n",
    "mean_coh = coh.mean(\"samples\")\n",
    "\n",
    "out = []\n",
    "for f in range(n_freqs):\n",
    "    data = np.array(\n",
    "        [\n",
    "            areas[sources],\n",
    "            areas[targets],\n",
    "            sources,\n",
    "            targets,\n",
    "            [freqs[f]] * n_rois,\n",
    "            nli.isel(freqs=f),\n",
    "            mean_coh.isel(freqs=f),\n",
    "        ]\n",
    "    )\n",
    "    out += [\n",
    "        pd.DataFrame(\n",
    "            data=data.T,\n",
    "            columns=[\"roi_s\", \"roi_t\", \"s\", \"t\", \"f\", \"nli\", \"coh_st\"],\n",
    "        )\n",
    "    ]\n",
    "\n",
    "out = pd.concat(out, axis=0)"
   ]
  },
  {
   "cell_type": "code",
   "execution_count": 13,
   "metadata": {},
   "outputs": [
    {
     "data": {
      "text/html": [
       "<div>\n",
       "<style scoped>\n",
       "    .dataframe tbody tr th:only-of-type {\n",
       "        vertical-align: middle;\n",
       "    }\n",
       "\n",
       "    .dataframe tbody tr th {\n",
       "        vertical-align: top;\n",
       "    }\n",
       "\n",
       "    .dataframe thead th {\n",
       "        text-align: right;\n",
       "    }\n",
       "</style>\n",
       "<table border=\"1\" class=\"dataframe\">\n",
       "  <thead>\n",
       "    <tr style=\"text-align: right;\">\n",
       "      <th></th>\n",
       "      <th>roi_s</th>\n",
       "      <th>roi_t</th>\n",
       "      <th>s</th>\n",
       "      <th>t</th>\n",
       "      <th>f</th>\n",
       "      <th>nli</th>\n",
       "      <th>coh_st</th>\n",
       "    </tr>\n",
       "  </thead>\n",
       "  <tbody>\n",
       "    <tr>\n",
       "      <th>0</th>\n",
       "      <td>a46D</td>\n",
       "      <td>a8B</td>\n",
       "      <td>0</td>\n",
       "      <td>1</td>\n",
       "      <td>3.0</td>\n",
       "      <td>1.1182930733291794</td>\n",
       "      <td>0.05599589</td>\n",
       "    </tr>\n",
       "    <tr>\n",
       "      <th>1</th>\n",
       "      <td>a46D</td>\n",
       "      <td>F6</td>\n",
       "      <td>0</td>\n",
       "      <td>2</td>\n",
       "      <td>3.0</td>\n",
       "      <td>0.5020865050912139</td>\n",
       "      <td>0.015063142</td>\n",
       "    </tr>\n",
       "    <tr>\n",
       "      <th>2</th>\n",
       "      <td>a46D</td>\n",
       "      <td>a9/46D</td>\n",
       "      <td>0</td>\n",
       "      <td>3</td>\n",
       "      <td>3.0</td>\n",
       "      <td>1.0568761563774955</td>\n",
       "      <td>0.04518061</td>\n",
       "    </tr>\n",
       "    <tr>\n",
       "      <th>3</th>\n",
       "      <td>a46D</td>\n",
       "      <td>a8M</td>\n",
       "      <td>0</td>\n",
       "      <td>4</td>\n",
       "      <td>3.0</td>\n",
       "      <td>1.759252767440444</td>\n",
       "      <td>0.020243911</td>\n",
       "    </tr>\n",
       "    <tr>\n",
       "      <th>4</th>\n",
       "      <td>a46D</td>\n",
       "      <td>a8B</td>\n",
       "      <td>0</td>\n",
       "      <td>5</td>\n",
       "      <td>3.0</td>\n",
       "      <td>1.4272198888328538</td>\n",
       "      <td>0.026135035</td>\n",
       "    </tr>\n",
       "  </tbody>\n",
       "</table>\n",
       "</div>"
      ],
      "text/plain": [
       "  roi_s   roi_t  s  t    f                 nli       coh_st\n",
       "0  a46D     a8B  0  1  3.0  1.1182930733291794   0.05599589\n",
       "1  a46D      F6  0  2  3.0  0.5020865050912139  0.015063142\n",
       "2  a46D  a9/46D  0  3  3.0  1.0568761563774955   0.04518061\n",
       "3  a46D     a8M  0  4  3.0   1.759252767440444  0.020243911\n",
       "4  a46D     a8B  0  5  3.0  1.4272198888328538  0.026135035"
      ]
     },
     "execution_count": 13,
     "metadata": {},
     "output_type": "execute_result"
    }
   ],
   "source": [
    "out.head()"
   ]
  }
 ],
 "metadata": {
  "kernelspec": {
   "display_name": "Python 3 (ipykernel)",
   "language": "python",
   "name": "python3"
  },
  "language_info": {
   "codemirror_mode": {
    "name": "ipython",
    "version": 3
   },
   "file_extension": ".py",
   "mimetype": "text/x-python",
   "name": "python",
   "nbconvert_exporter": "python",
   "pygments_lexer": "ipython3",
   "version": "3.8.8"
  }
 },
 "nbformat": 4,
 "nbformat_minor": 4
}
