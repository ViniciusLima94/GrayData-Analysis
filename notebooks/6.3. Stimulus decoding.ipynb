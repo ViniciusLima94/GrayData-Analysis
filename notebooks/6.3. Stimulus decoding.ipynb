{
 "cells": [
  {
   "cell_type": "markdown",
   "id": "249d3ee5-b36e-4d71-b222-f22e02f8c83d",
   "metadata": {},
   "source": [
    "#### Stimulus decoding"
   ]
  },
  {
   "cell_type": "code",
   "execution_count": 1,
   "id": "2182fce2-edaf-430e-90d2-7b11571e69bd",
   "metadata": {},
   "outputs": [],
   "source": [
    "import sys\n",
    "\n",
    "sys.path.insert(1, \"/home/vinicius/storage1/projects/GrayData-Analysis\")"
   ]
  },
  {
   "cell_type": "code",
   "execution_count": 2,
   "id": "aae16de8-137a-40e2-908e-9a9910839d89",
   "metadata": {},
   "outputs": [],
   "source": [
    "import itertools\n",
    "import os\n",
    "\n",
    "import matplotlib\n",
    "import matplotlib.patches as patches\n",
    "import matplotlib.pyplot as plt\n",
    "import numpy as np\n",
    "import pandas as pd\n",
    "import seaborn as sns\n",
    "import xarray as xr\n",
    "from frites.conn.conn_spec import conn_spec\n",
    "from frites.conn.conn_tf import _tf_decomp\n",
    "from frites.utils import parallel_func\n",
    "from scipy.signal import find_peaks\n",
    "from tqdm import tqdm\n",
    "\n",
    "from config import sessions\n",
    "from GDa.session import session, session_info\n",
    "from GDa.signal.surrogates import trial_swap_surrogates\n",
    "from GDa.temporal_network import temporal_network\n",
    "from GDa.util import _extract_roi, average_stages, create_stages_time_grid"
   ]
  },
  {
   "cell_type": "code",
   "execution_count": 3,
   "id": "a8de492c-c3f3-4c19-b313-767fe83b6b18",
   "metadata": {},
   "outputs": [],
   "source": [
    "tt = br = avg = 1\n",
    "at = \"cue\"\n",
    "_ROOT = os.path.expanduser(\"~/funcog/gda\")"
   ]
  },
  {
   "cell_type": "code",
   "execution_count": 4,
   "id": "60432db5-cdd1-4eb2-ad98-87fcfe282062",
   "metadata": {},
   "outputs": [
    {
     "name": "stderr",
     "output_type": "stream",
     "text": [
      "100%|███████████████████████████████████████████████████████████████████████████████████████████| 1/1 [00:04<00:00,  4.12s/it]\n"
     ]
    }
   ],
   "source": [
    "sxx = []\n",
    "stim = []\n",
    "i = 0\n",
    "for s_id in tqdm([\"141024\"]):\n",
    "    _FILE_NAME = f\"power_tt_{tt}_br_{br}_at_{at}.nc\"\n",
    "    path_pow = os.path.join(_ROOT, f\"Results/lucy/{s_id}/session01\", _FILE_NAME)\n",
    "    power = xr.load_dataarray(path_pow)\n",
    "    # Averages power for each period (baseline, cue, delay, match) if needed\n",
    "    out = average_stages(power, avg)\n",
    "\n",
    "    # sxx += [out.sel(roi=\"V1\")]\n",
    "    # stim += [out.attrs[\"stim\"].astype(int) + 5 * i] * len(out[\"roi\"])\n",
    "    # i = i + 1"
   ]
  },
  {
   "cell_type": "code",
   "execution_count": 5,
   "id": "fcb71d60-c206-436f-8819-3c563fd843e2",
   "metadata": {},
   "outputs": [],
   "source": [
    "attrs = out.attrs\n",
    "out = out.groupby(\"roi\").mean(\"roi\")\n",
    "out.attrs = attrs"
   ]
  },
  {
   "cell_type": "code",
   "execution_count": 6,
   "id": "7e965dfa-eb8a-4492-ab2b-5e845e7d0d65",
   "metadata": {},
   "outputs": [],
   "source": [
    "df = (\n",
    "    out.assign_coords({\"trials\": out.stim.astype(int)})\n",
    "    .to_dataframe(name=\"power\")\n",
    "    .reset_index()\n",
    ")"
   ]
  },
  {
   "cell_type": "code",
   "execution_count": 7,
   "id": "0e2daf46-a76d-4ada-ba56-175615ca5b3d",
   "metadata": {},
   "outputs": [],
   "source": [
    "rois = df.roi.unique()"
   ]
  },
  {
   "cell_type": "code",
   "execution_count": 8,
   "id": "93db8516-1293-4f55-987d-cefab8aca739",
   "metadata": {},
   "outputs": [],
   "source": [
    "rois_dict = dict(zip(rois, range(len(rois))))"
   ]
  },
  {
   "cell_type": "code",
   "execution_count": 9,
   "id": "a30efa51-f0e5-465e-a859-5dca658cb968",
   "metadata": {},
   "outputs": [],
   "source": [
    "df[\"roi\"] = df[\"roi\"].map(rois_dict)"
   ]
  },
  {
   "cell_type": "code",
   "execution_count": 10,
   "id": "54c53764-1a34-443c-9c42-d6abb1dc5e7f",
   "metadata": {},
   "outputs": [
    {
     "data": {
      "text/html": [
       "<div>\n",
       "<style scoped>\n",
       "    .dataframe tbody tr th:only-of-type {\n",
       "        vertical-align: middle;\n",
       "    }\n",
       "\n",
       "    .dataframe tbody tr th {\n",
       "        vertical-align: top;\n",
       "    }\n",
       "\n",
       "    .dataframe thead th {\n",
       "        text-align: right;\n",
       "    }\n",
       "</style>\n",
       "<table border=\"1\" class=\"dataframe\">\n",
       "  <thead>\n",
       "    <tr style=\"text-align: right;\">\n",
       "      <th></th>\n",
       "      <th>trials</th>\n",
       "      <th>roi</th>\n",
       "      <th>freqs</th>\n",
       "      <th>times</th>\n",
       "      <th>power</th>\n",
       "    </tr>\n",
       "  </thead>\n",
       "  <tbody>\n",
       "    <tr>\n",
       "      <th>0</th>\n",
       "      <td>5</td>\n",
       "      <td>0</td>\n",
       "      <td>3.0</td>\n",
       "      <td>0</td>\n",
       "      <td>9.196725e-08</td>\n",
       "    </tr>\n",
       "    <tr>\n",
       "      <th>1</th>\n",
       "      <td>5</td>\n",
       "      <td>0</td>\n",
       "      <td>3.0</td>\n",
       "      <td>1</td>\n",
       "      <td>4.911998e-08</td>\n",
       "    </tr>\n",
       "    <tr>\n",
       "      <th>2</th>\n",
       "      <td>5</td>\n",
       "      <td>0</td>\n",
       "      <td>3.0</td>\n",
       "      <td>2</td>\n",
       "      <td>9.271023e-08</td>\n",
       "    </tr>\n",
       "    <tr>\n",
       "      <th>3</th>\n",
       "      <td>5</td>\n",
       "      <td>0</td>\n",
       "      <td>3.0</td>\n",
       "      <td>3</td>\n",
       "      <td>5.901304e-08</td>\n",
       "    </tr>\n",
       "    <tr>\n",
       "      <th>4</th>\n",
       "      <td>5</td>\n",
       "      <td>0</td>\n",
       "      <td>3.0</td>\n",
       "      <td>4</td>\n",
       "      <td>3.256154e-08</td>\n",
       "    </tr>\n",
       "  </tbody>\n",
       "</table>\n",
       "</div>"
      ],
      "text/plain": [
       "   trials  roi  freqs  times         power\n",
       "0       5    0    3.0      0  9.196725e-08\n",
       "1       5    0    3.0      1  4.911998e-08\n",
       "2       5    0    3.0      2  9.271023e-08\n",
       "3       5    0    3.0      3  5.901304e-08\n",
       "4       5    0    3.0      4  3.256154e-08"
      ]
     },
     "execution_count": 10,
     "metadata": {},
     "output_type": "execute_result"
    }
   ],
   "source": [
    "df.head()"
   ]
  },
  {
   "cell_type": "code",
   "execution_count": 11,
   "id": "3dc31028-3200-4ae9-8595-1380170b5b9c",
   "metadata": {},
   "outputs": [],
   "source": [
    "from sklearn.cluster import KMeans\n",
    "from sklearn.ensemble import RandomForestClassifier\n",
    "from sklearn.manifold import TSNE\n",
    "from sklearn.metrics import accuracy_score, confusion_matrix, silhouette_score\n",
    "from sklearn.model_selection import GridSearchCV, cross_val_score\n",
    "from sklearn.preprocessing import StandardScaler"
   ]
  },
  {
   "cell_type": "code",
   "execution_count": 12,
   "id": "7684c2a5-4eb3-4a30-b8ff-160e9379fbc7",
   "metadata": {},
   "outputs": [
    {
     "data": {
      "text/plain": [
       "756600"
      ]
     },
     "execution_count": 12,
     "metadata": {},
     "output_type": "execute_result"
    }
   ],
   "source": [
    "len(df)"
   ]
  },
  {
   "cell_type": "code",
   "execution_count": 13,
   "id": "b598057e-1c21-473a-8c8a-0e6c340cc465",
   "metadata": {},
   "outputs": [],
   "source": [
    "mask = np.zeros(len(df), dtype=bool)\n",
    "idx = np.random.choice(np.arange(0, len(df)), size=int(len(df) * 0.77), replace=False)\n",
    "mask[idx] = True"
   ]
  },
  {
   "cell_type": "code",
   "execution_count": 14,
   "id": "a974df91-1cfb-49da-b4cb-50d545c0fc22",
   "metadata": {},
   "outputs": [
    {
     "data": {
      "text/plain": [
       "0.77"
      ]
     },
     "execution_count": 14,
     "metadata": {},
     "output_type": "execute_result"
    }
   ],
   "source": [
    "mask.sum() / len(mask)"
   ]
  },
  {
   "cell_type": "code",
   "execution_count": 15,
   "id": "00412cac-5686-4335-b73b-fca499406cf8",
   "metadata": {},
   "outputs": [],
   "source": [
    "x_train, y_train = (\n",
    "    df.iloc[:, 1:].values[mask, ...],\n",
    "    df.trials.values[mask],\n",
    ")\n",
    "\n",
    "x_test, y_test = (\n",
    "    df.iloc[:, 1:].values[~mask, ...],\n",
    "    df.trials.values[~mask],\n",
    ")"
   ]
  },
  {
   "cell_type": "code",
   "execution_count": 16,
   "id": "5e79b1c3-df88-4fc7-bd64-5142671ff9db",
   "metadata": {},
   "outputs": [
    {
     "name": "stdout",
     "output_type": "stream",
     "text": [
      "(582582, 4)\n",
      "(174018, 4)\n"
     ]
    }
   ],
   "source": [
    "print(x_train.shape)\n",
    "print(x_test.shape)"
   ]
  },
  {
   "cell_type": "code",
   "execution_count": 17,
   "id": "c1a533d9-bc63-449e-b70e-82b60670ad02",
   "metadata": {},
   "outputs": [
    {
     "data": {
      "text/plain": [
       "(array([108169., 139120., 120093., 215200.]),\n",
       " array([1, 2, 3, 4, 5]),\n",
       " <BarContainer object of 4 artists>)"
      ]
     },
     "execution_count": 17,
     "metadata": {},
     "output_type": "execute_result"
    },
    {
     "data": {
      "image/png": "[encoded data removed]",
      "text/plain": [
       "<Figure size 432x288 with 1 Axes>"
      ]
     },
     "metadata": {
      "needs_background": "light"
     },
     "output_type": "display_data"
    }
   ],
   "source": [
    "plt.hist(y_train, [1, 2, 3, 4, 5])"
   ]
  },
  {
   "cell_type": "code",
   "execution_count": 18,
   "id": "1666c1bf-4b89-4c36-b61e-86616c082a05",
   "metadata": {},
   "outputs": [
    {
     "data": {
      "text/plain": [
       "(array([32231., 41580., 35907., 64300.]),\n",
       " array([1, 2, 3, 4, 5]),\n",
       " <BarContainer object of 4 artists>)"
      ]
     },
     "execution_count": 18,
     "metadata": {},
     "output_type": "execute_result"
    },
    {
     "data": {
      "image/png": "[encoded data removed]",
      "text/plain": [
       "<Figure size 432x288 with 1 Axes>"
      ]
     },
     "metadata": {
      "needs_background": "light"
     },
     "output_type": "display_data"
    }
   ],
   "source": [
    "plt.hist(y_test, [1, 2, 3, 4, 5])"
   ]
  },
  {
   "cell_type": "code",
   "execution_count": null,
   "id": "30d3b538-90b9-4b1d-9bb4-866a647b4dfc",
   "metadata": {},
   "outputs": [
    {
     "name": "stdout",
     "output_type": "stream",
     "text": [
      "Fitting 10 folds for each of 36000 candidates, totalling 360000 fits\n"
     ]
    }
   ],
   "source": [
    "parameters = {\n",
    "    \"n_estimators\": np.arange(100, 600, 100, dtype=int),\n",
    "    \"max_depth\": np.arange(1, 21, 1),\n",
    "    \"ccp_alpha\": np.arange(0.0, 0.4, 0.1),\n",
    "    \"min_samples_split\": np.arange(2, 11, 1),\n",
    "    \"min_samples_leaf\": np.arange(1, 11, 1),\n",
    "}\n",
    "\n",
    "est = RandomForestClassifier(\n",
    "    n_jobs=20,\n",
    "    criterion=\"entropy\",\n",
    "    bootstrap=True,\n",
    "    verbose=False,\n",
    ")\n",
    "\n",
    "clf = GridSearchCV(\n",
    "    estimator=est,\n",
    "    param_grid=parameters,\n",
    "    cv=10,\n",
    "    scoring=\"accuracy\",\n",
    "    n_jobs=1,\n",
    "    return_train_score=True,\n",
    "    verbose=1,\n",
    ")\n",
    "\n",
    "clf.fit(x_train, y_train)"
   ]
  },
  {
   "cell_type": "code",
   "execution_count": null,
   "id": "f2afbd7a-1c15-4b14-8e39-810117f079c3",
   "metadata": {},
   "outputs": [],
   "source": [
    "print(clf.cv_results_[\"mean_train_score\"].argmax())\n",
    "print(clf.cv_results_[\"mean_train_score\"].max())"
   ]
  },
  {
   "cell_type": "code",
   "execution_count": null,
   "id": "4b9dbe13-4552-4921-9359-2e7c5c5ff447",
   "metadata": {},
   "outputs": [],
   "source": [
    "print(clf.cv_results_[\"mean_test_score\"].argmax())\n",
    "print(clf.cv_results_[\"mean_test_score\"].max())"
   ]
  },
  {
   "cell_type": "code",
   "execution_count": null,
   "id": "3803d0f1-60a2-4ede-b794-c77f6f768e85",
   "metadata": {},
   "outputs": [],
   "source": [
    "best_params = clf.cv_results_[\"params\"][clf.cv_results_[\"mean_test_score\"].argmax()]"
   ]
  },
  {
   "cell_type": "code",
   "execution_count": null,
   "id": "f960f251-bd0b-4aba-8fa1-fe3d8feef9b5",
   "metadata": {},
   "outputs": [],
   "source": [
    "est = RandomForestClassifier(\n",
    "    n_jobs=20, criterion=\"entropy\", bootstrap=True, verbose=False, **best_params\n",
    ")"
   ]
  },
  {
   "cell_type": "code",
   "execution_count": null,
   "id": "d1f7ee35-f6f5-4cf6-b05b-7fddf50c76d7",
   "metadata": {},
   "outputs": [],
   "source": [
    "est.fit(x_train, y_train)"
   ]
  },
  {
   "cell_type": "code",
   "execution_count": null,
   "id": "2d457cc5-dd18-400f-a5dd-99a725575a03",
   "metadata": {},
   "outputs": [],
   "source": [
    "predictions = est.predict(x_test)"
   ]
  },
  {
   "cell_type": "code",
   "execution_count": null,
   "id": "cfbc9ba9-3cad-44ae-9ffd-4897cb1d05d9",
   "metadata": {},
   "outputs": [],
   "source": [
    "accuracy_score(predictions, y_test)"
   ]
  },
  {
   "cell_type": "code",
   "execution_count": null,
   "id": "160a6f42-0403-45d9-8ce5-ac79fa14ce40",
   "metadata": {},
   "outputs": [],
   "source": [
    "_, c = np.unique(y_test, return_counts=True)\n",
    "\n",
    "c / len(y_test)"
   ]
  },
  {
   "cell_type": "code",
   "execution_count": null,
   "id": "cd109131-0f61-492c-9223-be97998f98b9",
   "metadata": {},
   "outputs": [],
   "source": [
    "plt.hist(predictions)"
   ]
  },
  {
   "cell_type": "code",
   "execution_count": null,
   "id": "16132353-3696-4cc1-9f16-701286bc856a",
   "metadata": {},
   "outputs": [],
   "source": []
  }
 ],
 "metadata": {
  "kernelspec": {
   "display_name": "Python 3 (ipykernel)",
   "language": "python",
   "name": "python3"
  },
  "language_info": {
   "codemirror_mode": {
    "name": "ipython",
    "version": 3
   },
   "file_extension": ".py",
   "mimetype": "text/x-python",
   "name": "python",
   "nbconvert_exporter": "python",
   "pygments_lexer": "ipython3",
   "version": "3.8.8"
  }
 },
 "nbformat": 4,
 "nbformat_minor": 5
}
