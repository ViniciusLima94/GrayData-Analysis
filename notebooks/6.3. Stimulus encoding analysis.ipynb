{
 "cells": [
  {
   "cell_type": "markdown",
   "metadata": {},
   "source": [
    "### Stimulus encoding using MI estimator"
   ]
  },
  {
   "cell_type": "code",
   "execution_count": null,
   "metadata": {},
   "outputs": [],
   "source": [
    "import sys; sys.path.insert(1, '/home/vinicius/storage1/projects/GrayData-Analysis')\n",
    "import os\n",
    "\n",
    "from   GDa.session           import session_info, session\n",
    "from   GDa.util              import create_stages_time_grid\n",
    "from   GDa.net.util          import compute_coherence_thresholds\n",
    "from   GDa.temporal_network  import temporal_network\n",
    "from   GDa.stats.bursting    import *\n",
    "\n",
    "from   xfrites.conn.conn_coh import conn_coherence_wav\n",
    "from   xfrites.conn.conn_tf  import wavelet_spec\n",
    "\n",
    "from   mne.viz               import circular_layout, \\\n",
    "                                    plot_connectivity_circle\n",
    "\n",
    "import matplotlib.pyplot     as     plt\n",
    "import matplotlib\n",
    "import GDa.graphics.plot     as     plot\n",
    "\n",
    "import numpy             as np\n",
    "import xarray            as xr\n",
    "import matplotlib.pyplot as plt\n",
    "import h5py\n",
    "import scipy\n",
    "from   tqdm              import tqdm"
   ]
  },
  {
   "cell_type": "code",
   "execution_count": null,
   "metadata": {},
   "outputs": [],
   "source": [
    "SMALL_SIZE, MEDIUM_SIZE, BIGGER_SIZE = plot.set_plot_config()"
   ]
  },
  {
   "cell_type": "code",
   "execution_count": null,
   "metadata": {},
   "outputs": [],
   "source": [
    "# Create directory to save figures\n",
    "if not os.path.exists(\"img/n6.0.3\"):\n",
    "    os.makedirs(\"img/n6.0.3\")"
   ]
  },
  {
   "cell_type": "code",
   "execution_count": null,
   "metadata": {},
   "outputs": [],
   "source": [
    "# Extract area names\n",
    "def _extract_roi(roi, sep):\n",
    "    # Code by Etiene\n",
    "    x_s, x_t = [], []\n",
    "    for r in roi:\n",
    "        _x_s, _x_t = r.split(sep)\n",
    "        x_s.append(_x_s), x_t.append(_x_t)\n",
    "    return np.array(x_s), np.array(x_t)"
   ]
  },
  {
   "cell_type": "markdown",
   "metadata": {},
   "source": [
    "#### Load session and filter for ODRT trials with correct response"
   ]
  },
  {
   "cell_type": "code",
   "execution_count": null,
   "metadata": {},
   "outputs": [],
   "source": [
    "stages      = ['baseline', 'cue', 'delay', 'match']\n",
    "band_names  = [r'$\\theta$', r'$\\alpha$', r'$\\beta$', r'high-$\\beta$ ', r'$\\gamma$' ]"
   ]
  },
  {
   "cell_type": "code",
   "execution_count": null,
   "metadata": {},
   "outputs": [],
   "source": [
    "# Instantiate class\n",
    "ses = session(raw_path = '../GrayLab/', monkey = 'lucy', date = '150128', session = 1,\n",
    "              slvr_msmod = False, align_to = 'cue', evt_dt = [-0.65, 3.00])\n",
    "\n",
    "# Read data from .mat files\n",
    "ses.read_from_mat()"
   ]
  },
  {
   "cell_type": "code",
   "execution_count": null,
   "metadata": {},
   "outputs": [],
   "source": [
    "# Filtering by trials\n",
    "data = ses.filter_trials(trial_type=[1],behavioral_response=[1])"
   ]
  },
  {
   "cell_type": "markdown",
   "metadata": {},
   "source": [
    "#### Compute spectra for the data"
   ]
  },
  {
   "cell_type": "code",
   "execution_count": null,
   "metadata": {},
   "outputs": [],
   "source": [
    "# Smoothing windows\n",
    "sm_times  = 0.5\n",
    "sm_freqs  = 1\n",
    "sm_kernel = \"square\"\n",
    "\n",
    "# Defining parameters\n",
    "delta = 15       # Downsampling factor\n",
    "mode  = 'morlet' # (\"morlet\", \"mt_1\", \"mt_2\")\n",
    "#  mode  = 'multitaper' # (\"morlet\", \"mt_1\", \"mt_2\")\n",
    "foi   = np.array([\n",
    "        [0.1, 6.],\n",
    "        [6., 14.],\n",
    "        [14., 26.],\n",
    "        [26., 42.],\n",
    "        [42., 80.]\n",
    "            ])\n",
    "\n",
    "n_freqs  = 50\n",
    "freqs    = np.linspace(foi[0,0], foi[-1,1], n_freqs, endpoint=True)\n",
    "n_cycles = freqs/2"
   ]
  },
  {
   "cell_type": "code",
   "execution_count": null,
   "metadata": {},
   "outputs": [],
   "source": [
    "sxx = wavelet_spec(data, freqs=freqs, roi=data.roi, times=\"time\", sfreq=data.attrs[\"fsample\"],\n",
    "                 foi=foi, sm_times=sm_times, sm_freqs=sm_freqs, sm_kernel=sm_kernel, mode=mode, \n",
    "                 n_cycles=n_cycles, mt_bandwidth=None, decim=delta, kw_cwt={}, \n",
    "                 kw_mt={}, block_size=1, n_jobs=20, verbose=None)"
   ]
  },
  {
   "cell_type": "markdown",
   "metadata": {},
   "source": [
    "#### Get stage mask for this session"
   ]
  },
  {
   "cell_type": "code",
   "execution_count": null,
   "metadata": {},
   "outputs": [],
   "source": [
    "s_mask = create_stages_time_grid(sxx.attrs[\"t_cue_on\"], sxx.attrs[\"t_cue_off\"],\n",
    "                        sxx.attrs[\"t_match_on\"], sxx.attrs[\"fsample\"],\n",
    "                        sxx.times.values, sxx.sizes[\"trials\"], flatten=False)"
   ]
  },
  {
   "cell_type": "markdown",
   "metadata": {},
   "source": [
    "#### Get average power per task stage"
   ]
  },
  {
   "cell_type": "code",
   "execution_count": null,
   "metadata": {},
   "outputs": [],
   "source": [
    "tmp = []\n",
    "for i, s in enumerate(stages):\n",
    "    tmp += [(sxx*s_mask[s][:,None,None,:]).sum(dim=\"times\")/s_mask[s][:,None,None,:].sum(-1)]"
   ]
  },
  {
   "cell_type": "code",
   "execution_count": null,
   "metadata": {},
   "outputs": [],
   "source": [
    "tmp = xr.concat( tmp, dim=\"times\" )\n",
    "tmp.attrs = sxx.attrs\n",
    "tmp = tmp.assign_coords({\"times\":[0,1,2,3]})"
   ]
  },
  {
   "cell_type": "code",
   "execution_count": null,
   "metadata": {},
   "outputs": [],
   "source": [
    "tmp = tmp.transpose(\"trials\",\"roi\",\"freqs\",\"times\")"
   ]
  },
  {
   "cell_type": "code",
   "execution_count": null,
   "metadata": {},
   "outputs": [],
   "source": [
    "sxx"
   ]
  },
  {
   "cell_type": "markdown",
   "metadata": {},
   "source": [
    "### MI workflow"
   ]
  },
  {
   "cell_type": "code",
   "execution_count": null,
   "metadata": {},
   "outputs": [],
   "source": [
    "from frites.dataset  import SubjectEphy, DatasetEphy\n",
    "from frites.workflow import WfMi"
   ]
  },
  {
   "cell_type": "code",
   "execution_count": null,
   "metadata": {},
   "outputs": [],
   "source": [
    "dt = DatasetEphy([sxx], y=[sxx.attrs[\"stim\"].astype(int)], times=\"times\", roi=None, agg_ch=False)"
   ]
  },
  {
   "cell_type": "code",
   "execution_count": null,
   "metadata": {},
   "outputs": [],
   "source": [
    "mi_type   = 'cd'\n",
    "inference = 'ffx'\n",
    "kernel    = np.hanning(1)\n",
    "wf        = WfMi(mi_type, inference, verbose=True, kernel=kernel)"
   ]
  },
  {
   "cell_type": "code",
   "execution_count": null,
   "metadata": {},
   "outputs": [],
   "source": [
    "# list of corrections for multiple comparison\n",
    "mcps = ['cluster', 'maxstat', 'fdr', 'bonferroni']\n",
    "kw = dict(n_jobs=20, n_perm=200)\n",
    "\"\"\"\n",
    "The `cluster_th` input parameter specifies how the threshold is defined.\n",
    "Use either :\n",
    "* a float for a manual threshold\n",
    "* None and it will be infered using the distribution of permutations\n",
    "* 'tfce' for a TFCE threshold\n",
    "\"\"\"\n",
    "cluster_th = 'tfce'  # {float, None, 'tfce'}\n",
    "\n",
    "mi, pvalues = wf.fit(dt, mcp=\"cluster\", cluster_th=cluster_th, **kw)\n",
    "    # remove p-values that exceed 0.05\n",
    "    #pvalues.data[pvalues >= .05] = 1.\n",
    "\n",
    "    #plt.subplot(212)\n",
    "    #plt.plot(pvalues.squeeze(), label=f'ffx-{mcp}')\n",
    "    #plt.xlabel('Time (s)'), plt.ylabel(\"P-values\")\n",
    "    #plt.title(\"P-values (ffx)\")\n",
    "    #plt.autoscale(tight=True)\n",
    "#plt.legend()\n",
    "\n",
    "#plt.subplot(211)\n",
    "#plt.plot( mi.squeeze())\n",
    "#plt.xlabel('Time (s)'), plt.ylabel(\"Bits\")\n",
    "#plt.title(\"Mutual information I(C; D)\")\n",
    "#plt.autoscale(tight=True)\n",
    "\n",
    "plt.show()"
   ]
  },
  {
   "cell_type": "code",
   "execution_count": null,
   "metadata": {},
   "outputs": [],
   "source": [
    "plt.figure(figsize=(20,4))\n",
    "for i in range(5):\n",
    "    plt.subplot(1,5,i+1)\n",
    "    extent=[pvalues.times.values[0], mi.times.values[-1], 0,22]\n",
    "    plt.imshow(mi.isel(freqs=i).T, aspect=\"auto\", cmap=\"jet\", origin=\"lower\", vmax=0.04, vmio)\n",
    "    plt.colorbar()"
   ]
  },
  {
   "cell_type": "code",
   "execution_count": null,
   "metadata": {},
   "outputs": [],
   "source": [
    "mi_c = mi.copy()\n",
    "mi_c.data[pvalues.data >= 0.05] = np.nan\n",
    "\n",
    "mi_c.plot(x='times', y='freqs', col='roi')"
   ]
  },
  {
   "cell_type": "code",
   "execution_count": null,
   "metadata": {},
   "outputs": [],
   "source": [
    "plt.plot(mi.times, np.nanmean(mi*(pvalues<=0.05),-1).T )\n",
    "plt.legend(band_names)\n",
    "plt.ylabel(\"MI (bits)\")\n",
    "plt.xlabel(\"time\")"
   ]
  },
  {
   "cell_type": "code",
   "execution_count": null,
   "metadata": {},
   "outputs": [],
   "source": [
    "#### Original data\n",
    "net = temporal_network(coh_file=f'super_tensor_k_{0.5}_surr_False_morlet.nc', monkey='lucy', \n",
    "                       session=1, date='150128', trial_type=[1],\n",
    "                       behavioral_response=[1], wt=(20,20), drop_trials_after=True,\n",
    "                       relative=True, verbose=True, q=None, keep_weights=False)"
   ]
  },
  {
   "cell_type": "code",
   "execution_count": null,
   "metadata": {},
   "outputs": [],
   "source": [
    "out = net.super_tensor.transpose(\"trials\",\"roi\",\"freqs\",\"times\")"
   ]
  },
  {
   "cell_type": "code",
   "execution_count": null,
   "metadata": {},
   "outputs": [],
   "source": [
    "dt = DatasetEphy([out], y=[sxx.attrs[\"stim\"].astype(int)], times=\"times\", roi=None, agg_ch=False)"
   ]
  },
  {
   "cell_type": "code",
   "execution_count": null,
   "metadata": {},
   "outputs": [],
   "source": [
    "mi_type   = 'cd'\n",
    "inference = 'ffx'\n",
    "kernel    = np.hanning(1)\n",
    "wf        = WfMi(mi_type, inference, verbose=True, kernel=kernel)"
   ]
  },
  {
   "cell_type": "code",
   "execution_count": null,
   "metadata": {},
   "outputs": [],
   "source": [
    "# list of corrections for multiple comparison\n",
    "mcps = ['cluster', 'maxstat', 'fdr', 'bonferroni']\n",
    "kw = dict(n_jobs=20, n_perm=200)\n",
    "\"\"\"\n",
    "The `cluster_th` input parameter specifies how the threshold is defined.\n",
    "Use either :\n",
    "* a float for a manual threshold\n",
    "* None and it will be infered using the distribution of permutations\n",
    "* 'tfce' for a TFCE threshold\n",
    "\"\"\"\n",
    "cluster_th = 'tfce'  # {float, None, 'tfce'}\n",
    "mi, pvalues = wf.fit(dt, mcp=\"cluster\", cluster_th=cluster_th, **kw)"
   ]
  },
  {
   "cell_type": "code",
   "execution_count": null,
   "metadata": {},
   "outputs": [],
   "source": [
    "plt.figure(figsize=(20,4))\n",
    "for i in range(5):\n",
    "    plt.subplot(1,5,i+1)\n",
    "    extent=[pvalues.times.values[0], mi.times.values[-1], 0,22]\n",
    "    plt.imshow(mi.isel(freqs=i).T, aspect=\"auto\", cmap=\"jet\", origin=\"lower\", vmax=0.04, vmin=0)\n",
    "    plt.colorbar()"
   ]
  },
  {
   "cell_type": "code",
   "execution_count": null,
   "metadata": {},
   "outputs": [],
   "source": [
    "mi.sizes"
   ]
  },
  {
   "cell_type": "code",
   "execution_count": null,
   "metadata": {},
   "outputs": [],
   "source": [
    "plt.plot(mi.times, np.nanmean(mi*(pvalues<=0.05),-1).T )\n",
    "plt.legend(band_names)\n",
    "plt.ylabel(\"MI (bits)\")\n",
    "plt.xlabel(\"time\")"
   ]
  },
  {
   "cell_type": "code",
   "execution_count": null,
   "metadata": {},
   "outputs": [],
   "source": []
  },
  {
   "cell_type": "code",
   "execution_count": null,
   "metadata": {},
   "outputs": [],
   "source": [
    ".shape"
   ]
  },
  {
   "cell_type": "code",
   "execution_count": null,
   "metadata": {},
   "outputs": [],
   "source": []
  }
 ],
 "metadata": {
  "kernelspec": {
   "display_name": "Python 3",
   "language": "python",
   "name": "python3"
  },
  "language_info": {
   "codemirror_mode": {
    "name": "ipython",
    "version": 3
   },
   "file_extension": ".py",
   "mimetype": "text/x-python",
   "name": "python",
   "nbconvert_exporter": "python",
   "pygments_lexer": "ipython3",
   "version": "3.8.8"
  }
 },
 "nbformat": 4,
 "nbformat_minor": 4
}
