{
 "cells": [
  {
   "cell_type": "markdown",
   "id": "ece32bbe-0664-48f9-aa9b-148ec0319a44",
   "metadata": {},
   "source": [
    "### Temporal overlapt between gamma and beta rythms"
   ]
  },
  {
   "cell_type": "code",
   "execution_count": 1,
   "id": "ba5d5909-8096-4f7d-9471-ff5e21492fc9",
   "metadata": {},
   "outputs": [],
   "source": [
    "import sys\n",
    "\n",
    "sys.path.insert(1, \"/home/vinicius/storage1/projects/GrayData-Analysis\")"
   ]
  },
  {
   "cell_type": "code",
   "execution_count": 2,
   "id": "1b91a0a5-7703-45b2-8e98-d7da21eedd62",
   "metadata": {},
   "outputs": [],
   "source": [
    "import os\n",
    "\n",
    "import matplotlib\n",
    "import matplotlib.patches as patches\n",
    "import matplotlib.pyplot as plt\n",
    "import numpy as np\n",
    "import pandas as pd\n",
    "import scipy\n",
    "import seaborn as sns\n",
    "import xarray as xr\n",
    "import xrscipy as xrs\n",
    "from frites.conn.conn_spec import conn_spec\n",
    "from frites.conn.conn_tf import _tf_decomp\n",
    "from frites.utils import parallel_func\n",
    "from mne.time_frequency import psd_array_multitaper\n",
    "from scipy.signal import find_peaks\n",
    "from tqdm import tqdm\n",
    "\n",
    "from config import sessions\n",
    "from GDa.session import session\n",
    "from GDa.signal.surrogates import trial_swap_surrogates\n",
    "from GDa.util import _extract_roi, create_stages_time_grid"
   ]
  },
  {
   "cell_type": "code",
   "execution_count": 3,
   "id": "eed44fcb-e7a3-4f76-9a4f-b00c5c99287b",
   "metadata": {},
   "outputs": [],
   "source": [
    "def flatten(xss):\n",
    "    return [x for xs in xss for x in xs]"
   ]
  },
  {
   "cell_type": "markdown",
   "id": "83c8961b-49ae-46e3-b70f-28578ad34d49",
   "metadata": {},
   "source": [
    "#### Loanding data"
   ]
  },
  {
   "cell_type": "code",
   "execution_count": 4,
   "id": "37bf731a-5fef-4cd5-aa78-13a7322c23ef",
   "metadata": {},
   "outputs": [],
   "source": [
    "def load_session_data(sid):\n",
    "\n",
    "    # Instantiate class\n",
    "    ses = session(\n",
    "        raw_path=os.path.expanduser(\"~/funcog/gda/GrayLab/\"),\n",
    "        monkey=\"lucy\",\n",
    "        date=sid,\n",
    "        session=1,\n",
    "        slvr_msmod=False,\n",
    "        align_to=\"cue\",\n",
    "        evt_dt=[-0.65, 1.50],\n",
    "    )\n",
    "\n",
    "    # Read data from .mat files\n",
    "    ses.read_from_mat()\n",
    "\n",
    "    # Filtering by trials\n",
    "    data = ses.filter_trials(trial_type=[1], behavioral_response=[1])\n",
    "    # ROIs with channels\n",
    "    rois = [\n",
    "        f\"{roi} ({channel})\"\n",
    "        for roi, channel in zip(data.roi.data, data.channels_labels)\n",
    "    ]\n",
    "    data = data.assign_coords({\"roi\": rois})\n",
    "\n",
    "    return data"
   ]
  },
  {
   "cell_type": "code",
   "execution_count": 5,
   "id": "fa908d6c-502c-482b-acf1-3bec22e6a468",
   "metadata": {},
   "outputs": [],
   "source": [
    "sid = \"141024\"\n",
    "\n",
    "data = [load_session_data(sid) for sid in [sid]][0]"
   ]
  }
 ],
 "metadata": {
  "kernelspec": {
   "display_name": "Python 3 (ipykernel)",
   "language": "python",
   "name": "python3"
  },
  "language_info": {
   "codemirror_mode": {
    "name": "ipython",
    "version": 3
   },
   "file_extension": ".py",
   "mimetype": "text/x-python",
   "name": "python",
   "nbconvert_exporter": "python",
   "pygments_lexer": "ipython3",
   "version": "3.8.8"
  }
 },
 "nbformat": 4,
 "nbformat_minor": 5
}
