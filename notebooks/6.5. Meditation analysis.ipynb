{
 "cells": [
  {
   "cell_type": "markdown",
   "metadata": {},
   "source": [
    "### Meditation analysis"
   ]
  },
  {
   "cell_type": "code",
   "execution_count": null,
   "metadata": {},
   "outputs": [],
   "source": [
    "\"\"\"\n",
    "Computes the cond. mutual information between power a network feature\n",
    "and the stimulus for all sessions.\n",
    "\"\"\"\n",
    "import sys\n",
    "\n",
    "sys.path.insert(1, \"/home/vinicius/storage1/projects/GrayData-Analysis\")\n",
    "import argparse\n",
    "import os\n",
    "\n",
    "import xarray as xr\n",
    "from frites.dataset import DatasetEphy\n",
    "from frites.estimator import GCMIEstimator\n",
    "from frites.workflow import WfMi\n",
    "from tqdm import tqdm\n",
    "\n",
    "from config import sessions\n",
    "from GDa.graphics import plot\n",
    "from GDa.util import average_stages, create_stages_time_grid"
   ]
  },
  {
   "cell_type": "code",
   "execution_count": null,
   "metadata": {},
   "outputs": [],
   "source": [
    "SMALL_SIZE, MEDIUM_SIZE, BIGGER_SIZE = plot.set_plot_config()"
   ]
  },
  {
   "cell_type": "code",
   "execution_count": null,
   "metadata": {},
   "outputs": [],
   "source": [
    "# Create directory to save figures\n",
    "if not os.path.exists(\"img/n6.5\"):\n",
    "    os.makedirs(\"img/n6.5\")"
   ]
  },
  {
   "cell_type": "code",
   "execution_count": null,
   "metadata": {},
   "outputs": [],
   "source": [
    "metric = \"degree\"\n",
    "avg = 0"
   ]
  },
  {
   "cell_type": "markdown",
   "metadata": {},
   "source": [
    "#### Get root path"
   ]
  },
  {
   "cell_type": "code",
   "execution_count": null,
   "metadata": {},
   "outputs": [],
   "source": [
    "_ROOT = os.path.expanduser(\"~/storage1/projects/GrayData-Analysis\")"
   ]
  },
  {
   "cell_type": "markdown",
   "metadata": {},
   "source": [
    "#### Iterate over all sessions and concatenate power"
   ]
  },
  {
   "cell_type": "code",
   "execution_count": null,
   "metadata": {},
   "outputs": [],
   "source": [
    "sxx = []\n",
    "for s_id in tqdm(sessions):\n",
    "    # Uses power for trial type 1\n",
    "    # behavioral response 1 aligned at cue\n",
    "    _FILE_NAME = \"power_tt_1_br_1_at_cue.nc\"\n",
    "    path_pow = os.path.join(_ROOT, f\"Results/lucy/{s_id}/session01\", _FILE_NAME)\n",
    "    power = xr.load_dataarray(path_pow)\n",
    "    # Averages power for each period (baseline, cue, delay, match) if needed\n",
    "    out = average_stages(power, avg)\n",
    "\n",
    "    sxx += [out.isel(roi=[r]) for r in range(len(out[\"roi\"]))]\n",
    "    del power"
   ]
  },
  {
   "cell_type": "markdown",
   "metadata": {},
   "source": [
    "#### Iterate over all sessions and concatenate coherece"
   ]
  },
  {
   "cell_type": "code",
   "execution_count": null,
   "metadata": {},
   "outputs": [],
   "source": [
    "coh = []\n",
    "stim = []\n",
    "roi = []\n",
    "for s_id in tqdm(sessions):\n",
    "    _FILE_NAME = f\"coh_{metric}_thr_1_at_cue.nc\"\n",
    "    path_metric = os.path.join(_ROOT, f\"Results/lucy/{s_id}/session01\", _FILE_NAME)\n",
    "    # Load network feature\n",
    "    feature = xr.load_dataarray(path_metric)\n",
    "    # Average if needed\n",
    "    out = average_stages(feature, avg)\n",
    "    # Convert to format required by the MI workflow\n",
    "    coh += [out.isel(roi=[r]) for r in range(len(out[\"roi\"]))]\n",
    "    del feature"
   ]
  },
  {
   "cell_type": "code",
   "execution_count": null,
   "metadata": {},
   "outputs": [],
   "source": [
    "# Convert to DatasetEphy\n",
    "dt = DatasetEphy(coh, y=sxx, z=stim, nb_min_suj=10, times=\"times\", roi=\"roi\")"
   ]
  },
  {
   "cell_type": "markdown",
   "metadata": {},
   "source": [
    "#### MI Workflow"
   ]
  },
  {
   "cell_type": "code",
   "execution_count": null,
   "metadata": {},
   "outputs": [],
   "source": [
    "# Convert to DatasetEphy\n",
    "dt = DatasetEphy(coh, y=sxx, z=stim, nb_min_suj=10, times=\"times\", roi=\"roi\")\n",
    "\n",
    "mi_type = \"ccd\"\n",
    "inference = \"rfx\"\n",
    "kernel = None\n",
    "estimator = GCMIEstimator(\n",
    "    mi_type=mi_type,\n",
    "    relative=False,\n",
    "    copnorm=True,\n",
    "    biascorrect=False,\n",
    "    demeaned=False,\n",
    "    tensor=True,\n",
    "    gpu=False,\n",
    "    verbose=None,\n",
    ")\n",
    "wf = WfMi(mi_type, inference, verbose=True, kernel=kernel, estimator=estimator)\n",
    "\n",
    "kw = dict(n_jobs=20, n_perm=100)\n",
    "cluster_th = None  # {float, None, 'tfce'}\n",
    "\n",
    "mi, pvalues = wf.fit(dt, mcp=\"cluster\", cluster_th=cluster_th, **kw)"
   ]
  },
  {
   "cell_type": "code",
   "execution_count": null,
   "metadata": {},
   "outputs": [],
   "source": [
    "print(sxx[0].shape)\n",
    "print(coh[0].shape)"
   ]
  },
  {
   "cell_type": "code",
   "execution_count": null,
   "metadata": {},
   "outputs": [],
   "source": [
    "len(stim[0])"
   ]
  },
  {
   "cell_type": "code",
   "execution_count": null,
   "metadata": {},
   "outputs": [],
   "source": [
    "len(roi)"
   ]
  },
  {
   "cell_type": "code",
   "execution_count": null,
   "metadata": {},
   "outputs": [],
   "source": []
  }
 ],
 "metadata": {
  "kernelspec": {
   "display_name": "Python 3 (ipykernel)",
   "language": "python",
   "name": "python3"
  },
  "language_info": {
   "codemirror_mode": {
    "name": "ipython",
    "version": 3
   },
   "file_extension": ".py",
   "mimetype": "text/x-python",
   "name": "python",
   "nbconvert_exporter": "python",
   "pygments_lexer": "ipython3",
   "version": "3.8.8"
  }
 },
 "nbformat": 4,
 "nbformat_minor": 4
}
