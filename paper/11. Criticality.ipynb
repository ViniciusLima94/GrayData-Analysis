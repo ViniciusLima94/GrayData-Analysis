{
 "cells": [
  {
   "cell_type": "markdown",
   "id": "52a6a2ae-1f3c-47c8-835f-f178ce4e4ef0",
   "metadata": {},
   "source": [
    "### Criticality analysis"
   ]
  },
  {
   "cell_type": "code",
   "execution_count": 1,
   "id": "94cf35e6-a52b-4e05-9d0d-1e48f3a90483",
   "metadata": {},
   "outputs": [],
   "source": [
    "import sys\n",
    "\n",
    "sys.path.insert(1, \"/home/vinicius/storage1/projects/GrayData-Analysis\")"
   ]
  },
  {
   "cell_type": "code",
   "execution_count": 2,
   "id": "4b10a11c-043b-46f6-9202-879f9a2f3cee",
   "metadata": {},
   "outputs": [],
   "source": [
    "import os\n",
    "import pickle\n",
    "\n",
    "import matplotlib.pyplot as plt\n",
    "import numpy as np\n",
    "import pandas as pd\n",
    "import xarray as xr\n",
    "from scipy.stats import spearmanr\n",
    "from tqdm import tqdm\n",
    "\n",
    "from config import get_dates, return_evt_dt\n",
    "from GDa.flatmap.flatmap import flatmap\n",
    "from GDa.graphics import plot\n",
    "from GDa.util import _extract_roi\n",
    "from utils import *"
   ]
  },
  {
   "cell_type": "markdown",
   "id": "7ca995f7-4538-4d1b-bdfa-000359db3ea9",
   "metadata": {},
   "source": [
    "#### Setting configurations"
   ]
  },
  {
   "cell_type": "code",
   "execution_count": 3,
   "id": "a4cb9bf9-ec61-410d-b9ef-bdc113e1f40f",
   "metadata": {},
   "outputs": [],
   "source": [
    "_ROOT = os.path.expanduser(\"~/funcog/gda/\")"
   ]
  },
  {
   "cell_type": "code",
   "execution_count": 4,
   "id": "52f116d3-fbeb-41cf-a834-113b321df328",
   "metadata": {},
   "outputs": [],
   "source": [
    "metric = \"coh\"\n",
    "monkey = \"lucy\""
   ]
  },
  {
   "cell_type": "code",
   "execution_count": 5,
   "id": "806e9d31-a783-4ea5-911b-53df776d7ad3",
   "metadata": {},
   "outputs": [],
   "source": [
    "sessions = get_dates(monkey)"
   ]
  },
  {
   "cell_type": "code",
   "execution_count": 6,
   "id": "86171b60-a246-4c2f-b59d-08490bc30332",
   "metadata": {},
   "outputs": [],
   "source": [
    "stages = [[-0.5, -0.2], [0, 0.4], [0.5, 0.9], [0.9, 1.3], [1.1, 1.5]]\n",
    "stage_labels = [\"P\", \"S\", \"D1\", \"D2\", \"Dm\"]"
   ]
  },
  {
   "cell_type": "code",
   "execution_count": 7,
   "id": "800d63a9-af8f-42e7-95ed-ae0ad9074567",
   "metadata": {},
   "outputs": [],
   "source": [
    "areas_dict = get_areas()"
   ]
  },
  {
   "cell_type": "code",
   "execution_count": 8,
   "id": "3aa26672-c6b1-47f4-9a67-e3eb1213c6c5",
   "metadata": {},
   "outputs": [],
   "source": [
    "colors = dict(\n",
    "    zip(\n",
    "        [\n",
    "            \"motor\",\n",
    "            \"parietal\",\n",
    "            \"prefrontal\",\n",
    "            \"somatosensory\",\n",
    "            \"temporal\",\n",
    "            \"visual\",\n",
    "            \"auditory\",\n",
    "        ],\n",
    "        [\"r\", \"aqua\", \"b\", \"m\", \"goldenrod\", \"green\", \"brown\"],\n",
    "    )\n",
    ")"
   ]
  },
  {
   "cell_type": "code",
   "execution_count": 9,
   "id": "8c10117e-1d46-41d9-80f1-abe025a92b09",
   "metadata": {},
   "outputs": [],
   "source": [
    "_path_to_ava = os.path.expanduser(f\"~/funcog/gda/Results/{monkey}/avalanches/\")"
   ]
  },
  {
   "cell_type": "markdown",
   "id": "bf1f4f25-4ccf-40f8-bf72-d3e02347ee29",
   "metadata": {},
   "source": [
    "### Utility functions"
   ]
  },
  {
   "cell_type": "code",
   "execution_count": 13,
   "id": "b893cfe2-947d-45b6-85aa-89944108fe38",
   "metadata": {},
   "outputs": [],
   "source": [
    "def load_areas_times(session, epoch, freq, ttype=1, br=1, surr=0, trials=False):\n",
    "\n",
    "    # Load node region label\n",
    "    fname = os.path.join(\n",
    "        _path_to_ava,\n",
    "        f\"lfp_areas_tt_{ttype}_br_{br}_{epoch}_{session}_thr_3_surr_{surr}.pkl\",\n",
    "    )\n",
    "    with open(fname, \"rb\") as f:\n",
    "        areas = pickle.load(f)\n",
    "\n",
    "    # Load node time labelé\n",
    "    fname = os.path.join(\n",
    "        _path_to_ava,\n",
    "        f\"lfp_times_tt_{ttype}_br_{br}_{epoch}_{session}_thr_3_surr_{surr}.pkl\",\n",
    "    )\n",
    "    with open(fname, \"rb\") as f:\n",
    "        times = pickle.load(f)\n",
    "\n",
    "    if trials:\n",
    "        # Load node time label\n",
    "        fname = os.path.join(\n",
    "            _path_to_ava,\n",
    "            f\"lfp_trials_tt_{ttype}_br_{br}_{epoch}_{session}_thr_3_surr_{surr}.pkl\",\n",
    "        )\n",
    "        with open(fname, \"rb\") as f:\n",
    "            trials = pickle.load(f)\n",
    "\n",
    "        return areas, times, trials\n",
    "\n",
    "    return areas, times\n",
    "\n",
    "\n",
    "def get_area_mapping(unique_areas):\n",
    "    area2idx = dict(zip(unique_areas, range(len(unique_areas))))\n",
    "    return area2idx\n",
    "\n",
    "\n",
    "def get_unique_areas_mapping(session, freq, ttype=1, br=1):\n",
    "    unique_areas = []\n",
    "    for t in range(5):\n",
    "        areas, _ = load_areas_times(session, stage_labels[t], freq, ttype=ttype, br=br)\n",
    "        unique_areas += [np.unique(np.hstack(areas))]\n",
    "    unique_areas = np.unique(np.concatenate(unique_areas))\n",
    "    return unique_areas, get_area_mapping(unique_areas)"
   ]
  },
  {
   "cell_type": "markdown",
   "id": "ba6b6314-0a54-4f0c-aee0-4d3ee41741da",
   "metadata": {},
   "source": [
    "### Single session"
   ]
  },
  {
   "cell_type": "code",
   "execution_count": 14,
   "id": "a7fc5b2b-1736-4d18-a067-695b28b4e72b",
   "metadata": {},
   "outputs": [],
   "source": [
    "# session = \"141024\"\n",
    "# unique_areas, areas2idx = get_unique_areas_mapping(session, 27, ttype=1, br=1)\n",
    "# areas, times = load_areas_times(session, \"all\", 27)"
   ]
  },
  {
   "cell_type": "code",
   "execution_count": null,
   "id": "5a988bb5-67d1-4847-85cf-687df29e4cb7",
   "metadata": {},
   "outputs": [],
   "source": [
    "areas, times = load_areas_times(\"141017\", \"all\", 27)"
   ]
  },
  {
   "cell_type": "code",
   "execution_count": 19,
   "id": "ae84c1d4-7d8e-4a18-9a65-308efe22ac69",
   "metadata": {},
   "outputs": [],
   "source": [
    "unique_areas = np.unique(np.hstack(areas))"
   ]
  },
  {
   "cell_type": "code",
   "execution_count": 20,
   "id": "f2ca5d1c-cb01-4649-8e97-b07acd21ef86",
   "metadata": {},
   "outputs": [],
   "source": [
    "def compute_sizes_durations(areas, times, roi=None):\n",
    "\n",
    "    for_roi = isinstance(roi, str)\n",
    "\n",
    "    nsize = []\n",
    "    ndur = []\n",
    "    sigma = []\n",
    "\n",
    "    for area, time in zip(areas, times):\n",
    "\n",
    "        tarray = time.astype(int)\n",
    "\n",
    "        roi_idx = np.ones(len(area), dtype=bool)\n",
    "\n",
    "        if for_roi:\n",
    "            roi_idx = area == roi\n",
    "            tarray = tarray[roi_idx]\n",
    "            if not any(roi_idx):\n",
    "                continue\n",
    "\n",
    "        nsize += [np.sum(roi_idx)]\n",
    "        ndur += [tarray.max() - tarray.min()]\n",
    "        _, counts = np.unique(tarray, return_counts=True)\n",
    "        sigma += [np.mean(counts[1:] / counts[:-1])]\n",
    "\n",
    "    nsize = np.asarray(nsize)\n",
    "    ndur = np.asarray(ndur)\n",
    "    sigma = np.asarray(sigma)\n",
    "\n",
    "    return nsize, ndur, sigma"
   ]
  },
  {
   "cell_type": "code",
   "execution_count": 21,
   "id": "8ef05054-5b71-44b1-a7b7-5e1b413a2827",
   "metadata": {},
   "outputs": [],
   "source": [
    "nsize, ndur, sigma = compute_sizes_durations(areas, times, roi=None)"
   ]
  },
  {
   "cell_type": "code",
   "execution_count": 29,
   "id": "d564a406-c567-46a8-a3c7-bf3d0c2d1f55",
   "metadata": {},
   "outputs": [
    {
     "name": "stderr",
     "output_type": "stream",
     "text": [
      "/tmp/ipykernel_16753/3198330349.py:6: RuntimeWarning: divide by zero encountered in log\n",
      "  plt.scatter(np.log(x[1:]), np.log(n))\n",
      "/tmp/ipykernel_16753/3198330349.py:7: RuntimeWarning: divide by zero encountered in log\n",
      "  p = np.polyfit(np.log(x[1:]), np.log(n), 1)\n",
      "/tmp/ipykernel_16753/3198330349.py:16: RuntimeWarning: divide by zero encountered in log\n",
      "  plt.scatter(np.log(xt[1:]), np.log(nt))\n",
      "/tmp/ipykernel_16753/3198330349.py:17: RuntimeWarning: divide by zero encountered in log\n",
      "  p = np.polyfit(np.log(xt[1:]), np.log(nt), 1)\n"
     ]
    },
    {
     "name": "stdout",
     "output_type": "stream",
     "text": [
      "[nan nan]\n",
      "[nan nan]\n"
     ]
    },
    {
     "data": {
      "image/png": "[encoded data removed]",
      "text/plain": [
       "<Figure size 1000x300 with 3 Axes>"
      ]
     },
     "metadata": {},
     "output_type": "display_data"
    }
   ],
   "source": [
    "n_bins = 5\n",
    "\n",
    "plt.figure(figsize=(10, 3))\n",
    "plt.subplot(1, 3, 1)\n",
    "n, x = np.histogram(nsize, n_bins)\n",
    "plt.scatter(np.log(x[1:]), np.log(n))\n",
    "p = np.polyfit(np.log(x[1:]), np.log(n), 1)\n",
    "print(p)\n",
    "plt.plot(np.log(x[1:]), p[0] * np.log(x[1:]) + p[1], label=f\"slope = {p[0]:.3f}\")\n",
    "plt.legend()\n",
    "plt.xlabel(\"Size\")\n",
    "plt.ylabel(\"#count\")\n",
    "\n",
    "plt.subplot(1, 3, 2)\n",
    "nt, xt = np.histogram(ndur, n_bins)\n",
    "plt.scatter(np.log(xt[1:]), np.log(nt))\n",
    "p = np.polyfit(np.log(xt[1:]), np.log(nt), 1)\n",
    "print(p)\n",
    "plt.plot(np.log(xt[1:]), p[0] * np.log(xt[1:]) + p[1], label=f\"slope = {p[0]:.3f}\")\n",
    "plt.legend()\n",
    "plt.xlabel(\"Duration\")\n",
    "plt.ylabel(\"#count\")\n",
    "plt.subplot(1, 3, 3)\n",
    "plt.scatter(ndur, nsize)\n",
    "p = np.polyfit(ndur, nsize, 1)\n",
    "plt.plot(ndur, p[0] * ndur + p[1], label=f\"slope = {p[0]:.3f}\")\n",
    "plt.legend()\n",
    "plt.xlabel(\"Size\")\n",
    "plt.ylabel(\"Duration\")\n",
    "plt.tight_layout()"
   ]
  },
  {
   "cell_type": "code",
   "execution_count": 27,
   "id": "f235e6c8-2447-4738-8477-d0608da06810",
   "metadata": {},
   "outputs": [
    {
     "data": {
      "text/plain": [
       "Text(0.5, 1.0, 'Branching ratio distribution across CrAs')"
      ]
     },
     "execution_count": 27,
     "metadata": {},
     "output_type": "execute_result"
    },
    {
     "data": {
      "image/png": "[encoded data removed]",
      "text/plain": [
       "<Figure size 640x480 with 1 Axes>"
      ]
     },
     "metadata": {},
     "output_type": "display_data"
    }
   ],
   "source": [
    "plt.hist(sigma, 30, density=True)\n",
    "plt.xlabel(\"Branching Ratio\")\n",
    "plt.ylabel(\"#count\")\n",
    "plt.title(\"Branching ratio distribution across CrAs\")"
   ]
  },
  {
   "cell_type": "code",
   "execution_count": 28,
   "id": "503e1e04-3a7e-4a6a-a9ec-2aa970da02b9",
   "metadata": {},
   "outputs": [
    {
     "name": "stderr",
     "output_type": "stream",
     "text": [
      "  0%|                                                                  | 0/26 [00:00<?, ?it/s]\n"
     ]
    },
    {
     "ename": "TypeError",
     "evalue": "expected non-empty vector for x",
     "output_type": "error",
     "traceback": [
      "\u001b[0;31m---------------------------------------------------------------------------\u001b[0m",
      "\u001b[0;31mTypeError\u001b[0m                                 Traceback (most recent call last)",
      "Cell \u001b[0;32mIn[28], line 35\u001b[0m\n\u001b[1;32m     33\u001b[0m slope_size[pos] \u001b[38;5;241m=\u001b[39m np\u001b[38;5;241m.\u001b[39mpolyfit(np\u001b[38;5;241m.\u001b[39mlog(xsize[\u001b[38;5;241m1\u001b[39m:]), np\u001b[38;5;241m.\u001b[39mlog(Psize), \u001b[38;5;241m1\u001b[39m)[\u001b[38;5;241m0\u001b[39m]\n\u001b[1;32m     34\u001b[0m slope_dur[pos] \u001b[38;5;241m=\u001b[39m np\u001b[38;5;241m.\u001b[39mpolyfit(np\u001b[38;5;241m.\u001b[39mlog(xdur[\u001b[38;5;241m1\u001b[39m:]), np\u001b[38;5;241m.\u001b[39mlog(Pdur), \u001b[38;5;241m1\u001b[39m)[\u001b[38;5;241m0\u001b[39m]\n\u001b[0;32m---> 35\u001b[0m betas[pos] \u001b[38;5;241m=\u001b[39m \u001b[43mnp\u001b[49m\u001b[38;5;241;43m.\u001b[39;49m\u001b[43mpolyfit\u001b[49m\u001b[43m(\u001b[49m\u001b[43m \u001b[49m\u001b[43mnp\u001b[49m\u001b[38;5;241;43m.\u001b[39;49m\u001b[43mlog\u001b[49m\u001b[43m(\u001b[49m\u001b[43mdf\u001b[49m\u001b[38;5;241;43m.\u001b[39;49m\u001b[43mduration\u001b[49m\u001b[43m[\u001b[49m\u001b[43m:\u001b[49m\u001b[38;5;241;43m-\u001b[39;49m\u001b[38;5;241;43m2\u001b[39;49m\u001b[43m]\u001b[49m\u001b[43m)\u001b[49m\u001b[43m,\u001b[49m\u001b[43m \u001b[49m\u001b[43mnp\u001b[49m\u001b[38;5;241;43m.\u001b[39;49m\u001b[43mlog\u001b[49m\u001b[43m(\u001b[49m\u001b[43mdf\u001b[49m\u001b[38;5;241;43m.\u001b[39;49m\u001b[43msizes\u001b[49m\u001b[43m[\u001b[49m\u001b[43m:\u001b[49m\u001b[38;5;241;43m-\u001b[39;49m\u001b[38;5;241;43m2\u001b[39;49m\u001b[43m]\u001b[49m\u001b[43m)\u001b[49m\u001b[43m,\u001b[49m\u001b[43m \u001b[49m\u001b[38;5;241;43m1\u001b[39;49m\u001b[43m)\u001b[49m[\u001b[38;5;241m0\u001b[39m]\n\u001b[1;32m     36\u001b[0m out \u001b[38;5;241m=\u001b[39m spearmanr(np\u001b[38;5;241m.\u001b[39mlog(ndur), np\u001b[38;5;241m.\u001b[39mlog(nsize))\n\u001b[1;32m     37\u001b[0m R[pos] \u001b[38;5;241m=\u001b[39m out\u001b[38;5;241m.\u001b[39mstatistic \u001b[38;5;241m*\u001b[39m (out\u001b[38;5;241m.\u001b[39mpvalue \u001b[38;5;241m<\u001b[39m \u001b[38;5;241m0.01\u001b[39m)\n",
      "File \u001b[0;32m<__array_function__ internals>:200\u001b[0m, in \u001b[0;36mpolyfit\u001b[0;34m(*args, **kwargs)\u001b[0m\n",
      "File \u001b[0;32m~/anaconda3/envs/ipp/lib/python3.9/site-packages/numpy/lib/polynomial.py:638\u001b[0m, in \u001b[0;36mpolyfit\u001b[0;34m(x, y, deg, rcond, full, w, cov)\u001b[0m\n\u001b[1;32m    636\u001b[0m     \u001b[38;5;28;01mraise\u001b[39;00m \u001b[38;5;167;01mTypeError\u001b[39;00m(\u001b[38;5;124m\"\u001b[39m\u001b[38;5;124mexpected 1D vector for x\u001b[39m\u001b[38;5;124m\"\u001b[39m)\n\u001b[1;32m    637\u001b[0m \u001b[38;5;28;01mif\u001b[39;00m x\u001b[38;5;241m.\u001b[39msize \u001b[38;5;241m==\u001b[39m \u001b[38;5;241m0\u001b[39m:\n\u001b[0;32m--> 638\u001b[0m     \u001b[38;5;28;01mraise\u001b[39;00m \u001b[38;5;167;01mTypeError\u001b[39;00m(\u001b[38;5;124m\"\u001b[39m\u001b[38;5;124mexpected non-empty vector for x\u001b[39m\u001b[38;5;124m\"\u001b[39m)\n\u001b[1;32m    639\u001b[0m \u001b[38;5;28;01mif\u001b[39;00m y\u001b[38;5;241m.\u001b[39mndim \u001b[38;5;241m<\u001b[39m \u001b[38;5;241m1\u001b[39m \u001b[38;5;129;01mor\u001b[39;00m y\u001b[38;5;241m.\u001b[39mndim \u001b[38;5;241m>\u001b[39m \u001b[38;5;241m2\u001b[39m:\n\u001b[1;32m    640\u001b[0m     \u001b[38;5;28;01mraise\u001b[39;00m \u001b[38;5;167;01mTypeError\u001b[39;00m(\u001b[38;5;124m\"\u001b[39m\u001b[38;5;124mexpected 1D or 2D array for y\u001b[39m\u001b[38;5;124m\"\u001b[39m)\n",
      "\u001b[0;31mTypeError\u001b[0m: expected non-empty vector for x"
     ]
    }
   ],
   "source": [
    "n_bins = 15\n",
    "\n",
    "slope_size = np.empty_like(unique_areas, dtype=float)\n",
    "slope_dur = np.empty_like(unique_areas, dtype=float)\n",
    "betas = np.empty_like(unique_areas, dtype=float)\n",
    "sigmas = np.empty_like(unique_areas, dtype=float)\n",
    "R = np.empty_like(unique_areas, dtype=float)\n",
    "\n",
    "pos = 0\n",
    "\n",
    "for roi in tqdm(unique_areas):\n",
    "\n",
    "    # Get sizes and durations\n",
    "    nsize, ndur, sigma = compute_sizes_durations(areas, times, roi=roi)\n",
    "\n",
    "    df = (\n",
    "        pd.DataFrame(np.stack((ndur, nsize), 1), columns=[\"duration\", \"sizes\"])\n",
    "        .groupby(\"duration\")\n",
    "        .mean(\"sizes\")\n",
    "        .reset_index()\n",
    "    )\n",
    "\n",
    "    sigmas[pos] = np.mean(sigma)\n",
    "\n",
    "    # P(SIZE)\n",
    "    Psize, xsize = np.histogram(nsize, n_bins)\n",
    "    # P(DURATION)\n",
    "    Pdur, xdur = np.histogram(ndur, n_bins)\n",
    "\n",
    "    Psize = Psize + 1e-10\n",
    "    Pdur = Pdur + 1e-10\n",
    "\n",
    "    slope_size[pos] = np.polyfit(np.log(xsize[1:]), np.log(Psize), 1)[0]\n",
    "    slope_dur[pos] = np.polyfit(np.log(xdur[1:]), np.log(Pdur), 1)[0]\n",
    "    betas[pos] = np.polyfit( np.log(df.duration[:-2]), np.log(df.sizes[:-2]), 1)[0]\n",
    "    out = spearmanr(np.log(ndur), np.log(nsize))\n",
    "    R[pos] = out.statistic * (out.pvalue < 0.01)\n",
    "    pos = pos + 1"
   ]
  },
  {
   "cell_type": "code",
   "execution_count": null,
   "id": "f6db0bb7-ed10-457f-92a8-131967bc7620",
   "metadata": {},
   "outputs": [],
   "source": [
    "slope_size = node_xr_remove_sca(\n",
    "    xr.DataArray(slope_size, dims=(\"roi\"), coords=(unique_areas,))\n",
    ")\n",
    "slope_dur = node_xr_remove_sca(\n",
    "    xr.DataArray(slope_dur, dims=(\"roi\"), coords=(unique_areas,))\n",
    ")\n",
    "betas = node_xr_remove_sca(xr.DataArray(betas, dims=(\"roi\"), coords=(unique_areas,)))\n",
    "sigmas = node_xr_remove_sca(xr.DataArray(sigmas, dims=(\"roi\"), coords=(unique_areas,)))\n",
    "R = node_xr_remove_sca(xr.DataArray(R, dims=(\"roi\"), coords=(unique_areas,)))"
   ]
  },
  {
   "cell_type": "code",
   "execution_count": null,
   "id": "1f4e9795-dcf5-46ac-b9cf-71f5f19a4dd8",
   "metadata": {},
   "outputs": [],
   "source": [
    "def plot_brain_areas(ax, ax_cbar, values, vmin=0, vmax=1, colormap=\"hot_r\"):\n",
    "\n",
    "    import matplotlib as mpl\n",
    "    import matplotlib.patches as mpatches\n",
    "\n",
    "    areas_dict = get_areas()\n",
    "\n",
    "    area_no = dict(\n",
    "        motor=0,\n",
    "        parietal=1,\n",
    "        prefrontal=2,\n",
    "        somatosensory=3,\n",
    "        temporal=4,\n",
    "        visual=5,\n",
    "        auditory=6,\n",
    "    )\n",
    "\n",
    "    areas = values.roi.data  # np.asarray([area for area in areas_dict.keys()])\n",
    "    areas = [a.lower() for a in areas]\n",
    "    fmap = flatmap(values.data, areas)\n",
    "\n",
    "    fmap.plot(\n",
    "        ax,\n",
    "        ax_colorbar=ax_cbar,\n",
    "        cbar_title=\"\",\n",
    "        alpha=0.4,\n",
    "        colormap=colormap,\n",
    "        colors=None,\n",
    "        vmin=vmin,\n",
    "        vmax=vmax,\n",
    "    )"
   ]
  },
  {
   "cell_type": "code",
   "execution_count": null,
   "id": "7424f442-3a5f-4f5c-a8d1-06fd221b7b2f",
   "metadata": {},
   "outputs": [],
   "source": [
    "path = os.path.expanduser(f\"~/funcog/gda/Results/{monkey}/mutual_information/power\")\n",
    "\n",
    "p_pow = node_xr_remove_sca(\n",
    "    xr.load_dataarray(\n",
    "        os.path.join(path, \"pval_pow_1_br_1_aligned_cue_avg_1_fdr_slvr_0.nc\")\n",
    "    )\n",
    ")\n",
    "t_pow = node_xr_remove_sca(\n",
    "    xr.load_dataarray(\n",
    "        os.path.join(path, \"tval_pow_1_br_1_aligned_cue_avg_1_fdr_slvr_0.nc\")\n",
    "    )\n",
    ")"
   ]
  },
  {
   "cell_type": "code",
   "execution_count": null,
   "id": "190149f5-75ff-4fb8-8294-9169d490e9fb",
   "metadata": {},
   "outputs": [],
   "source": [
    "fig, axd = plt.subplot_mosaic(\n",
    "    [[\"flatmap\", \"colorbar\"]],\n",
    "    layout=\"constrained\",\n",
    "    # \"image\" will contain a square image. We fine-tune the width so that\n",
    "    # there is no excess horizontal or vertical margin around the image.\n",
    "    width_ratios=[1, 0.05],\n",
    ")\n",
    "plot_brain_areas(\n",
    "    axd[\"flatmap\"],\n",
    "    axd[\"colorbar\"],\n",
    "    -slope_size.sel(roi=t_pow.roi),\n",
    "    vmin=0,\n",
    "    vmax=10,\n",
    "    colormap=\"hot_r\",\n",
    ")\n",
    "plt.title(\"SLOPE SIZE\")"
   ]
  },
  {
   "cell_type": "code",
   "execution_count": null,
   "id": "34dac029-51ee-4041-a785-8a15b99d6165",
   "metadata": {},
   "outputs": [],
   "source": [
    "fig, axd = plt.subplot_mosaic(\n",
    "    [[\"flatmap\", \"colorbar\"]],\n",
    "    layout=\"constrained\",\n",
    "    # \"image\" will contain a square image. We fine-tune the width so that\n",
    "    # there is no excess horizontal or vertical margin around the image.\n",
    "    width_ratios=[1, 0.05],\n",
    ")\n",
    "plot_brain_areas(\n",
    "    axd[\"flatmap\"],\n",
    "    axd[\"colorbar\"],\n",
    "    -slope_dur.sel(roi=t_pow.roi),\n",
    "    vmin=0,\n",
    "    vmax=10,\n",
    "    colormap=\"hot_r\",\n",
    ")\n",
    "plt.title(\"SLOPE DURATION\")"
   ]
  },
  {
   "cell_type": "code",
   "execution_count": null,
   "id": "5fcdccb5-db6f-499a-9a95-3165817684ca",
   "metadata": {},
   "outputs": [],
   "source": [
    "fig, axd = plt.subplot_mosaic(\n",
    "    [[\"flatmap\", \"colorbar\"]],\n",
    "    layout=\"constrained\",\n",
    "    # \"image\" will contain a square image. We fine-tune the width so that\n",
    "    # there is no excess horizontal or vertical margin around the image.\n",
    "    width_ratios=[1, 0.05],\n",
    ")\n",
    "plot_brain_areas(\n",
    "    axd[\"flatmap\"],\n",
    "    axd[\"colorbar\"],\n",
    "    (slope_dur.sel(roi=t_pow.roi) - 1) / (slope_size.sel(roi=t_pow.roi) - 1),\n",
    "    vmin=0,\n",
    "    vmax=1.5,\n",
    "    colormap=\"hot_r\",\n",
    ")\n",
    "plt.title(\"(SLOPE DURATION - 1) / (SLOPE SIZE - 1)\")"
   ]
  },
  {
   "cell_type": "code",
   "execution_count": null,
   "id": "e442119f-7934-47fa-842a-dd262879bec3",
   "metadata": {},
   "outputs": [],
   "source": [
    "fig, axd = plt.subplot_mosaic(\n",
    "    [[\"flatmap\", \"colorbar\"]],\n",
    "    layout=\"constrained\",\n",
    "    # \"image\" will contain a square image. We fine-tune the width so that\n",
    "    # there is no excess horizontal or vertical margin around the image.\n",
    "    width_ratios=[1, 0.05],\n",
    ")\n",
    "plot_brain_areas(\n",
    "    axd[\"flatmap\"],\n",
    "    axd[\"colorbar\"],\n",
    "    betas.sel(roi=t_pow.roi),\n",
    "    vmin=0,\n",
    "    vmax=1.,\n",
    "    colormap=\"hot_r\",\n",
    ")\n",
    "plt.title(\"BETA CRACKLING\")"
   ]
  },
  {
   "cell_type": "code",
   "execution_count": null,
   "id": "21d35f97-47dc-4668-aa81-02d543cf174c",
   "metadata": {},
   "outputs": [],
   "source": [
    " betas.sel(roi=t_pow.roi)"
   ]
  },
  {
   "cell_type": "code",
   "execution_count": null,
   "id": "e663b97d-9ce9-4a91-8603-8c4f40db18b2",
   "metadata": {},
   "outputs": [],
   "source": [
    "fig, axd = plt.subplot_mosaic(\n",
    "    [[\"flatmap\", \"colorbar\"]],\n",
    "    layout=\"constrained\",\n",
    "    # \"image\" will contain a square image. We fine-tune the width so that\n",
    "    # there is no excess horizontal or vertical margin around the image.\n",
    "    width_ratios=[1, 0.05],\n",
    ")\n",
    "plot_brain_areas(\n",
    "    axd[\"flatmap\"],\n",
    "    axd[\"colorbar\"],\n",
    "    R.sel(roi=t_pow.roi),\n",
    "    vmin=0.75,\n",
    "    vmax=1.0,\n",
    "    colormap=\"hot_r\",\n",
    ")\n",
    "plt.title(\"BETA CRACKLING\")"
   ]
  },
  {
   "cell_type": "code",
   "execution_count": null,
   "id": "3c6fee99-7da2-4d5c-8064-f894497d3c9a",
   "metadata": {},
   "outputs": [],
   "source": [
    "np.polyfit(df.duration[:-2], df.sizes[:-2], 1)"
   ]
  },
  {
   "cell_type": "code",
   "execution_count": null,
   "id": "5871ef5f-ef33-404d-b76a-389247f182af",
   "metadata": {},
   "outputs": [],
   "source": []
  }
 ],
 "metadata": {
  "kernelspec": {
   "display_name": "Python 3 (ipykernel)",
   "language": "python",
   "name": "python3"
  },
  "language_info": {
   "codemirror_mode": {
    "name": "ipython",
    "version": 3
   },
   "file_extension": ".py",
   "mimetype": "text/x-python",
   "name": "python",
   "nbconvert_exporter": "python",
   "pygments_lexer": "ipython3",
   "version": "3.9.16"
  }
 },
 "nbformat": 4,
 "nbformat_minor": 5
}
