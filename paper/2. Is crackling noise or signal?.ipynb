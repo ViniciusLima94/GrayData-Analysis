{
 "cells": [
  {
   "cell_type": "markdown",
   "id": "0ed92249-48f7-4467-b0aa-c38221b36bc3",
   "metadata": {},
   "source": [
    "### Characterizing the crackle events"
   ]
  },
  {
   "cell_type": "code",
   "execution_count": 3,
   "id": "13b79c79-b819-4240-81cc-e53a00442e18",
   "metadata": {},
   "outputs": [],
   "source": [
    "import sys\n",
    "\n",
    "sys.path.insert(1, \"/home/vinicius/storage1/projects/GrayData-Analysis\")"
   ]
  },
  {
   "cell_type": "code",
   "execution_count": 4,
   "id": "c1de22f3-3254-4d92-8818-09b3244e781f",
   "metadata": {},
   "outputs": [],
   "source": [
    "import os\n",
    "\n",
    "import matplotlib.pyplot as plt\n",
    "import numpy as np\n",
    "import pandas as pd\n",
    "import scipy.stats as stats\n",
    "import seaborn as sns\n",
    "import xarray as xr\n",
    "from frites.stats import confidence_interval\n",
    "from loader import loader\n",
    "from tqdm import tqdm\n",
    "from utils import *\n",
    "\n",
    "from config import get_dates, return_delay_split\n",
    "from GDa.flatmap.flatmap import flatmap"
   ]
  },
  {
   "cell_type": "markdown",
   "id": "50787f2d-b2d3-4564-b480-160287a75b6b",
   "metadata": {},
   "source": [
    "##### Setting configurations"
   ]
  },
  {
   "cell_type": "code",
   "execution_count": 5,
   "id": "7609ea2b-c9e0-4380-87d9-9d60affd5631",
   "metadata": {},
   "outputs": [],
   "source": [
    "_ROOT = os.path.expanduser(\"~/funcog/gda/\")"
   ]
  },
  {
   "cell_type": "code",
   "execution_count": 6,
   "id": "8ed720f2-04f0-4607-9fdb-d0386f9ac600",
   "metadata": {},
   "outputs": [],
   "source": [
    "metric = \"coh\"\n",
    "monkey = \"lucy\"\n",
    "ds = 1"
   ]
  },
  {
   "cell_type": "code",
   "execution_count": 7,
   "id": "d34354ea-b754-4237-aa8f-16abcd617d87",
   "metadata": {},
   "outputs": [],
   "source": [
    "early_cue, early_delay = return_delay_split(monkey, delay_type=ds)"
   ]
  },
  {
   "cell_type": "code",
   "execution_count": 8,
   "id": "34b19dcd-a7d0-4c26-9d41-b22bfece0dfe",
   "metadata": {},
   "outputs": [],
   "source": [
    "sessions = get_dates(monkey)"
   ]
  },
  {
   "cell_type": "code",
   "execution_count": null,
   "id": "b7883651-af91-4ad4-9d97-c91265dc46f3",
   "metadata": {},
   "outputs": [],
   "source": []
  }
 ],
 "metadata": {
  "kernelspec": {
   "display_name": "Python 3",
   "language": "python",
   "name": "python3"
  },
  "language_info": {
   "codemirror_mode": {
    "name": "ipython",
    "version": 3
   },
   "file_extension": ".py",
   "mimetype": "text/x-python",
   "name": "python",
   "nbconvert_exporter": "python",
   "pygments_lexer": "ipython3",
   "version": "3.8.8"
  }
 },
 "nbformat": 4,
 "nbformat_minor": 5
}
