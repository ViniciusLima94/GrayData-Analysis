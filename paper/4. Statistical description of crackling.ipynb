{
 "cells": [
  {
   "cell_type": "markdown",
   "id": "52a6a2ae-1f3c-47c8-835f-f178ce4e4ef0",
   "metadata": {},
   "source": [
    "### Statistical description of crackling"
   ]
  },
  {
   "cell_type": "code",
   "execution_count": 1,
   "id": "94cf35e6-a52b-4e05-9d0d-1e48f3a90483",
   "metadata": {},
   "outputs": [],
   "source": [
    "import sys\n",
    "\n",
    "sys.path.insert(1, \"/home/vinicius/storage1/projects/GrayData-Analysis\")"
   ]
  },
  {
   "cell_type": "code",
   "execution_count": 9,
   "id": "4b10a11c-043b-46f6-9202-879f9a2f3cee",
   "metadata": {},
   "outputs": [],
   "source": [
    "import os\n",
    "\n",
    "import matplotlib.pyplot as plt\n",
    "import numba as nb\n",
    "import numpy as np\n",
    "import pandas as pd\n",
    "import seaborn as sns\n",
    "import xarray as xr\n",
    "from brainconn.centrality import participation_coef\n",
    "from brainconn.modularity import modularity_louvain_dir, modularity_louvain_und\n",
    "from frites.conn.conn_tf import _create_kernel, _smooth_spectra\n",
    "from scipy.stats import ks_2samp, mannwhitneyu, ttest_1samp\n",
    "from statannot import add_stat_annotation\n",
    "from tqdm import tqdm\n",
    "from utils import *\n",
    "\n",
    "from config import get_dates, return_evt_dt\n",
    "from GDa.stats.bursting import find_activation_sequences, find_start_end\n",
    "from GDa.temporal_network import temporal_network\n",
    "from GDa.util import _extract_roi\n",
    "from GDa.loader import loader"
   ]
  },
  {
   "cell_type": "markdown",
   "id": "7ca995f7-4538-4d1b-bdfa-000359db3ea9",
   "metadata": {},
   "source": [
    "##### Setting configurations"
   ]
  },
  {
   "cell_type": "code",
   "execution_count": 10,
   "id": "a4cb9bf9-ec61-410d-b9ef-bdc113e1f40f",
   "metadata": {},
   "outputs": [],
   "source": [
    "_ROOT = os.path.expanduser(\"~/funcog/gda/\")"
   ]
  },
  {
   "cell_type": "code",
   "execution_count": 11,
   "id": "52f116d3-fbeb-41cf-a834-113b321df328",
   "metadata": {},
   "outputs": [],
   "source": [
    "metric = \"coh\"\n",
    "monkey = \"lucy\""
   ]
  },
  {
   "cell_type": "code",
   "execution_count": 12,
   "id": "806e9d31-a783-4ea5-911b-53df776d7ad3",
   "metadata": {},
   "outputs": [],
   "source": [
    "sessions = get_dates(monkey)"
   ]
  },
  {
   "cell_type": "code",
   "execution_count": 13,
   "id": "86171b60-a246-4c2f-b59d-08490bc30332",
   "metadata": {},
   "outputs": [],
   "source": [
    "stages = [[-0.4, 0], [0, 0.4], [0.5, 0.9], [0.9, 1.3], [1.1, 1.5]]\n",
    "stage_labels = [\"P\", \"S\", \"D1\", \"D2\", \"Dm\"]"
   ]
  },
  {
   "cell_type": "code",
   "execution_count": 14,
   "id": "3aa26672-c6b1-47f4-9a67-e3eb1213c6c5",
   "metadata": {},
   "outputs": [],
   "source": [
    "colors = dict(\n",
    "    zip(\n",
    "        [\n",
    "            \"motor\",\n",
    "            \"parietal\",\n",
    "            \"prefrontal\",\n",
    "            \"somatosensory\",\n",
    "            \"temporal\",\n",
    "            \"visual\",\n",
    "            \"auditory\",\n",
    "        ],\n",
    "        [\"r\", \"aqua\", \"b\", \"m\", \"goldenrod\", \"green\", \"brown\"],\n",
    "    )\n",
    ")"
   ]
  },
  {
   "cell_type": "code",
   "execution_count": 15,
   "id": "81afeb30-8c7d-4fdb-a822-db3a3989857d",
   "metadata": {},
   "outputs": [],
   "source": [
    "data_loader = loader(_ROOT=_ROOT)"
   ]
  },
  {
   "cell_type": "markdown",
   "id": "866e56e0-863e-4200-8bd4-2bf1f2e5e12e",
   "metadata": {},
   "source": [
    "#### Single session"
   ]
  },
  {
   "cell_type": "code",
   "execution_count": null,
   "id": "fc1d3415-a776-4a4c-ade9-a706bae5c873",
   "metadata": {},
   "outputs": [],
   "source": [
    "kw_loader = dict(\n",
    "    session=\"141024\", aligned_at=\"cue\", channel_numbers=False, monkey=monkey\n",
    ")"
   ]
  }
 ],
 "metadata": {
  "kernelspec": {
   "display_name": "Python 3",
   "language": "python",
   "name": "python3"
  },
  "language_info": {
   "codemirror_mode": {
    "name": "ipython",
    "version": 3
   },
   "file_extension": ".py",
   "mimetype": "text/x-python",
   "name": "python",
   "nbconvert_exporter": "python",
   "pygments_lexer": "ipython3",
   "version": "3.8.8"
  }
 },
 "nbformat": 4,
 "nbformat_minor": 5
}
