{
 "cells": [
  {
   "cell_type": "markdown",
   "id": "52a6a2ae-1f3c-47c8-835f-f178ce4e4ef0",
   "metadata": {},
   "source": [
    "### Statistical description of crackling"
   ]
  },
  {
   "cell_type": "code",
   "execution_count": 1,
   "id": "94cf35e6-a52b-4e05-9d0d-1e48f3a90483",
   "metadata": {},
   "outputs": [],
   "source": [
    "import sys\n",
    "\n",
    "sys.path.insert(1, \"/home/vinicius/storage1/projects/GrayData-Analysis\")"
   ]
  },
  {
   "cell_type": "code",
   "execution_count": 2,
   "id": "4b10a11c-043b-46f6-9202-879f9a2f3cee",
   "metadata": {},
   "outputs": [],
   "source": [
    "import os\n",
    "\n",
    "import matplotlib.pyplot as plt\n",
    "import numba as nb\n",
    "import numpy as np\n",
    "import pandas as pd\n",
    "import seaborn as sns\n",
    "import xarray as xr\n",
    "from brainconn.centrality import participation_coef\n",
    "from brainconn.modularity import modularity_louvain_dir, modularity_louvain_und\n",
    "from frites.conn.conn_tf import _create_kernel, _smooth_spectra\n",
    "from frites.utils import parallel_func\n",
    "from scipy.stats import ks_2samp, mannwhitneyu, ttest_1samp\n",
    "from statannot import add_stat_annotation\n",
    "from tqdm import tqdm\n",
    "from utils import *\n",
    "\n",
    "from config import get_dates, return_evt_dt\n",
    "from GDa.loader import loader\n",
    "from GDa.stats.bursting import find_activation_sequences, find_start_end\n",
    "from GDa.temporal_network import temporal_network\n",
    "from GDa.util import _extract_roi"
   ]
  },
  {
   "cell_type": "markdown",
   "id": "5cf7d223-1587-4e1a-9b03-f727cf1d099d",
   "metadata": {},
   "source": [
    "#### Auxiliar functions"
   ]
  },
  {
   "cell_type": "code",
   "execution_count": 3,
   "id": "527a3a10-9baa-42ec-8328-57a2c8c1d86e",
   "metadata": {},
   "outputs": [],
   "source": [
    "import numba as nb\n",
    "\n",
    "\n",
    "@nb.jit(nopython=True)\n",
    "def hamming(x, y):\n",
    "    \"\"\"\n",
    "    Calculate the Hamming distance between two arrays.\n",
    "\n",
    "    The Hamming distance is the number of positions at which the corresponding elements are different.\n",
    "\n",
    "    Parameters:\n",
    "    x (ndarray): first array\n",
    "    y (ndarray): second array\n",
    "    Returns:\n",
    "    float: The Hamming distance as a proportion of the maximum possible Hamming distance.\n",
    "    \"\"\"\n",
    "    sum_and = np.logical_and(x, y).sum()\n",
    "    max_sum = np.min([x.sum(), y.sum()])\n",
    "    return sum_and / max_sum\n",
    "\n",
    "\n",
    "def return_consensus_vector(A, fmod=modularity_louvain_und, nruns=None):\n",
    "    \"\"\"\n",
    "    Return the consensus vector for a given set of community assignments.\n",
    "\n",
    "    This function takes a matrix of community assignments (A), a modularity function (fmod), and the number of runs (nruns)\n",
    "    to return the consensus vector of the assignments. The consensus vector is calculated by averaging the affiliation vectors of each run.\n",
    "\n",
    "    Parameters:\n",
    "    A (ndarray or xr.DataArray): matrix of community assignments.\n",
    "    fmod (callable): modularity function used to calculate community assignments. Default is louvain method.\n",
    "    nruns (int): number of runs to calculate consensus vector over. Default is None.\n",
    "    Returns:\n",
    "    Tuple: (idx, q) where idx is the community assignments and q is the modularity score\n",
    "    \"\"\"\n",
    "    nC = len(A)\n",
    "\n",
    "    if isinstance(A, xr.DataArray):\n",
    "        A = A.data\n",
    "\n",
    "    # Creates consensus vector for different runs\n",
    "    av = []\n",
    "    for i in tqdm(range(nruns)):\n",
    "        idx, _ = fmod(A, seed=i * 1000)\n",
    "        av += [idx]\n",
    "    av = np.stack(av)\n",
    "\n",
    "    def _for_frame(av):\n",
    "        # Allegiance for a frame\n",
    "        T = np.zeros((nC, nC))\n",
    "        # Affiliation vector\n",
    "        # For now convert affiliation vector to igraph format\n",
    "        n_comm = int(av.max() + 1)\n",
    "        for j in range(n_comm):\n",
    "            p_lst = np.arange(nC, dtype=int)[av == j]\n",
    "            grid = np.meshgrid(p_lst, p_lst)\n",
    "            grid = np.reshape(grid, (2, len(p_lst) ** 2)).T\n",
    "            T[grid[:, 0], grid[:, 1]] = 1\n",
    "        np.fill_diagonal(T, 0)\n",
    "        return T\n",
    "\n",
    "    T = []\n",
    "    for i in range(nruns):\n",
    "        T += [_for_frame(av[i])]\n",
    "\n",
    "    T = np.stack(T).mean(0)\n",
    "\n",
    "    return modularity_louvain_und(T)\n",
    "\n",
    "\n",
    "@nb.jit(nopython=True)\n",
    "def co_crackling_adj(A):\n",
    "    \"\"\"\n",
    "    Calculate the co-crackling matrix for a given matrix adjacency.\n",
    "\n",
    "    Parameters:\n",
    "    A (ndarray): matrix of community assignments where rows are rois and columns are time points\n",
    "    Returns:\n",
    "    ndarray: 3-D co-crackling matrix, where the last dimension corresponds to time point.\n",
    "    \"\"\"\n",
    "    nroi, nobs = A.shape\n",
    "\n",
    "    out = np.zeros((nroi, nroi, nobs))\n",
    "\n",
    "    for T in range(nobs):\n",
    "        idx = A[:, T]\n",
    "        out[..., T] = np.outer(idx, idx)\n",
    "\n",
    "    return out\n",
    "\n",
    "\n",
    "def plot_adj_modular(\n",
    "    A, ci, offset=0.5, vmin=0, vmax=0.05, cmap=\"turbo\", lw=5, color=\"k\"\n",
    "):\n",
    "    \"\"\"\n",
    "    Plot a modular adjacency matrix with community boundaries.\n",
    "\n",
    "    This function takes a adjacency matrix (A), a vector of community indices (ci), and optional arguments for\n",
    "    plotting the matrix (offset, vmin, vmax, cmap, lw, color) and plots the adjacency matrix with lines denoting\n",
    "    the boundaries between communities.\n",
    "\n",
    "    Parameters:\n",
    "    A (ndarray or xr.DataArray): adjacency matrix\n",
    "    ci (ndarray): vector of community indices for each node in the adjacency matrix\n",
    "    offset (float): offset for the community boundaries. Default is 0.5\n",
    "    vmin (float): minimum value for color map. Default is 0\n",
    "    vmax (float): maximum value for color map. Default is 0.05\n",
    "    cmap (str): name of colormap to use. Default is 'turbo'\n",
    "    lw (float): width of the lines used to draw the community boundaries. Default is 5\n",
    "    color (str): color of the lines used to draw the community boundaries. Default is 'k'\n",
    "    \"\"\"\n",
    "    _, c = np.unique(ci, return_counts=True)\n",
    "\n",
    "    N = len(A)\n",
    "\n",
    "    c = np.cumsum(c)\n",
    "    c = np.hstack(([0], c))\n",
    "\n",
    "    idx = np.argsort(ci)\n",
    "    rois = A.sources.data[idx]\n",
    "\n",
    "    if isinstance(A, xr.DataArray):\n",
    "        plot_data = A.data[np.ix_(idx, idx)]\n",
    "    else:\n",
    "        plot_data = A[np.ix_(idx, idx)]\n",
    "    plt.imshow(plot_data, vmin=vmin, vmax=vmax, cmap=cmap, origin=\"lower\")\n",
    "    plt.xticks(range(N), rois, rotation=90)\n",
    "    plt.yticks(range(N), rois)\n",
    "\n",
    "    for i in range(1, len(c)):\n",
    "        plt.hlines(\n",
    "            c[i - 1] - offset, c[i] - offset, c[i - 1] - offset, lw=lw, color=color\n",
    "        )\n",
    "        plt.vlines(\n",
    "            c[i - 1] - offset, c[i] - offset, c[i - 1] - offset, lw=lw, color=color\n",
    "        )\n",
    "        plt.hlines(c[i] - offset, c[i] - offset, c[i - 1] - offset, lw=lw, color=color)\n",
    "        plt.vlines(c[i] - offset, c[i] - offset, c[i - 1] - offset, lw=lw, color=color)\n",
    "\n",
    "\n",
    "def create_typeI_surr(A, seed=0, n_jobs=1, verbose=False):\n",
    "    \"\"\"\n",
    "    create_typeI_surr - function to create type I surrogate data by shuffling the timepoints across trials for each ROI\n",
    "\n",
    "    Input:\n",
    "    A (xarray.DataArray) - original data\n",
    "    seed (int) - seed for random number generator, default = 0\n",
    "    verbose (bool) - flag to display progress bar, default = False\n",
    "\n",
    "    Output:\n",
    "    A_surrI (xarray.DataArray) - type I surrogate data with shuffled timepoints across trials for each ROI\n",
    "    \"\"\"\n",
    "    np.random.seed(seed)\n",
    "\n",
    "    nrois, nfreqs, ntrials, ntimes = A.shape\n",
    "    dims, coords = A.dims, A.coords\n",
    "\n",
    "    A = A.stack(obs=(\"trials\", \"times\"))\n",
    "\n",
    "    def _loop_rois(A_np):\n",
    "        # Store surrogate\n",
    "        A_surrI = A_np.copy()\n",
    "        # Iterator\n",
    "        __iter = range(nrois)\n",
    "        # Vector with trial indexes\n",
    "        trials_idx = np.arange(0, ntimes * ntrials, 1, dtype=int)\n",
    "        # Loop over areas\n",
    "        for i in __iter:\n",
    "            idx_ = np.random.choice(trials_idx, ntimes * ntrials, replace=True)\n",
    "            A_surrI[i, ...] = A_np[i, idx_]\n",
    "\n",
    "        return A_surrI\n",
    "\n",
    "    def _for_freq(f):\n",
    "        return _loop_rois(A.data[:, f, :])\n",
    "\n",
    "    # define the function to compute in parallel\n",
    "    parallel, p_fun = parallel_func(\n",
    "        _for_freq, n_jobs=n_jobs, verbose=verbose, total=nfreqs\n",
    "    )\n",
    "    # Compute surrogate for each frequency\n",
    "    A_surrI = parallel(p_fun(f) for f in range(nfreqs))\n",
    "    A_surrI = np.stack(A_surrI, axis=1).reshape((nrois, nfreqs, ntrials, ntimes))\n",
    "    A_surrI = xr.DataArray(A_surrI, dims=dims, coords=coords)\n",
    "\n",
    "    return A_surrI.unstack()\n",
    "\n",
    "\n",
    "def create_typeII_surr(A, seed=0, verbose=False):\n",
    "    \"\"\"\n",
    "    create_typeII_surr - function to create type II surrogate data by shuffling the timepoints within each trial for each ROI\n",
    "\n",
    "    Input:\n",
    "    A (xarray.DataArray) - original data\n",
    "    seed (int) - seed for random number generator, default = 0\n",
    "    verbose (bool) - flag to display progress bar, default = False\n",
    "\n",
    "    Output:\n",
    "    A_surrII (xarray.DataArray) - type II surrogate data with shuffled timepoints within each trial for each ROI\n",
    "    \"\"\"\n",
    "    np.random.seed(seed)\n",
    "\n",
    "    A_surrII = A.copy()\n",
    "    for i in range(nrois):\n",
    "        for T in range(ntrials):\n",
    "            idx_ = np.random.choice(range(ntimes), ntimes, replace=False)\n",
    "            A_surrII.data[i, T, ...] = A.data[i, T, idx_]\n",
    "\n",
    "    return A_surrII"
   ]
  },
  {
   "cell_type": "markdown",
   "id": "7ca995f7-4538-4d1b-bdfa-000359db3ea9",
   "metadata": {},
   "source": [
    "##### Setting configurations"
   ]
  },
  {
   "cell_type": "code",
   "execution_count": 4,
   "id": "a4cb9bf9-ec61-410d-b9ef-bdc113e1f40f",
   "metadata": {},
   "outputs": [],
   "source": [
    "_ROOT = os.path.expanduser(\"~/funcog/gda/\")"
   ]
  },
  {
   "cell_type": "code",
   "execution_count": 5,
   "id": "52f116d3-fbeb-41cf-a834-113b321df328",
   "metadata": {},
   "outputs": [],
   "source": [
    "metric = \"coh\"\n",
    "monkey = \"lucy\""
   ]
  },
  {
   "cell_type": "code",
   "execution_count": 6,
   "id": "806e9d31-a783-4ea5-911b-53df776d7ad3",
   "metadata": {},
   "outputs": [],
   "source": [
    "sessions = get_dates(monkey)"
   ]
  },
  {
   "cell_type": "code",
   "execution_count": 7,
   "id": "86171b60-a246-4c2f-b59d-08490bc30332",
   "metadata": {},
   "outputs": [],
   "source": [
    "stages = [[-0.4, 0], [0, 0.4], [0.5, 0.9], [0.9, 1.3], [1.1, 1.5]]\n",
    "stage_labels = [\"P\", \"S\", \"D1\", \"D2\", \"Dm\"]"
   ]
  },
  {
   "cell_type": "code",
   "execution_count": 8,
   "id": "3aa26672-c6b1-47f4-9a67-e3eb1213c6c5",
   "metadata": {},
   "outputs": [],
   "source": [
    "colors = dict(\n",
    "    zip(\n",
    "        [\n",
    "            \"motor\",\n",
    "            \"parietal\",\n",
    "            \"prefrontal\",\n",
    "            \"somatosensory\",\n",
    "            \"temporal\",\n",
    "            \"visual\",\n",
    "            \"auditory\",\n",
    "        ],\n",
    "        [\"r\", \"aqua\", \"b\", \"m\", \"goldenrod\", \"green\", \"brown\"],\n",
    "    )\n",
    ")"
   ]
  },
  {
   "cell_type": "code",
   "execution_count": 9,
   "id": "81afeb30-8c7d-4fdb-a822-db3a3989857d",
   "metadata": {},
   "outputs": [],
   "source": [
    "data_loader = loader(_ROOT=_ROOT)"
   ]
  },
  {
   "cell_type": "markdown",
   "id": "866e56e0-863e-4200-8bd4-2bf1f2e5e12e",
   "metadata": {},
   "source": [
    "#### Single session"
   ]
  },
  {
   "cell_type": "code",
   "execution_count": 10,
   "id": "fc1d3415-a776-4a4c-ade9-a706bae5c873",
   "metadata": {},
   "outputs": [],
   "source": [
    "kw_loader = dict(\n",
    "    session=\"141024\", aligned_at=\"cue\", channel_numbers=False, monkey=monkey\n",
    ")"
   ]
  },
  {
   "cell_type": "code",
   "execution_count": 11,
   "id": "d9ec2575-9d43-49a8-a82c-6d86d4c06bb7",
   "metadata": {},
   "outputs": [],
   "source": [
    "power = data_loader.load_power(**kw_loader, trial_type=1, behavioral_response=1)"
   ]
  },
  {
   "cell_type": "code",
   "execution_count": 12,
   "id": "f97f0bd9-4519-44cc-93e7-ad432d6d478b",
   "metadata": {},
   "outputs": [],
   "source": [
    "thr = power.quantile(0.95, (\"trials\", \"times\"))"
   ]
  },
  {
   "cell_type": "code",
   "execution_count": 13,
   "id": "4fb2c422-4c85-44cf-ac83-2d738628ffb7",
   "metadata": {},
   "outputs": [],
   "source": [
    "A = power >= thr"
   ]
  },
  {
   "cell_type": "code",
   "execution_count": 110,
   "id": "2a9fdd3e-f264-42a3-95fe-4211701e15b0",
   "metadata": {},
   "outputs": [
    {
     "data": {
      "application/vnd.jupyter.widget-view+json": {
       "model_id": "d28bb177a17f46f281d3358b79816584",
       "version_major": 2,
       "version_minor": 0
      },
      "text/plain": [
       "  0%|          |  : 0/10 [00:00<?,       ?it/s]"
      ]
     },
     "metadata": {},
     "output_type": "display_data"
    },
    {
     "name": "stderr",
     "output_type": "stream",
     "text": [
      "[Parallel(n_jobs=1)]: Using backend SequentialBackend with 1 concurrent workers.\n",
      "[Parallel(n_jobs=1)]: Done  10 out of  10 | elapsed:    1.2s finished\n"
     ]
    }
   ],
   "source": [
    "asi = create_typeI_surr(A, seed=0, verbose=True, n_jobs=1)"
   ]
  },
  {
   "cell_type": "code",
   "execution_count": 111,
   "id": "d73ca46e-9e6d-457c-9169-287de7bd27da",
   "metadata": {},
   "outputs": [],
   "source": [
    "# @numba.njit\n",
    "def _histogram(x, bins):\n",
    "    return np.histogram(x, bins=bins)[0]"
   ]
  },
  {
   "cell_type": "code",
   "execution_count": 129,
   "id": "cd8516ac-7718-4849-ad6a-f46f70f5b44f",
   "metadata": {},
   "outputs": [],
   "source": [
    "cs = asi.sum(\"roi\").stack(obs=(\"trials\", \"times\")).data"
   ]
  },
  {
   "cell_type": "code",
   "execution_count": 156,
   "id": "86d50131-dcdb-495a-8f2e-18f635f3cb7a",
   "metadata": {},
   "outputs": [],
   "source": [
    "counts = np.apply_along_axis(_histogram, 1, cs, bins=bins)"
   ]
  },
  {
   "cell_type": "code",
   "execution_count": 25,
   "id": "4ffda4b1-ae50-4f13-addf-756861ecbb66",
   "metadata": {},
   "outputs": [
    {
     "data": {
      "text/plain": [
       "array([4, 1, 1, ..., 3, 1, 5])"
      ]
     },
     "execution_count": 25,
     "metadata": {},
     "output_type": "execute_result"
    }
   ],
   "source": [
    "find_activation_sequences(A.sel(freqs=27).stack(obs=(\"trials\", \"times\")).data[0])"
   ]
  },
  {
   "cell_type": "code",
   "execution_count": 104,
   "id": "566bb330-926c-4a73-ae34-85a5dc01fa4d",
   "metadata": {},
   "outputs": [],
   "source": [
    "actl = [find_activation_sequences(A.sel(freqs=27).stack(obs=(\"trials\", \"times\")).data[i]) for i in range(A.sizes[\"roi\"])]"
   ]
  },
  {
   "cell_type": "code",
   "execution_count": 105,
   "id": "3cc9b375-c4e8-46e6-a75f-8ebf1446e99b",
   "metadata": {},
   "outputs": [],
   "source": [
    "counts = [np.histogram(actl[i], bins=bins)[0] for i in range(len(actl))]"
   ]
  },
  {
   "cell_type": "code",
   "execution_count": 106,
   "id": "4f6b05d4-477a-4304-84b9-34006c0f2816",
   "metadata": {},
   "outputs": [],
   "source": [
    "counts = np.stack(counts, 0)"
   ]
  },
  {
   "cell_type": "code",
   "execution_count": 107,
   "id": "14c6693d-c279-458d-912c-e86d961ea91b",
   "metadata": {},
   "outputs": [],
   "source": [
    "counts = counts / counts.sum(1)[:, None]"
   ]
  },
  {
   "cell_type": "code",
   "execution_count": 108,
   "id": "7f5210f2-142b-473c-bb16-5d5eca7dcfdc",
   "metadata": {},
   "outputs": [],
   "source": [
    "counts = xr.DataArray(counts, dims=(\"roi\", \"duration\"), coords=dict(roi=A.roi))"
   ]
  },
  {
   "cell_type": "code",
   "execution_count": 98,
   "id": "f608e0e7-0cff-41eb-9e1c-e9036766880e",
   "metadata": {},
   "outputs": [
    {
     "ename": "SyntaxError",
     "evalue": "unexpected EOF while parsing (<ipython-input-98-f35093e5aaeb>, line 1)",
     "output_type": "error",
     "traceback": [
      "\u001b[0;36m  Cell \u001b[0;32mIn[98], line 1\u001b[0;36m\u001b[0m\n\u001b[0;31m    sns.boxplot(data=counts.to_dataframe(\"crk\").reset_index(), x=\"roi\", y=\"crk\"\u001b[0m\n\u001b[0m                                                                               ^\u001b[0m\n\u001b[0;31mSyntaxError\u001b[0m\u001b[0;31m:\u001b[0m unexpected EOF while parsing\n"
     ]
    }
   ],
   "source": [
    "sns.boxplot(data=counts.to_dataframe(\"crk\").reset_index(), x=\"roi\", y=\"crk\""
   ]
  },
  {
   "cell_type": "code",
   "execution_count": 109,
   "id": "0f1b479b-5a5c-40dd-8a38-f86daedededd",
   "metadata": {},
   "outputs": [
    {
     "data": {
      "image/png": "[encoded data removed]",
      "text/plain": [
       "<Figure size 432x288 with 1 Axes>"
      ]
     },
     "metadata": {
      "needs_background": "light"
     },
     "output_type": "display_data"
    }
   ],
   "source": [
    "plt.plot(np.stack(counts, 0).T);"
   ]
  },
  {
   "cell_type": "code",
   "execution_count": 99,
   "id": "d971643b-1861-43db-bc98-e818f27e044d",
   "metadata": {},
   "outputs": [
    {
     "data": {
      "text/plain": [
       "<matplotlib.colorbar.Colorbar at 0x7f80918f44f0>"
      ]
     },
     "execution_count": 99,
     "metadata": {},
     "output_type": "execute_result"
    },
    {
     "data": {
      "image/png": "[encoded data removed]",
      "text/plain": [
       "<Figure size 432x288 with 2 Axes>"
      ]
     },
     "metadata": {
      "needs_background": "light"
     },
     "output_type": "display_data"
    }
   ],
   "source": [
    "plt.imshow(np.stack(counts, 0), aspect=\"auto\", origin=\"lower\")\n",
    "plt.colorbar()"
   ]
  },
  {
   "cell_type": "code",
   "execution_count": 163,
   "id": "4d54b2dd-ae41-4ee4-9b47-7c7cfee0fc6d",
   "metadata": {},
   "outputs": [
    {
     "ename": "NameError",
     "evalue": "name 'spike_train' is not defined",
     "output_type": "error",
     "traceback": [
      "\u001b[0;31m---------------------------------------------------------------------------\u001b[0m",
      "\u001b[0;31mNameError\u001b[0m                                 Traceback (most recent call last)",
      "Cell \u001b[0;32mIn[163], line 1\u001b[0m\n\u001b[0;32m----> 1\u001b[0m find_activation_sequences(\u001b[43mspike_train\u001b[49m, find_zeros\u001b[38;5;241m=\u001b[39m\u001b[38;5;28;01mFalse\u001b[39;00m, dt\u001b[38;5;241m=\u001b[39m\u001b[38;5;28;01mNone\u001b[39;00m,\n\u001b[1;32m      2\u001b[0m                               pad\u001b[38;5;241m=\u001b[39m\u001b[38;5;28;01mFalse\u001b[39;00m)\n",
      "\u001b[0;31mNameError\u001b[0m: name 'spike_train' is not defined"
     ]
    }
   ],
   "source": [
    "find_activation_sequences(spike_train)"
   ]
  },
  {
   "cell_type": "code",
   "execution_count": 154,
   "id": "ee6f8e93-d361-4efc-b3bc-64fa22219355",
   "metadata": {},
   "outputs": [
    {
     "data": {
      "text/plain": [
       "[<matplotlib.lines.Line2D at 0x7f0fff4e20a0>,\n",
       " <matplotlib.lines.Line2D at 0x7f0fff4e2100>,\n",
       " <matplotlib.lines.Line2D at 0x7f0fff4e2220>,\n",
       " <matplotlib.lines.Line2D at 0x7f0fff4e2340>,\n",
       " <matplotlib.lines.Line2D at 0x7f0fff4e2460>,\n",
       " <matplotlib.lines.Line2D at 0x7f0fff4e2580>,\n",
       " <matplotlib.lines.Line2D at 0x7f0fff4e26a0>,\n",
       " <matplotlib.lines.Line2D at 0x7f0fff4e27c0>,\n",
       " <matplotlib.lines.Line2D at 0x7f0fff4e28e0>,\n",
       " <matplotlib.lines.Line2D at 0x7f0fff4e2a00>]"
      ]
     },
     "execution_count": 154,
     "metadata": {},
     "output_type": "execute_result"
    },
    {
     "data": {
      "image/png": "[encoded data removed]",
      "text/plain": [
       "<Figure size 432x288 with 1 Axes>"
      ]
     },
     "metadata": {
      "needs_background": "light"
     },
     "output_type": "display_data"
    }
   ],
   "source": [
    "plt.plot(counts.T)"
   ]
  },
  {
   "cell_type": "code",
   "execution_count": 24,
   "id": "c8af5262-cabf-4c38-a08a-db4f58f7033e",
   "metadata": {},
   "outputs": [],
   "source": [
    "nrois, ntrials, ntimes = A.shape"
   ]
  },
  {
   "cell_type": "code",
   "execution_count": 103,
   "id": "e3676a8e-08ad-4ece-81b2-500969dd09d8",
   "metadata": {},
   "outputs": [],
   "source": [
    "nsurr = 100\n",
    "bins = np.linspace(0, 15, 30)"
   ]
  },
  {
   "cell_type": "code",
   "execution_count": 26,
   "id": "5c4db8d3-eb10-4841-80ee-54bcd577d374",
   "metadata": {},
   "outputs": [
    {
     "name": "stderr",
     "output_type": "stream",
     "text": [
      "100%|██████████| 100/100 [00:00<00:00, 130.53it/s]\n"
     ]
    }
   ],
   "source": [
    "nor = []\n",
    "for i in tqdm(range(nsurr)):\n",
    "    idx = np.random.choice(range(ntimes * ntrials), ntimes * ntrials, replace=True)\n",
    "    nor_, _ = np.histogram(A.sum(\"roi\").data.flatten(), bins=bins)\n",
    "    nor += [nor_]\n",
    "nor = np.stack(nor, axis=0)"
   ]
  },
  {
   "cell_type": "code",
   "execution_count": 32,
   "id": "001a5f5b-c9ed-4a0e-aa64-9f4552f139bb",
   "metadata": {},
   "outputs": [
    {
     "name": "stderr",
     "output_type": "stream",
     "text": [
      "100%|██████████| 100/100 [00:03<00:00, 27.55it/s]\n"
     ]
    }
   ],
   "source": [
    "nI = []\n",
    "for i in tqdm(range(nsurr)):\n",
    "    A_surrI = create_typeI_surr(A, seed=i, verbose=False)\n",
    "    nI_, _ = np.histogram(A_surrI.sum(\"roi\").data.flatten(), bins=bins)\n",
    "    nI += [nI_]\n",
    "nI = np.stack(nI, axis=0)"
   ]
  },
  {
   "cell_type": "code",
   "execution_count": 61,
   "id": "40c0b648-f056-4ae9-ac48-e1122fe1da57",
   "metadata": {},
   "outputs": [
    {
     "name": "stderr",
     "output_type": "stream",
     "text": [
      "100%|██████████| 100/100 [01:55<00:00,  1.15s/it]\n"
     ]
    }
   ],
   "source": [
    "nII = []\n",
    "for i in tqdm(range(nsurr)):\n",
    "    A_surrII = create_typeII_surr(A, seed=i, verbose=False)\n",
    "    nII_, _ = np.histogram(A_surrII.sum(\"roi\").data.flatten(), bins=bins)\n",
    "    nII += [nII_]\n",
    "nII = np.stack(nII, axis=0)"
   ]
  },
  {
   "cell_type": "code",
   "execution_count": 33,
   "id": "cce6a2b0-8c4b-495e-9f58-51941c832bf9",
   "metadata": {},
   "outputs": [
    {
     "ename": "NameError",
     "evalue": "name 'nII' is not defined",
     "output_type": "error",
     "traceback": [
      "\u001b[0;31m---------------------------------------------------------------------------\u001b[0m",
      "\u001b[0;31mNameError\u001b[0m                                 Traceback (most recent call last)",
      "Cell \u001b[0;32mIn[33], line 12\u001b[0m\n\u001b[1;32m      3\u001b[0m plt\u001b[38;5;241m.\u001b[39msemilogy(bins[\u001b[38;5;241m1\u001b[39m:], np\u001b[38;5;241m.\u001b[39mquantile(nI, \u001b[38;5;241m0.5\u001b[39m, \u001b[38;5;241m0\u001b[39m), \u001b[38;5;124m\"\u001b[39m\u001b[38;5;124mb\u001b[39m\u001b[38;5;124m\"\u001b[39m)\n\u001b[1;32m      4\u001b[0m plt\u001b[38;5;241m.\u001b[39mfill_between(\n\u001b[1;32m      5\u001b[0m     bins[\u001b[38;5;241m1\u001b[39m:],\n\u001b[1;32m      6\u001b[0m     np\u001b[38;5;241m.\u001b[39mquantile(nI, \u001b[38;5;241m0.05\u001b[39m, \u001b[38;5;241m0\u001b[39m),\n\u001b[0;32m   (...)\u001b[0m\n\u001b[1;32m      9\u001b[0m     alpha\u001b[38;5;241m=\u001b[39m\u001b[38;5;241m0.2\u001b[39m,\n\u001b[1;32m     10\u001b[0m )\n\u001b[0;32m---> 12\u001b[0m plt\u001b[38;5;241m.\u001b[39msemilogy(bins[\u001b[38;5;241m1\u001b[39m:], np\u001b[38;5;241m.\u001b[39mquantile(\u001b[43mnII\u001b[49m, \u001b[38;5;241m0.5\u001b[39m, \u001b[38;5;241m0\u001b[39m), \u001b[38;5;124m\"\u001b[39m\u001b[38;5;124mg\u001b[39m\u001b[38;5;124m\"\u001b[39m)\n\u001b[1;32m     13\u001b[0m plt\u001b[38;5;241m.\u001b[39mfill_between(\n\u001b[1;32m     14\u001b[0m     bins[\u001b[38;5;241m1\u001b[39m:],\n\u001b[1;32m     15\u001b[0m     np\u001b[38;5;241m.\u001b[39mquantile(nII, \u001b[38;5;241m0.05\u001b[39m, \u001b[38;5;241m0\u001b[39m),\n\u001b[0;32m   (...)\u001b[0m\n\u001b[1;32m     18\u001b[0m     alpha\u001b[38;5;241m=\u001b[39m\u001b[38;5;241m0.2\u001b[39m,\n\u001b[1;32m     19\u001b[0m )\n\u001b[1;32m     21\u001b[0m [ax\u001b[38;5;241m.\u001b[39mspines[key]\u001b[38;5;241m.\u001b[39mset_visible(\u001b[38;5;28;01mFalse\u001b[39;00m) \u001b[38;5;28;01mfor\u001b[39;00m key \u001b[38;5;129;01min\u001b[39;00m [\u001b[38;5;124m\"\u001b[39m\u001b[38;5;124mtop\u001b[39m\u001b[38;5;124m\"\u001b[39m, \u001b[38;5;124m\"\u001b[39m\u001b[38;5;124mright\u001b[39m\u001b[38;5;124m\"\u001b[39m]]\n",
      "\u001b[0;31mNameError\u001b[0m: name 'nII' is not defined"
     ]
    },
    {
     "data": {
      "image/png": "[encoded data removed]",
      "text/plain": [
       "<Figure size 432x288 with 1 Axes>"
      ]
     },
     "metadata": {
      "needs_background": "light"
     },
     "output_type": "display_data"
    }
   ],
   "source": [
    "ax = plt.subplot(111)\n",
    "\n",
    "plt.semilogy(bins[1:], np.quantile(nI, 0.5, 0), \"b\")\n",
    "plt.fill_between(\n",
    "    bins[1:],\n",
    "    np.quantile(nI, 0.05, 0),\n",
    "    np.quantile(nI, 0.95, 0),\n",
    "    color=\"b\",\n",
    "    alpha=0.2,\n",
    ")\n",
    "\n",
    "plt.semilogy(bins[1:], np.quantile(nII, 0.5, 0), \"g\")\n",
    "plt.fill_between(\n",
    "    bins[1:],\n",
    "    np.quantile(nII, 0.05, 0),\n",
    "    np.quantile(nII, 0.95, 0),\n",
    "    color=\"g\",\n",
    "    alpha=0.2,\n",
    ")\n",
    "\n",
    "[ax.spines[key].set_visible(False) for key in [\"top\", \"right\"]]\n",
    "\n",
    "plt.xlabel(\"Cracle size\")"
   ]
  },
  {
   "cell_type": "code",
   "execution_count": 63,
   "id": "07b311d9-5c15-4bc7-b057-26a86a58d358",
   "metadata": {},
   "outputs": [
    {
     "name": "stderr",
     "output_type": "stream",
     "text": [
      "100%|██████████| 30/30 [00:00<00:00, 248.03it/s]\n"
     ]
    }
   ],
   "source": [
    "P = []\n",
    "for i in tqdm(range(30)):\n",
    "    P += [(A.unstack().sum(\"roi\") == i).mean(\"trials\")]\n",
    "P = xr.concat(P, \"k\")"
   ]
  },
  {
   "cell_type": "code",
   "execution_count": 64,
   "id": "870966cf-e7c6-438e-82d8-148ed57f1671",
   "metadata": {},
   "outputs": [
    {
     "name": "stderr",
     "output_type": "stream",
     "text": [
      "100%|██████████| 100/100 [02:08<00:00,  1.28s/it]\n"
     ]
    }
   ],
   "source": [
    "P_surr = []\n",
    "for i in tqdm(range(nsurr)):\n",
    "    A_surrII = create_typeII_surr(A, seed=i, verbose=False)\n",
    "    temp = []\n",
    "    for k in range(30):\n",
    "        temp += [(A_surrII.sum(\"roi\") == k).mean(\"trials\")]\n",
    "    P_surr += [xr.concat(temp, \"k\")]\n",
    "P_surr = xr.concat(P_surr, \"boot\")"
   ]
  },
  {
   "cell_type": "code",
   "execution_count": 65,
   "id": "895ee971-cab4-457d-8982-1cfbafe7b746",
   "metadata": {},
   "outputs": [],
   "source": [
    "from scipy.stats import ttest_1samp"
   ]
  },
  {
   "cell_type": "code",
   "execution_count": 66,
   "id": "90178ac7-a266-4838-be1c-2e7545863256",
   "metadata": {},
   "outputs": [],
   "source": [
    "t, p = ttest_1samp(P_surr, P, axis=0, alternative=\"greater\")"
   ]
  },
  {
   "cell_type": "code",
   "execution_count": 70,
   "id": "058a6949-7e20-46de-a82d-2d6b53dab99a",
   "metadata": {},
   "outputs": [],
   "source": [
    "Psig = P.copy()\n",
    "Psig.values = Psig.values * (p <= 0.001)"
   ]
  },
  {
   "cell_type": "code",
   "execution_count": 72,
   "id": "c9a21414-a2e9-44e5-bee1-dbaaa4fc7b29",
   "metadata": {},
   "outputs": [
    {
     "data": {
      "text/plain": [
       "<matplotlib.image.AxesImage at 0x7ff5c69c5cd0>"
      ]
     },
     "execution_count": 72,
     "metadata": {},
     "output_type": "execute_result"
    },
    {
     "data": {
      "image/png": "[encoded data removed]",
      "text/plain": [
       "<Figure size 1440x288 with 2 Axes>"
      ]
     },
     "metadata": {
      "needs_background": "light"
     },
     "output_type": "display_data"
    }
   ],
   "source": [
    "plt.figure(figsize=(20, 4))\n",
    "Psig.sel(times=slice(-0.5, 2.5)).plot.imshow(cmap=\"turbo\", vmin=0, vmax=0.1)"
   ]
  },
  {
   "cell_type": "code",
   "execution_count": null,
   "id": "2f187b9a-6438-4acd-b803-860a751666be",
   "metadata": {},
   "outputs": [],
   "source": []
  }
 ],
 "metadata": {
  "kernelspec": {
   "display_name": "Python 3",
   "language": "python",
   "name": "python3"
  },
  "language_info": {
   "codemirror_mode": {
    "name": "ipython",
    "version": 3
   },
   "file_extension": ".py",
   "mimetype": "text/x-python",
   "name": "python",
   "nbconvert_exporter": "python",
   "pygments_lexer": "ipython3",
   "version": "3.8.8"
  }
 },
 "nbformat": 4,
 "nbformat_minor": 5
}
