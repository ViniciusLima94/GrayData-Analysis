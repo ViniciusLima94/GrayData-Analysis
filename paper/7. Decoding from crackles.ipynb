{
 "cells": [
  {
   "cell_type": "code",
   "execution_count": 1,
   "id": "9a71efbd-df78-43e5-85d7-ece84c132bd7",
   "metadata": {},
   "outputs": [],
   "source": [
    "import sys\n",
    "\n",
    "sys.path.insert(1, \"/home/vinicius/storage1/projects/GrayData-Analysis\")"
   ]
  },
  {
   "cell_type": "code",
   "execution_count": 2,
   "id": "b2149b2f-8a4c-4878-811d-57978357a0cb",
   "metadata": {},
   "outputs": [],
   "source": [
    "import argparse\n",
    "import os\n",
    "\n",
    "import matplotlib.pyplot as plt\n",
    "import numpy as np\n",
    "import xarray as xr\n",
    "from frites.dataset import DatasetEphy\n",
    "from frites.estimator import GCMIEstimator\n",
    "from frites.workflow import WfMi\n",
    "from tqdm import tqdm\n",
    "\n",
    "from config import get_dates, return_delay_split\n",
    "from GDa.util import average_stages"
   ]
  },
  {
   "cell_type": "code",
   "execution_count": 3,
   "id": "fa1c14ca-4c39-4ab6-9c2e-24f26b2c41c5",
   "metadata": {},
   "outputs": [],
   "source": [
    "s_id = \"141024\"\n",
    "tt = 1\n",
    "br = 1\n",
    "q = 0.9\n",
    "at = \"cue\"\n",
    "monkey = \"lucy\"\n",
    "\n",
    "\n",
    "stages = {}\n",
    "stages[\"lucy\"] = [[-0.6, -0.3], [0, 0.4], [0.5, 0.9], [0.9, 1.3], [1.1, 1.5]]\n",
    "stages[\"ethyl\"] = [[-0.4, 0], [0, 0.4], [0.5, 0.9], [0.9, 1.3], [1.1, 1.5]]\n",
    "stage_labels = [\"P\", \"S\", \"D1\", \"D2\", \"Dm\"]\n",
    "\n",
    "sessions = get_dates(monkey)"
   ]
  },
  {
   "cell_type": "code",
   "execution_count": 4,
   "id": "ec72a7de-0387-43bb-af43-03afe2ece578",
   "metadata": {},
   "outputs": [],
   "source": [
    "_ROOT = os.path.expanduser(\"~/funcog/gda\")"
   ]
  },
  {
   "cell_type": "code",
   "execution_count": 5,
   "id": "38c4cb4d-01b1-4233-9d3e-ce06def9bab2",
   "metadata": {},
   "outputs": [],
   "source": [
    "# Load power\n",
    "_FILE_NAME = f\"power_tt_{tt}_br_{br}_at_{at}.nc\"\n",
    "path_pow = os.path.join(_ROOT, f\"Results/{monkey}/{s_id}/session01\", _FILE_NAME)\n",
    "power = xr.load_dataarray(path_pow)\n",
    "attrs = power.attrs\n",
    "\n",
    "# Compute and apply thresholds\n",
    "thr = power.quantile(q, (\"trials\", \"times\"))\n",
    "power.values = (power >= thr).values\n",
    "\n",
    "out = []\n",
    "for t0, t1 in stages[monkey]:\n",
    "    out += [power.sel(times=slice(t0, t1)).mean(\"times\")]\n",
    "out = xr.concat(out, \"times\")\n",
    "out = out.transpose(\"trials\", \"roi\", \"freqs\", \"times\")\n",
    "out = out.assign_coords({\"trials\": attrs[\"stim\"]})\n",
    "out.attrs = attrs"
   ]
  },
  {
   "cell_type": "code",
   "execution_count": 6,
   "id": "5a8fe0e3-ac78-4c15-8d48-5a7d2bf5cb60",
   "metadata": {},
   "outputs": [],
   "source": [
    "from sklearn.ensemble import RandomForestClassifier\n",
    "from sklearn.metrics import accuracy_score\n",
    "from sklearn.model_selection import GridSearchCV, cross_val_score, train_test_split\n",
    "from sklearn.preprocessing import LabelEncoder, OneHotEncoder"
   ]
  },
  {
   "cell_type": "code",
   "execution_count": 27,
   "id": "11182d70-ae90-46fc-8021-530ad3e5a069",
   "metadata": {},
   "outputs": [],
   "source": [
    "bands = {\n",
    "    \"theta\": [0, 3],\n",
    "    \"alpha\": [6, 14],\n",
    "    \"beta\": [14, 26],\n",
    "    \"high_beta\": [26, 43],\n",
    "    \"gamma\": [43, 80],\n",
    "}\n",
    "\n",
    "\n",
    "def compute_cv_scores(x_train, y_train):\n",
    "\n",
    "    max_depths = np.arange(1, 21, 1, dtype=int)\n",
    "    n_estimators = [100, 200, 500]\n",
    "    max_features = [\"sqrt\", x_train.shape[1]]\n",
    "\n",
    "    parameters = {\n",
    "        \"n_estimators\": n_estimators,\n",
    "        \"max_features\": max_features,\n",
    "        \"ccp_alpha\": [0, 0.001, 0.01, 0.1],\n",
    "    }\n",
    "\n",
    "    est = RandomForestClassifier(n_jobs=20, bootstrap=True)\n",
    "\n",
    "    clf = GridSearchCV(\n",
    "        estimator=est,\n",
    "        param_grid=parameters,\n",
    "        cv=5,\n",
    "        scoring=\"accuracy\",\n",
    "        n_jobs=20,\n",
    "        return_train_score=True,\n",
    "        verbose=0,\n",
    "    )\n",
    "\n",
    "    clf.fit(x_train, y_train)\n",
    "\n",
    "    est = RandomForestClassifier(\n",
    "        **clf.best_params_,\n",
    "        n_jobs=-1,\n",
    "    )\n",
    "\n",
    "    return est\n",
    "\n",
    "\n",
    "def prepare_data(data, freq, time):\n",
    "\n",
    "    X = (\n",
    "        data.sel(freqs=freq, times=time)\n",
    "    )\n",
    "\n",
    "    y = X.trials.data.astype(int)\n",
    "    X = X.data\n",
    "\n",
    "    x_train, x_test, y_train, y_test = train_test_split(\n",
    "        X, y, test_size=0.33, shuffle=True\n",
    "    )\n",
    "\n",
    "    return x_train, x_test, y_train, y_test"
   ]
  },
  {
   "cell_type": "code",
   "execution_count": 45,
   "id": "7a730b57-cbc9-4866-b063-4b85ee72d7c7",
   "metadata": {},
   "outputs": [
    {
     "data": {
      "text/plain": [
       "30.0"
      ]
     },
     "execution_count": 45,
     "metadata": {},
     "output_type": "execute_result"
    }
   ],
   "source": [
    "np.ceil((582/4) / 5)"
   ]
  },
  {
   "cell_type": "code",
   "execution_count": 28,
   "id": "9c7ab308-671d-4c88-a8ec-f353839ac4cc",
   "metadata": {},
   "outputs": [
    {
     "name": "stderr",
     "output_type": "stream",
     "text": [
      "100%|██████████| 5/5 [00:43<00:00,  8.68s/it]\n"
     ]
    }
   ],
   "source": [
    "band = \"high_beta\"\n",
    "decoders = []\n",
    "\n",
    "for time in tqdm(range(5)):\n",
    "    x_train, x_test, y_train, y_test = prepare_data(out, 35, time)\n",
    "    decoders += [compute_cv_scores(x_train, y_train)]"
   ]
  },
  {
   "cell_type": "code",
   "execution_count": 29,
   "id": "02ebb419-76ea-4db7-8c2d-56bc9559fda8",
   "metadata": {},
   "outputs": [
    {
     "name": "stderr",
     "output_type": "stream",
     "text": [
      "100%|██████████| 5/5 [00:01<00:00,  4.52it/s]\n"
     ]
    }
   ],
   "source": [
    "cvs = [\n",
    "    cross_val_score(decoders[t], x_test, y_test, n_jobs=20, cv=5, verbose=0)\n",
    "    for t in tqdm(range(5))\n",
    "]"
   ]
  },
  {
   "cell_type": "code",
   "execution_count": 34,
   "id": "b777d5b9-2f54-4041-a032-c96fe960cc9a",
   "metadata": {},
   "outputs": [
    {
     "name": "stderr",
     "output_type": "stream",
     "text": [
      "100%|██████████| 1/1 [00:01<00:00,  1.13s/it]\n"
     ]
    }
   ],
   "source": [
    "cvs_surr = []\n",
    "y_test_sh = y_test.copy()\n",
    "for i in tqdm(range(1)):\n",
    "    np.random.shuffle(y_test_sh)\n",
    "    cvs_surr += [\n",
    "        [\n",
    "            cross_val_score(decoders[t], x_test, y_test_sh, n_jobs=20, cv=5, verbose=0)\n",
    "            for t in range(5)\n",
    "        ]\n",
    "    ]"
   ]
  },
  {
   "cell_type": "code",
   "execution_count": 35,
   "id": "ebf30a83-5d6f-475a-8ead-3bab5a0b38b9",
   "metadata": {},
   "outputs": [],
   "source": [
    "cvs = xr.DataArray(np.stack(cvs, 0), dims=(\"times\", \"k\"))"
   ]
  },
  {
   "cell_type": "code",
   "execution_count": 36,
   "id": "752e7908-0dd9-4489-9eb4-a913d5d21051",
   "metadata": {},
   "outputs": [],
   "source": [
    "cvs_surr = xr.DataArray(np.stack(cvs_surr, 0), dims=(\"boot\", \"times\", \"k\"))"
   ]
  },
  {
   "cell_type": "code",
   "execution_count": 40,
   "id": "973796f0-9942-42aa-8bb4-a59feb360ab8",
   "metadata": {},
   "outputs": [
    {
     "data": {
      "text/plain": [
       "<matplotlib.collections.LineCollection at 0x7f73454efd30>"
      ]
     },
     "execution_count": 40,
     "metadata": {},
     "output_type": "execute_result"
    },
    {
     "data": {
      "image/png": "[encoded data removed]",
      "text/plain": [
       "<Figure size 432x288 with 1 Axes>"
      ]
     },
     "metadata": {
      "needs_background": "light"
     },
     "output_type": "display_data"
    }
   ],
   "source": [
    "\n",
    "cvs.median(\"k\").plot(color=\"b\")\n",
    "plt.fill_between(\n",
    "    cvs.times,\n",
    "    cvs.quantile(0.05, \"k\"),\n",
    "    cvs.quantile(0.95, \"k\"), alpha=.4\n",
    ")\n",
    "\n",
    "plt.hlines(1/5, 0, 4)"
   ]
  },
  {
   "cell_type": "code",
   "execution_count": 8,
   "id": "db13cb42-6b03-443c-a49a-d9d6c5d78dac",
   "metadata": {},
   "outputs": [
    {
     "name": "stderr",
     "output_type": "stream",
     "text": [
      "100%|██████████| 5/5 [09:17<00:00, 111.44s/it]\n"
     ]
    }
   ],
   "source": [
    "times = [[-0.6, -0.4], [0, 0.4], [0.5, 0.9], [0.9, 1.3], [1.1, 1.5]]\n",
    "\n",
    "cv_scores = []\n",
    "\n",
    "for time in tqdm(range(5)):\n",
    "    cv_scores += [compute_cv_scores(time, \"high_beta\")]"
   ]
  },
  {
   "cell_type": "code",
   "execution_count": 9,
   "id": "a03d795a-ade1-46db-b41e-fd016f6abd4c",
   "metadata": {},
   "outputs": [
    {
     "name": "stderr",
     "output_type": "stream",
     "text": [
      "100%|██████████| 5/5 [08:30<00:00, 102.01s/it]\n"
     ]
    }
   ],
   "source": [
    "cv_scores_surr = []\n",
    "\n",
    "for time in tqdm(range(5)):\n",
    "    cv_scores_surr += [compute_cv_scores(time, \"high_beta\", shuffle=True)]"
   ]
  },
  {
   "cell_type": "code",
   "execution_count": 11,
   "id": "b8ff944a-6441-4231-8972-039be40714a5",
   "metadata": {},
   "outputs": [
    {
     "data": {
      "image/png": "[encoded data removed]",
      "text/plain": [
       "<Figure size 432x288 with 1 Axes>"
      ]
     },
     "metadata": {
      "needs_background": "light"
     },
     "output_type": "display_data"
    }
   ],
   "source": [
    "ax = plt.subplot(111)\n",
    "plt.plot(range(5), np.median(cv_scores, -1), \"s-\")\n",
    "\n",
    "plt.plot(range(5), np.median(cv_scores_surr, -1), \"lightgray\")\n",
    "plt.fill_between(\n",
    "    range(5),\n",
    "    np.quantile(cv_scores_surr, 0.05, -1),\n",
    "    np.quantile(cv_scores_surr, 0.95, -1),\n",
    "    color=\"lightgray\",\n",
    "    alpha=0.3,\n",
    ")\n",
    "[ax.spines[key].set_visible(False) for key in [\"top\", \"right\"]]\n",
    "plt.ylabel(\"Decoding accuracy\")\n",
    "plt.xticks(range(5), [\"P\", \"S\", \"D1\", \"D2\", \"M\"]);"
   ]
  },
  {
   "cell_type": "code",
   "execution_count": 30,
   "id": "92715d9a-7fbb-41d5-9260-9c40ae8c8022",
   "metadata": {},
   "outputs": [],
   "source": [
    "cv = []\n",
    "cv_surr = []\n",
    "for session in sessions[:55]:\n",
    "    cv += [\n",
    "        xr.load_dataarray(\n",
    "            f\"~/funcog/gda/Results/lucy/decoding/crackles/cv_crackle_high_beta_{session}.nc\"\n",
    "        )\n",
    "    ]\n",
    "    cv_surr += [\n",
    "        xr.load_dataarray(\n",
    "            f\"~/funcog/gda/Results/lucy/decoding/crackles/cv_surr_crackle_high_beta_{session}.nc\"\n",
    "        )\n",
    "    ]"
   ]
  },
  {
   "cell_type": "code",
   "execution_count": 31,
   "id": "7fa35b0a-1a19-4e1a-b931-a52ee3885cd8",
   "metadata": {},
   "outputs": [
    {
     "name": "stderr",
     "output_type": "stream",
     "text": [
      "    Estimating CI (cis=[95], axis=1, n_boots=200, skipna=True, random_state=None)\n",
      "    Estimating CI (cis=[95], axis=1, n_boots=200, skipna=True, random_state=None)\n"
     ]
    }
   ],
   "source": [
    "from frites.stats import confidence_interval\n",
    "\n",
    "cv = confidence_interval(xr.concat(cv, \"k\"), axis=1).squeeze()\n",
    "cv_surr = confidence_interval(xr.concat(cv_surr, \"k\"), axis=1).squeeze()"
   ]
  },
  {
   "cell_type": "code",
   "execution_count": 33,
   "id": "7cf8da21-714a-4abc-9fbb-6736315de452",
   "metadata": {},
   "outputs": [
    {
     "data": {
      "text/plain": [
       "Text(0.5, 0, '')"
      ]
     },
     "execution_count": 33,
     "metadata": {},
     "output_type": "execute_result"
    },
    {
     "data": {
      "image/png": "[encoded data removed]",
      "text/plain": [
       "<Figure size 432x288 with 1 Axes>"
      ]
     },
     "metadata": {
      "needs_background": "light"
     },
     "output_type": "display_data"
    }
   ],
   "source": [
    "cv.median(\"bound\").plot.step(x=\"times\")\n",
    "plt.fill_between(\n",
    "    cv.times, cv.sel(bound=\"low\"), cv.sel(bound=\"high\"), alpha=0.4, step=\"pre\"\n",
    ")\n",
    "cv_surr.median(\"bound\").plot.step(x=\"times\", color=\"lightgray\")\n",
    "plt.fill_between(\n",
    "    cv_surr.times,\n",
    "    cv_surr.sel(bound=\"low\"),\n",
    "    cv_surr.sel(bound=\"high\"),\n",
    "    color=\"lightgray\",\n",
    "    alpha=0.4,\n",
    "    step=\"pre\",\n",
    ")\n",
    "plt.hlines(1 / 5, 0, 5)\n",
    "plt.xticks(range(5), stage_labels)\n",
    "plt.xlabel(\"\")"
   ]
  },
  {
   "cell_type": "code",
   "execution_count": 23,
   "id": "3436b875-faab-4db4-9fb6-8a93370efa01",
   "metadata": {},
   "outputs": [],
   "source": [
    "f_0, f_1 = bands[band][0], bands[band][1]\n",
    "\n",
    "X = out.sel(freqs=slice(f_0, f_1), times=2).stack(z=(\"freqs\", \"trials\"))"
   ]
  },
  {
   "cell_type": "code",
   "execution_count": 25,
   "id": "7a346896-c1e4-4fbd-9734-9e4a2323ed78",
   "metadata": {},
   "outputs": [],
   "source": [
    "unique_rois, n_each = np.unique(X.roi.data, return_counts=True)"
   ]
  },
  {
   "cell_type": "code",
   "execution_count": 42,
   "id": "83c14d47-5d1c-4ebe-a8c3-de51c56b5471",
   "metadata": {},
   "outputs": [
    {
     "data": {
      "text/html": [
       "<div><svg style=\"position: absolute; width: 0; height: 0; overflow: hidden\">\n",
       "<defs>\n",
       "<symbol id=\"icon-database\" viewBox=\"0 0 32 32\">\n",
       "<path d=\"M16 0c-8.837 0-16 2.239-16 5v4c0 2.761 7.163 5 16 5s16-2.239 16-5v-4c0-2.761-7.163-5-16-5z\"></path>\n",
       "<path d=\"M16 17c-8.837 0-16-2.239-16-5v6c0 2.761 7.163 5 16 5s16-2.239 16-5v-6c0 2.761-7.163 5-16 5z\"></path>\n",
       "<path d=\"M16 26c-8.837 0-16-2.239-16-5v6c0 2.761 7.163 5 16 5s16-2.239 16-5v-6c0 2.761-7.163 5-16 5z\"></path>\n",
       "</symbol>\n",
       "<symbol id=\"icon-file-text2\" viewBox=\"0 0 32 32\">\n",
       "<path d=\"M28.681 7.159c-0.694-0.947-1.662-2.053-2.724-3.116s-2.169-2.030-3.116-2.724c-1.612-1.182-2.393-1.319-2.841-1.319h-15.5c-1.378 0-2.5 1.121-2.5 2.5v27c0 1.378 1.122 2.5 2.5 2.5h23c1.378 0 2.5-1.122 2.5-2.5v-19.5c0-0.448-0.137-1.23-1.319-2.841zM24.543 5.457c0.959 0.959 1.712 1.825 2.268 2.543h-4.811v-4.811c0.718 0.556 1.584 1.309 2.543 2.268zM28 29.5c0 0.271-0.229 0.5-0.5 0.5h-23c-0.271 0-0.5-0.229-0.5-0.5v-27c0-0.271 0.229-0.5 0.5-0.5 0 0 15.499-0 15.5 0v7c0 0.552 0.448 1 1 1h7v19.5z\"></path>\n",
       "<path d=\"M23 26h-14c-0.552 0-1-0.448-1-1s0.448-1 1-1h14c0.552 0 1 0.448 1 1s-0.448 1-1 1z\"></path>\n",
       "<path d=\"M23 22h-14c-0.552 0-1-0.448-1-1s0.448-1 1-1h14c0.552 0 1 0.448 1 1s-0.448 1-1 1z\"></path>\n",
       "<path d=\"M23 18h-14c-0.552 0-1-0.448-1-1s0.448-1 1-1h14c0.552 0 1 0.448 1 1s-0.448 1-1 1z\"></path>\n",
       "</symbol>\n",
       "</defs>\n",
       "</svg>\n",
       "<style>/* CSS stylesheet for displaying xarray objects in jupyterlab.\n",
       " *\n",
       " */\n",
       "\n",
       ":root {\n",
       "  --xr-font-color0: var(--jp-content-font-color0, rgba(0, 0, 0, 1));\n",
       "  --xr-font-color2: var(--jp-content-font-color2, rgba(0, 0, 0, 0.54));\n",
       "  --xr-font-color3: var(--jp-content-font-color3, rgba(0, 0, 0, 0.38));\n",
       "  --xr-border-color: var(--jp-border-color2, #e0e0e0);\n",
       "  --xr-disabled-color: var(--jp-layout-color3, #bdbdbd);\n",
       "  --xr-background-color: var(--jp-layout-color0, white);\n",
       "  --xr-background-color-row-even: var(--jp-layout-color1, white);\n",
       "  --xr-background-color-row-odd: var(--jp-layout-color2, #eeeeee);\n",
       "}\n",
       "\n",
       "html[theme=dark],\n",
       "body[data-theme=dark],\n",
       "body.vscode-dark {\n",
       "  --xr-font-color0: rgba(255, 255, 255, 1);\n",
       "  --xr-font-color2: rgba(255, 255, 255, 0.54);\n",
       "  --xr-font-color3: rgba(255, 255, 255, 0.38);\n",
       "  --xr-border-color: #1F1F1F;\n",
       "  --xr-disabled-color: #515151;\n",
       "  --xr-background-color: #111111;\n",
       "  --xr-background-color-row-even: #111111;\n",
       "  --xr-background-color-row-odd: #313131;\n",
       "}\n",
       "\n",
       ".xr-wrap {\n",
       "  display: block !important;\n",
       "  min-width: 300px;\n",
       "  max-width: 700px;\n",
       "}\n",
       "\n",
       ".xr-text-repr-fallback {\n",
       "  /* fallback to plain text repr when CSS is not injected (untrusted notebook) */\n",
       "  display: none;\n",
       "}\n",
       "\n",
       ".xr-header {\n",
       "  padding-top: 6px;\n",
       "  padding-bottom: 6px;\n",
       "  margin-bottom: 4px;\n",
       "  border-bottom: solid 1px var(--xr-border-color);\n",
       "}\n",
       "\n",
       ".xr-header > div,\n",
       ".xr-header > ul {\n",
       "  display: inline;\n",
       "  margin-top: 0;\n",
       "  margin-bottom: 0;\n",
       "}\n",
       "\n",
       ".xr-obj-type,\n",
       ".xr-array-name {\n",
       "  margin-left: 2px;\n",
       "  margin-right: 10px;\n",
       "}\n",
       "\n",
       ".xr-obj-type {\n",
       "  color: var(--xr-font-color2);\n",
       "}\n",
       "\n",
       ".xr-sections {\n",
       "  padding-left: 0 !important;\n",
       "  display: grid;\n",
       "  grid-template-columns: 150px auto auto 1fr 20px 20px;\n",
       "}\n",
       "\n",
       ".xr-section-item {\n",
       "  display: contents;\n",
       "}\n",
       "\n",
       ".xr-section-item input {\n",
       "  display: none;\n",
       "}\n",
       "\n",
       ".xr-section-item input + label {\n",
       "  color: var(--xr-disabled-color);\n",
       "}\n",
       "\n",
       ".xr-section-item input:enabled + label {\n",
       "  cursor: pointer;\n",
       "  color: var(--xr-font-color2);\n",
       "}\n",
       "\n",
       ".xr-section-item input:enabled + label:hover {\n",
       "  color: var(--xr-font-color0);\n",
       "}\n",
       "\n",
       ".xr-section-summary {\n",
       "  grid-column: 1;\n",
       "  color: var(--xr-font-color2);\n",
       "  font-weight: 500;\n",
       "}\n",
       "\n",
       ".xr-section-summary > span {\n",
       "  display: inline-block;\n",
       "  padding-left: 0.5em;\n",
       "}\n",
       "\n",
       ".xr-section-summary-in:disabled + label {\n",
       "  color: var(--xr-font-color2);\n",
       "}\n",
       "\n",
       ".xr-section-summary-in + label:before {\n",
       "  display: inline-block;\n",
       "  content: '►';\n",
       "  font-size: 11px;\n",
       "  width: 15px;\n",
       "  text-align: center;\n",
       "}\n",
       "\n",
       ".xr-section-summary-in:disabled + label:before {\n",
       "  color: var(--xr-disabled-color);\n",
       "}\n",
       "\n",
       ".xr-section-summary-in:checked + label:before {\n",
       "  content: '▼';\n",
       "}\n",
       "\n",
       ".xr-section-summary-in:checked + label > span {\n",
       "  display: none;\n",
       "}\n",
       "\n",
       ".xr-section-summary,\n",
       ".xr-section-inline-details {\n",
       "  padding-top: 4px;\n",
       "  padding-bottom: 4px;\n",
       "}\n",
       "\n",
       ".xr-section-inline-details {\n",
       "  grid-column: 2 / -1;\n",
       "}\n",
       "\n",
       ".xr-section-details {\n",
       "  display: none;\n",
       "  grid-column: 1 / -1;\n",
       "  margin-bottom: 5px;\n",
       "}\n",
       "\n",
       ".xr-section-summary-in:checked ~ .xr-section-details {\n",
       "  display: contents;\n",
       "}\n",
       "\n",
       ".xr-array-wrap {\n",
       "  grid-column: 1 / -1;\n",
       "  display: grid;\n",
       "  grid-template-columns: 20px auto;\n",
       "}\n",
       "\n",
       ".xr-array-wrap > label {\n",
       "  grid-column: 1;\n",
       "  vertical-align: top;\n",
       "}\n",
       "\n",
       ".xr-preview {\n",
       "  color: var(--xr-font-color3);\n",
       "}\n",
       "\n",
       ".xr-array-preview,\n",
       ".xr-array-data {\n",
       "  padding: 0 5px !important;\n",
       "  grid-column: 2;\n",
       "}\n",
       "\n",
       ".xr-array-data,\n",
       ".xr-array-in:checked ~ .xr-array-preview {\n",
       "  display: none;\n",
       "}\n",
       "\n",
       ".xr-array-in:checked ~ .xr-array-data,\n",
       ".xr-array-preview {\n",
       "  display: inline-block;\n",
       "}\n",
       "\n",
       ".xr-dim-list {\n",
       "  display: inline-block !important;\n",
       "  list-style: none;\n",
       "  padding: 0 !important;\n",
       "  margin: 0;\n",
       "}\n",
       "\n",
       ".xr-dim-list li {\n",
       "  display: inline-block;\n",
       "  padding: 0;\n",
       "  margin: 0;\n",
       "}\n",
       "\n",
       ".xr-dim-list:before {\n",
       "  content: '(';\n",
       "}\n",
       "\n",
       ".xr-dim-list:after {\n",
       "  content: ')';\n",
       "}\n",
       "\n",
       ".xr-dim-list li:not(:last-child):after {\n",
       "  content: ',';\n",
       "  padding-right: 5px;\n",
       "}\n",
       "\n",
       ".xr-has-index {\n",
       "  font-weight: bold;\n",
       "}\n",
       "\n",
       ".xr-var-list,\n",
       ".xr-var-item {\n",
       "  display: contents;\n",
       "}\n",
       "\n",
       ".xr-var-item > div,\n",
       ".xr-var-item label,\n",
       ".xr-var-item > .xr-var-name span {\n",
       "  background-color: var(--xr-background-color-row-even);\n",
       "  margin-bottom: 0;\n",
       "}\n",
       "\n",
       ".xr-var-item > .xr-var-name:hover span {\n",
       "  padding-right: 5px;\n",
       "}\n",
       "\n",
       ".xr-var-list > li:nth-child(odd) > div,\n",
       ".xr-var-list > li:nth-child(odd) > label,\n",
       ".xr-var-list > li:nth-child(odd) > .xr-var-name span {\n",
       "  background-color: var(--xr-background-color-row-odd);\n",
       "}\n",
       "\n",
       ".xr-var-name {\n",
       "  grid-column: 1;\n",
       "}\n",
       "\n",
       ".xr-var-dims {\n",
       "  grid-column: 2;\n",
       "}\n",
       "\n",
       ".xr-var-dtype {\n",
       "  grid-column: 3;\n",
       "  text-align: right;\n",
       "  color: var(--xr-font-color2);\n",
       "}\n",
       "\n",
       ".xr-var-preview {\n",
       "  grid-column: 4;\n",
       "}\n",
       "\n",
       ".xr-index-preview {\n",
       "  grid-column: 2 / 5;\n",
       "  color: var(--xr-font-color2);\n",
       "}\n",
       "\n",
       ".xr-var-name,\n",
       ".xr-var-dims,\n",
       ".xr-var-dtype,\n",
       ".xr-preview,\n",
       ".xr-attrs dt {\n",
       "  white-space: nowrap;\n",
       "  overflow: hidden;\n",
       "  text-overflow: ellipsis;\n",
       "  padding-right: 10px;\n",
       "}\n",
       "\n",
       ".xr-var-name:hover,\n",
       ".xr-var-dims:hover,\n",
       ".xr-var-dtype:hover,\n",
       ".xr-attrs dt:hover {\n",
       "  overflow: visible;\n",
       "  width: auto;\n",
       "  z-index: 1;\n",
       "}\n",
       "\n",
       ".xr-var-attrs,\n",
       ".xr-var-data,\n",
       ".xr-index-data {\n",
       "  display: none;\n",
       "  background-color: var(--xr-background-color) !important;\n",
       "  padding-bottom: 5px !important;\n",
       "}\n",
       "\n",
       ".xr-var-attrs-in:checked ~ .xr-var-attrs,\n",
       ".xr-var-data-in:checked ~ .xr-var-data,\n",
       ".xr-index-data-in:checked ~ .xr-index-data {\n",
       "  display: block;\n",
       "}\n",
       "\n",
       ".xr-var-data > table {\n",
       "  float: right;\n",
       "}\n",
       "\n",
       ".xr-var-name span,\n",
       ".xr-var-data,\n",
       ".xr-index-name div,\n",
       ".xr-index-data,\n",
       ".xr-attrs {\n",
       "  padding-left: 25px !important;\n",
       "}\n",
       "\n",
       ".xr-attrs,\n",
       ".xr-var-attrs,\n",
       ".xr-var-data,\n",
       ".xr-index-data {\n",
       "  grid-column: 1 / -1;\n",
       "}\n",
       "\n",
       "dl.xr-attrs {\n",
       "  padding: 0;\n",
       "  margin: 0;\n",
       "  display: grid;\n",
       "  grid-template-columns: 125px auto;\n",
       "}\n",
       "\n",
       ".xr-attrs dt,\n",
       ".xr-attrs dd {\n",
       "  padding: 0;\n",
       "  margin: 0;\n",
       "  float: left;\n",
       "  padding-right: 10px;\n",
       "  width: auto;\n",
       "}\n",
       "\n",
       ".xr-attrs dt {\n",
       "  font-weight: normal;\n",
       "  grid-column: 1;\n",
       "}\n",
       "\n",
       ".xr-attrs dt:hover span {\n",
       "  display: inline-block;\n",
       "  background: var(--xr-background-color);\n",
       "  padding-right: 10px;\n",
       "}\n",
       "\n",
       ".xr-attrs dd {\n",
       "  grid-column: 2;\n",
       "  white-space: pre-wrap;\n",
       "  word-break: break-all;\n",
       "}\n",
       "\n",
       ".xr-icon-database,\n",
       ".xr-icon-file-text2,\n",
       ".xr-no-icon {\n",
       "  display: inline-block;\n",
       "  vertical-align: middle;\n",
       "  width: 1em;\n",
       "  height: 1.5em !important;\n",
       "  stroke-width: 0;\n",
       "  stroke: currentColor;\n",
       "  fill: currentColor;\n",
       "}\n",
       "</style><pre class='xr-text-repr-fallback'>&lt;xarray.DataArray (times: 5, k: 5)&gt;\n",
       "array([[0.25213675, 0.29059829, 0.25641026, 0.29487179, 0.27896996],\n",
       "       [0.34615385, 0.3974359 , 0.31196581, 0.32051282, 0.30042918],\n",
       "       [0.38034188, 0.29487179, 0.26495726, 0.32051282, 0.27038627],\n",
       "       [0.26068376, 0.2991453 , 0.25213675, 0.25641026, 0.27467811],\n",
       "       [0.21794872, 0.23076923, 0.24358974, 0.21367521, 0.29613734]])\n",
       "Dimensions without coordinates: times, k</pre><div class='xr-wrap' style='display:none'><div class='xr-header'><div class='xr-obj-type'>xarray.DataArray</div><div class='xr-array-name'></div><ul class='xr-dim-list'><li><span>times</span>: 5</li><li><span>k</span>: 5</li></ul></div><ul class='xr-sections'><li class='xr-section-item'><div class='xr-array-wrap'><input id='section-81625350-d399-4e0a-a0ec-1e36c8b8cb84' class='xr-array-in' type='checkbox' checked><label for='section-81625350-d399-4e0a-a0ec-1e36c8b8cb84' title='Show/hide data repr'><svg class='icon xr-icon-database'><use xlink:href='#icon-database'></use></svg></label><div class='xr-array-preview xr-preview'><span>0.2521 0.2906 0.2564 0.2949 0.279 ... 0.2308 0.2436 0.2137 0.2961</span></div><div class='xr-array-data'><pre>array([[0.25213675, 0.29059829, 0.25641026, 0.29487179, 0.27896996],\n",
       "       [0.34615385, 0.3974359 , 0.31196581, 0.32051282, 0.30042918],\n",
       "       [0.38034188, 0.29487179, 0.26495726, 0.32051282, 0.27038627],\n",
       "       [0.26068376, 0.2991453 , 0.25213675, 0.25641026, 0.27467811],\n",
       "       [0.21794872, 0.23076923, 0.24358974, 0.21367521, 0.29613734]])</pre></div></div></li><li class='xr-section-item'><input id='section-ccce83c4-9f78-4ede-abd1-25d3710f1b29' class='xr-section-summary-in' type='checkbox' disabled ><label for='section-ccce83c4-9f78-4ede-abd1-25d3710f1b29' class='xr-section-summary'  title='Expand/collapse section'>Coordinates: <span>(0)</span></label><div class='xr-section-inline-details'></div><div class='xr-section-details'><ul class='xr-var-list'></ul></div></li><li class='xr-section-item'><input id='section-86a57530-b125-4e98-bca5-0266edbd41a7' class='xr-section-summary-in' type='checkbox' disabled ><label for='section-86a57530-b125-4e98-bca5-0266edbd41a7' class='xr-section-summary'  title='Expand/collapse section'>Indexes: <span>(0)</span></label><div class='xr-section-inline-details'></div><div class='xr-section-details'><ul class='xr-var-list'></ul></div></li><li class='xr-section-item'><input id='section-5c5b56f9-58b9-4232-8ebf-3e553144d435' class='xr-section-summary-in' type='checkbox' disabled ><label for='section-5c5b56f9-58b9-4232-8ebf-3e553144d435' class='xr-section-summary'  title='Expand/collapse section'>Attributes: <span>(0)</span></label><div class='xr-section-inline-details'></div><div class='xr-section-details'><dl class='xr-attrs'></dl></div></li></ul></div></div>"
      ],
      "text/plain": [
       "<xarray.DataArray (times: 5, k: 5)>\n",
       "array([[0.25213675, 0.29059829, 0.25641026, 0.29487179, 0.27896996],\n",
       "       [0.34615385, 0.3974359 , 0.31196581, 0.32051282, 0.30042918],\n",
       "       [0.38034188, 0.29487179, 0.26495726, 0.32051282, 0.27038627],\n",
       "       [0.26068376, 0.2991453 , 0.25213675, 0.25641026, 0.27467811],\n",
       "       [0.21794872, 0.23076923, 0.24358974, 0.21367521, 0.29613734]])\n",
       "Dimensions without coordinates: times, k"
      ]
     },
     "execution_count": 42,
     "metadata": {},
     "output_type": "execute_result"
    }
   ],
   "source": []
  },
  {
   "cell_type": "code",
   "execution_count": 41,
   "id": "a6b435bb-c397-4cbf-a05e-87ac5a5cc0a0",
   "metadata": {},
   "outputs": [
    {
     "data": {
      "text/plain": [
       "array([0.28632479, 0.23504274, 0.21367521, 0.21794872, 0.26609442])"
      ]
     },
     "execution_count": 41,
     "metadata": {},
     "output_type": "execute_result"
    }
   ],
   "source": [
    "compute_cv_scores(time, \"high_beta\")"
   ]
  },
  {
   "cell_type": "code",
   "execution_count": null,
   "id": "4e342240-9963-4cc1-83b8-f58dbcc81aba",
   "metadata": {},
   "outputs": [],
   "source": []
  }
 ],
 "metadata": {
  "kernelspec": {
   "display_name": "Python 3",
   "language": "python",
   "name": "python3"
  },
  "language_info": {
   "codemirror_mode": {
    "name": "ipython",
    "version": 3
   },
   "file_extension": ".py",
   "mimetype": "text/x-python",
   "name": "python",
   "nbconvert_exporter": "python",
   "pygments_lexer": "ipython3",
   "version": "3.8.8"
  }
 },
 "nbformat": 4,
 "nbformat_minor": 5
}
