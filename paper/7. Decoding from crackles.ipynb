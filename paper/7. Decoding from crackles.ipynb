{
 "cells": [
  {
   "cell_type": "code",
   "execution_count": 1,
   "id": "9a71efbd-df78-43e5-85d7-ece84c132bd7",
   "metadata": {},
   "outputs": [],
   "source": [
    "import sys\n",
    "\n",
    "sys.path.insert(1, \"/home/vinicius/storage1/projects/GrayData-Analysis\")"
   ]
  },
  {
   "cell_type": "code",
   "execution_count": 2,
   "id": "b2149b2f-8a4c-4878-811d-57978357a0cb",
   "metadata": {},
   "outputs": [],
   "source": [
    "import argparse\n",
    "import os\n",
    "\n",
    "import matplotlib.pyplot as plt\n",
    "import numpy as np\n",
    "import pandas as pd\n",
    "import xarray as xr\n",
    "from frites.dataset import DatasetEphy\n",
    "from frites.estimator import GCMIEstimator\n",
    "from frites.workflow import WfMi\n",
    "from tqdm import tqdm\n",
    "\n",
    "from config import get_dates, return_delay_split\n",
    "from GDa.util import average_stages"
   ]
  },
  {
   "cell_type": "code",
   "execution_count": 3,
   "id": "fa1c14ca-4c39-4ab6-9c2e-24f26b2c41c5",
   "metadata": {},
   "outputs": [],
   "source": [
    "s_id = \"141014\"\n",
    "tt = 1\n",
    "br = 1\n",
    "q = 0.9\n",
    "at = \"cue\"\n",
    "monkey = \"lucy\"\n",
    "\n",
    "stage_labels = [\"P\", \"S\", \"D1\", \"D2\", \"Dm\"]\n",
    "\n",
    "sessions = get_dates(monkey)"
   ]
  },
  {
   "cell_type": "code",
   "execution_count": 4,
   "id": "ec72a7de-0387-43bb-af43-03afe2ece578",
   "metadata": {},
   "outputs": [],
   "source": [
    "_ROOT = os.path.expanduser(\"~/funcog/gda\")"
   ]
  },
  {
   "cell_type": "code",
   "execution_count": 5,
   "id": "38c4cb4d-01b1-4233-9d3e-ce06def9bab2",
   "metadata": {},
   "outputs": [],
   "source": [
    "# Load power\n",
    "_FILE_NAME = f\"power_tt_{tt}_br_{br}_at_{at}_decim_5.nc\"\n",
    "path_pow = os.path.join(_ROOT, f\"Results/{monkey}/{s_id}/session01\", _FILE_NAME)\n",
    "power = xr.load_dataarray(path_pow)\n",
    "attrs = power.attrs\n",
    "power = power.sel(times=slice(-0.5, 2.0))"
   ]
  },
  {
   "cell_type": "code",
   "execution_count": 6,
   "id": "46b543bf-60ef-409a-9fe4-dd36778f04fe",
   "metadata": {},
   "outputs": [],
   "source": [
    "t_match_on = (attrs[\"t_match_on\"] - attrs[\"t_cue_on\"]) / attrs[\"fsample\"]\n",
    "\n",
    "out = []\n",
    "\n",
    "for i in range(power.sizes[\"trials\"]):\n",
    "    stages = [\n",
    "        [-0.5, -0.2],\n",
    "        [0, 0.4],\n",
    "        [0.5, 0.9],\n",
    "        [0.9, 1.3],\n",
    "        [t_match_on[i] - 0.4, t_match_on[i]],\n",
    "    ]\n",
    "    temp = []\n",
    "    for t0, t1 in stages:\n",
    "        temp += [power.sel(times=slice(t0, t1)).isel(trials=i).mean(\"times\")]\n",
    "    out += [xr.concat(temp, \"times\")]\n",
    "out = xr.concat(out, \"trials\")\n",
    "out = out.transpose(\"trials\", \"roi\", \"freqs\", \"times\")"
   ]
  },
  {
   "cell_type": "code",
   "execution_count": 7,
   "id": "5a8fe0e3-ac78-4c15-8d48-5a7d2bf5cb60",
   "metadata": {},
   "outputs": [],
   "source": [
    "from sklearn.ensemble import RandomForestClassifier\n",
    "from sklearn.metrics import accuracy_score\n",
    "from sklearn.model_selection import GridSearchCV, cross_val_score, train_test_split\n",
    "from sklearn.preprocessing import LabelEncoder, OneHotEncoder"
   ]
  },
  {
   "cell_type": "code",
   "execution_count": 8,
   "id": "11182d70-ae90-46fc-8021-530ad3e5a069",
   "metadata": {
    "tags": []
   },
   "outputs": [],
   "source": [
    "bands = {\n",
    "    \"theta\": [0, 3],\n",
    "    \"alpha\": [6, 14],\n",
    "    \"beta\": [14, 26],\n",
    "    \"high_beta\": [26, 43],\n",
    "    \"gamma\": [43, 80],\n",
    "}\n",
    "\n",
    "\n",
    "def compute_cv_scores(x_train, y_train):\n",
    "\n",
    "    max_depths = np.arange(1, 21, 1, dtype=int)\n",
    "    n_estimators = [100, 200, 500]\n",
    "    max_features = [ x_train.shape[1]]\n",
    "\n",
    "    parameters = {\n",
    "        \"n_estimators\": n_estimators,\n",
    "        \"max_features\": max_features,\n",
    "        \"ccp_alpha\": [0, 0.001, 0.01, 0.1],\n",
    "    }\n",
    "\n",
    "    est = RandomForestClassifier(n_jobs=20, bootstrap=True)\n",
    "\n",
    "    clf = GridSearchCV(\n",
    "        estimator=est,\n",
    "        param_grid=parameters,\n",
    "        cv=5,\n",
    "        scoring=\"accuracy\",\n",
    "        n_jobs=20,\n",
    "        return_train_score=True,\n",
    "        verbose=0,\n",
    "    )\n",
    "\n",
    "    clf.fit(x_train, y_train)\n",
    "\n",
    "    est = RandomForestClassifier(\n",
    "        **clf.best_params_,\n",
    "        n_jobs=-1,\n",
    "    )\n",
    "\n",
    "    return est\n",
    "\n",
    "\n",
    "def prepare_data(y, freq, time):\n",
    "\n",
    "    X = np.stack(\n",
    "        [\n",
    "            degree.sel(freqs=freq, roi=\"V1\")\n",
    "            .isel(times=time)\n",
    "            .groupby(\"roi\")\n",
    "            .mean(\"roi\"),\n",
    "            power.sel(freqs=freq, roi=\"V1\").isel(times=time).groupby(\"roi\").mean(\"roi\"),\n",
    "        ],\n",
    "        axis=1,\n",
    "    ).squeeze()\n",
    "\n",
    "    X = pd.DataFrame(X, columns=[\"degree\", \"power\"])\n",
    "\n",
    "    x_train, x_test, y_train, y_test = train_test_split(\n",
    "        X, y, test_size=0.33, shuffle=True\n",
    "    )\n",
    "\n",
    "    return x_train, x_test, y_train, y_test"
   ]
  },
  {
   "cell_type": "code",
   "execution_count": 9,
   "id": "9c7ab308-671d-4c88-a8ec-f353839ac4cc",
   "metadata": {},
   "outputs": [
    {
     "name": "stderr",
     "output_type": "stream",
     "text": [
      "100%|███████████████████████████████████████████████████████████| 5/5 [00:17<00:00,  3.60s/it]\n"
     ]
    }
   ],
   "source": [
    "decoders = []\n",
    "\n",
    "n_channels = power.sizes[\"roi\"]\n",
    "Q = int(0.1 * n_channels)\n",
    "\n",
    "for time in tqdm(range(out.sizes[\"times\"])):\n",
    "    idx = np.argsort( out.sel(freqs=27).sum((\"trials\", \"times\")) )[-Q:]\n",
    "    data = out.sel(freqs=27, times=time).isel(roi=idx.data)\n",
    "    x_train, x_test, y_train, y_test = train_test_split(data, attrs[\"stim\"], test_size=0.2, shuffle=True)\n",
    "    #x_train, x_test, y_train, y_test = prepare_data(attrs[\"stim\"], 27, time)\n",
    "    decoders += [compute_cv_scores(x_train, y_train)]"
   ]
  },
  {
   "cell_type": "code",
   "execution_count": 10,
   "id": "02ebb419-76ea-4db7-8c2d-56bc9559fda8",
   "metadata": {},
   "outputs": [
    {
     "name": "stderr",
     "output_type": "stream",
     "text": [
      "100%|███████████████████████████████████████████████████████████| 5/5 [00:02<00:00,  2.38it/s]\n"
     ]
    }
   ],
   "source": [
    "cvs = [\n",
    "    cross_val_score(decoders[t], x_test, y_test, n_jobs=20, cv=5, verbose=0)\n",
    "    for t in tqdm(range(out.sizes[\"times\"]))\n",
    "]"
   ]
  },
  {
   "cell_type": "code",
   "execution_count": 11,
   "id": "b777d5b9-2f54-4041-a032-c96fe960cc9a",
   "metadata": {},
   "outputs": [
    {
     "name": "stderr",
     "output_type": "stream",
     "text": [
      "100%|███████████████████████████████████████████████████████| 100/100 [03:24<00:00,  2.04s/it]\n"
     ]
    }
   ],
   "source": [
    "cvs_surr = []\n",
    "y_test_sh = y_test.copy()\n",
    "for i in tqdm(range(100)):\n",
    "    np.random.shuffle(y_test_sh)\n",
    "    cvs_surr += [\n",
    "        [\n",
    "            cross_val_score(decoders[t], x_test, y_test_sh, n_jobs=20, cv=5, verbose=0)\n",
    "            for t in range(out.sizes[\"times\"])\n",
    "        ]\n",
    "    ]"
   ]
  },
  {
   "cell_type": "code",
   "execution_count": 12,
   "id": "ebf30a83-5d6f-475a-8ead-3bab5a0b38b9",
   "metadata": {},
   "outputs": [],
   "source": [
    "cvs = xr.DataArray(np.stack(cvs, 0), dims=(\"times\", \"k\"))"
   ]
  },
  {
   "cell_type": "code",
   "execution_count": 13,
   "id": "0316cec1-fcee-4c9a-92f7-918b54ae5a38",
   "metadata": {},
   "outputs": [],
   "source": [
    "cvs_surr = xr.DataArray(np.stack(cvs_surr, 0), dims=(\"boot\", \"times\", \"k\"))"
   ]
  },
  {
   "cell_type": "code",
   "execution_count": 14,
   "id": "82201a7b-8895-4535-b366-3946d389d3c4",
   "metadata": {},
   "outputs": [],
   "source": [
    "scores = (\n",
    "    xr.concat((cvs, cvs_surr.median(\"boot\")), \"surr\")\n",
    "    .assign_coords({\"surr\": [\"original\", \"shuffle\"]})\n",
    "    .to_dataframe(\"score\")\n",
    "    .reset_index()\n",
    ")"
   ]
  },
  {
   "cell_type": "code",
   "execution_count": 15,
   "id": "5084b000-1cd5-4116-a6fe-568b428c515a",
   "metadata": {},
   "outputs": [
    {
     "data": {
      "text/plain": [
       "<matplotlib.legend.Legend at 0x7f991bb84d00>"
      ]
     },
     "execution_count": 15,
     "metadata": {},
     "output_type": "execute_result"
    },
    {
     "data": {
      "image/png": "[encoded data removed]",
      "text/plain": [
       "<Figure size 640x480 with 1 Axes>"
      ]
     },
     "metadata": {},
     "output_type": "display_data"
    }
   ],
   "source": [
    "import seaborn as sns\n",
    "\n",
    "sns.boxplot(\n",
    "    data=scores,\n",
    "    x=\"times\",\n",
    "    y=\"score\",\n",
    "    hue=\"surr\",\n",
    "    palette=[\"lightgreen\", \"lightgray\"],\n",
    "    showfliers=False,\n",
    ")\n",
    "\n",
    "\n",
    "plt.hlines(1 / 5, -1, 5, \"r\", ls=\"--\")\n",
    "\n",
    "plt.legend(frameon=False)"
   ]
  },
  {
   "cell_type": "code",
   "execution_count": 16,
   "id": "973796f0-9942-42aa-8bb4-a59feb360ab8",
   "metadata": {},
   "outputs": [
    {
     "data": {
      "text/plain": [
       "array([0.21428571, 0.21428571, 0.21428571, 0.21428571, 0.21428571])"
      ]
     },
     "execution_count": 16,
     "metadata": {},
     "output_type": "execute_result"
    }
   ],
   "source": [
    "np.quantile(cvs_surr.median(\"boot\"), 0.05, 1)"
   ]
  },
  {
   "cell_type": "code",
   "execution_count": 17,
   "id": "db13cb42-6b03-443c-a49a-d9d6c5d78dac",
   "metadata": {},
   "outputs": [
    {
     "name": "stderr",
     "output_type": "stream",
     "text": [
      "  0%|                                                                   | 0/5 [00:00<?, ?it/s]\n"
     ]
    },
    {
     "ename": "AttributeError",
     "evalue": "'int' object has no attribute 'shape'",
     "output_type": "error",
     "traceback": [
      "\u001b[0;31m---------------------------------------------------------------------------\u001b[0m",
      "\u001b[0;31mAttributeError\u001b[0m                            Traceback (most recent call last)",
      "Cell \u001b[0;32mIn[17], line 6\u001b[0m\n\u001b[1;32m      3\u001b[0m cv_scores \u001b[38;5;241m=\u001b[39m []\n\u001b[1;32m      5\u001b[0m \u001b[38;5;28;01mfor\u001b[39;00m time \u001b[38;5;129;01min\u001b[39;00m tqdm(\u001b[38;5;28mrange\u001b[39m(\u001b[38;5;241m5\u001b[39m)):\n\u001b[0;32m----> 6\u001b[0m     cv_scores \u001b[38;5;241m+\u001b[39m\u001b[38;5;241m=\u001b[39m [\u001b[43mcompute_cv_scores\u001b[49m\u001b[43m(\u001b[49m\u001b[43mtime\u001b[49m\u001b[43m,\u001b[49m\u001b[43m \u001b[49m\u001b[38;5;124;43m\"\u001b[39;49m\u001b[38;5;124;43mhigh_beta\u001b[39;49m\u001b[38;5;124;43m\"\u001b[39;49m\u001b[43m)\u001b[49m]\n",
      "Cell \u001b[0;32mIn[8], line 14\u001b[0m, in \u001b[0;36mcompute_cv_scores\u001b[0;34m(x_train, y_train)\u001b[0m\n\u001b[1;32m     12\u001b[0m max_depths \u001b[38;5;241m=\u001b[39m np\u001b[38;5;241m.\u001b[39marange(\u001b[38;5;241m1\u001b[39m, \u001b[38;5;241m21\u001b[39m, \u001b[38;5;241m1\u001b[39m, dtype\u001b[38;5;241m=\u001b[39m\u001b[38;5;28mint\u001b[39m)\n\u001b[1;32m     13\u001b[0m n_estimators \u001b[38;5;241m=\u001b[39m [\u001b[38;5;241m100\u001b[39m, \u001b[38;5;241m200\u001b[39m, \u001b[38;5;241m500\u001b[39m]\n\u001b[0;32m---> 14\u001b[0m max_features \u001b[38;5;241m=\u001b[39m [ \u001b[43mx_train\u001b[49m\u001b[38;5;241;43m.\u001b[39;49m\u001b[43mshape\u001b[49m[\u001b[38;5;241m1\u001b[39m]]\n\u001b[1;32m     16\u001b[0m parameters \u001b[38;5;241m=\u001b[39m {\n\u001b[1;32m     17\u001b[0m     \u001b[38;5;124m\"\u001b[39m\u001b[38;5;124mn_estimators\u001b[39m\u001b[38;5;124m\"\u001b[39m: n_estimators,\n\u001b[1;32m     18\u001b[0m     \u001b[38;5;124m\"\u001b[39m\u001b[38;5;124mmax_features\u001b[39m\u001b[38;5;124m\"\u001b[39m: max_features,\n\u001b[1;32m     19\u001b[0m     \u001b[38;5;124m\"\u001b[39m\u001b[38;5;124mccp_alpha\u001b[39m\u001b[38;5;124m\"\u001b[39m: [\u001b[38;5;241m0\u001b[39m, \u001b[38;5;241m0.001\u001b[39m, \u001b[38;5;241m0.01\u001b[39m, \u001b[38;5;241m0.1\u001b[39m],\n\u001b[1;32m     20\u001b[0m }\n\u001b[1;32m     22\u001b[0m est \u001b[38;5;241m=\u001b[39m RandomForestClassifier(n_jobs\u001b[38;5;241m=\u001b[39m\u001b[38;5;241m20\u001b[39m, bootstrap\u001b[38;5;241m=\u001b[39m\u001b[38;5;28;01mTrue\u001b[39;00m)\n",
      "\u001b[0;31mAttributeError\u001b[0m: 'int' object has no attribute 'shape'"
     ]
    }
   ],
   "source": [
    "times = [[-0.6, -0.4], [0, 0.4], [0.5, 0.9], [0.9, 1.3], [1.1, 1.5]]\n",
    "\n",
    "cv_scores = []\n",
    "\n",
    "for time in tqdm(range(5)):\n",
    "    cv_scores += [compute_cv_scores(time, \"high_beta\")]"
   ]
  },
  {
   "cell_type": "code",
   "execution_count": null,
   "id": "a03d795a-ade1-46db-b41e-fd016f6abd4c",
   "metadata": {},
   "outputs": [],
   "source": [
    "cv_scores_surr = []\n",
    "\n",
    "for time in tqdm(range(5)):\n",
    "    cv_scores_surr += [compute_cv_scores(time, \"high_beta\", shuffle=True)]"
   ]
  },
  {
   "cell_type": "code",
   "execution_count": null,
   "id": "b8ff944a-6441-4231-8972-039be40714a5",
   "metadata": {},
   "outputs": [],
   "source": [
    "ax = plt.subplot(111)\n",
    "plt.plot(range(5), np.median(cv_scores, -1), \"s-\")\n",
    "\n",
    "plt.plot(range(5), np.median(cv_scores_surr, -1), \"lightgray\")\n",
    "plt.fill_between(\n",
    "    range(5),\n",
    "    np.quantile(cv_scores_surr, 0.05, -1),\n",
    "    np.quantile(cv_scores_surr, 0.95, -1),\n",
    "    color=\"lightgray\",\n",
    "    alpha=0.3,\n",
    ")\n",
    "[ax.spines[key].set_visible(False) for key in [\"top\", \"right\"]]\n",
    "plt.ylabel(\"Decoding accuracy\")\n",
    "plt.xticks(range(5), [\"P\", \"S\", \"D1\", \"D2\", \"M\"]);"
   ]
  },
  {
   "cell_type": "code",
   "execution_count": null,
   "id": "92715d9a-7fbb-41d5-9260-9c40ae8c8022",
   "metadata": {},
   "outputs": [],
   "source": [
    "cv = []\n",
    "cv_surr = []\n",
    "for session in sessions[:55]:\n",
    "    cv += [\n",
    "        xr.load_dataarray(\n",
    "            f\"~/funcog/gda/Results/lucy/decoding/crackles/cv_crackle_high_beta_{session}.nc\"\n",
    "        )\n",
    "    ]\n",
    "    cv_surr += [\n",
    "        xr.load_dataarray(\n",
    "            f\"~/funcog/gda/Results/lucy/decoding/crackles/cv_surr_crackle_high_beta_{session}.nc\"\n",
    "        )\n",
    "    ]"
   ]
  },
  {
   "cell_type": "code",
   "execution_count": null,
   "id": "7fa35b0a-1a19-4e1a-b931-a52ee3885cd8",
   "metadata": {},
   "outputs": [],
   "source": [
    "from frites.stats import confidence_interval\n",
    "\n",
    "cv = confidence_interval(xr.concat(cv, \"k\"), axis=1).squeeze()\n",
    "cv_surr = confidence_interval(xr.concat(cv_surr, \"k\"), axis=1).squeeze()"
   ]
  },
  {
   "cell_type": "code",
   "execution_count": null,
   "id": "7cf8da21-714a-4abc-9fbb-6736315de452",
   "metadata": {},
   "outputs": [],
   "source": [
    "cv.median(\"bound\").plot.step(x=\"times\")\n",
    "plt.fill_between(\n",
    "    cv.times, cv.sel(bound=\"low\"), cv.sel(bound=\"high\"), alpha=0.4, step=\"pre\"\n",
    ")\n",
    "cv_surr.median(\"bound\").plot.step(x=\"times\", color=\"lightgray\")\n",
    "plt.fill_between(\n",
    "    cv_surr.times,\n",
    "    cv_surr.sel(bound=\"low\"),\n",
    "    cv_surr.sel(bound=\"high\"),\n",
    "    color=\"lightgray\",\n",
    "    alpha=0.4,\n",
    "    step=\"pre\",\n",
    ")\n",
    "plt.hlines(1 / 5, 0, 5)\n",
    "plt.xticks(range(5), stage_labels)\n",
    "plt.xlabel(\"\")"
   ]
  },
  {
   "cell_type": "code",
   "execution_count": null,
   "id": "3436b875-faab-4db4-9fb6-8a93370efa01",
   "metadata": {},
   "outputs": [],
   "source": [
    "f_0, f_1 = bands[band][0], bands[band][1]\n",
    "\n",
    "X = out.sel(freqs=slice(f_0, f_1), times=2).stack(z=(\"freqs\", \"trials\"))"
   ]
  },
  {
   "cell_type": "code",
   "execution_count": null,
   "id": "7a346896-c1e4-4fbd-9734-9e4a2323ed78",
   "metadata": {},
   "outputs": [],
   "source": [
    "unique_rois, n_each = np.unique(X.roi.data, return_counts=True)"
   ]
  },
  {
   "cell_type": "code",
   "execution_count": null,
   "id": "83c14d47-5d1c-4ebe-a8c3-de51c56b5471",
   "metadata": {},
   "outputs": [],
   "source": []
  },
  {
   "cell_type": "code",
   "execution_count": null,
   "id": "a6b435bb-c397-4cbf-a05e-87ac5a5cc0a0",
   "metadata": {},
   "outputs": [],
   "source": [
    "compute_cv_scores(time, \"high_beta\")"
   ]
  },
  {
   "cell_type": "code",
   "execution_count": null,
   "id": "4e342240-9963-4cc1-83b8-f58dbcc81aba",
   "metadata": {},
   "outputs": [],
   "source": []
  }
 ],
 "metadata": {
  "kernelspec": {
   "display_name": "Python 3 (ipykernel)",
   "language": "python",
   "name": "python3"
  },
  "language_info": {
   "codemirror_mode": {
    "name": "ipython",
    "version": 3
   },
   "file_extension": ".py",
   "mimetype": "text/x-python",
   "name": "python",
   "nbconvert_exporter": "python",
   "pygments_lexer": "ipython3",
   "version": "3.9.16"
  }
 },
 "nbformat": 4,
 "nbformat_minor": 5
}
