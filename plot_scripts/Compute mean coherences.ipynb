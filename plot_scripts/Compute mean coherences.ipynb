{
 "cells": [
  {
   "cell_type": "markdown",
   "id": "14531776-d11b-4874-848e-b9d1eeefc6c6",
   "metadata": {},
   "source": [
    "### Compute mean coherences and convert to DataFrame"
   ]
  },
  {
   "cell_type": "code",
   "execution_count": 1,
   "id": "97100ed2-499b-4f12-b9e1-ca67538a99ca",
   "metadata": {},
   "outputs": [],
   "source": [
    "import sys\n",
    "\n",
    "sys.path.insert(1, \"/home/vinicius/storage1/projects/GrayData-Analysis\")"
   ]
  },
  {
   "cell_type": "code",
   "execution_count": 2,
   "id": "9f46ca31-0391-4984-a0a3-015bf1f4ff86",
   "metadata": {},
   "outputs": [
    {
     "ename": "ModuleNotFoundError",
     "evalue": "No module named 'frites'",
     "output_type": "error",
     "traceback": [
      "\u001b[0;31m---------------------------------------------------------------------------\u001b[0m",
      "\u001b[0;31mModuleNotFoundError\u001b[0m                       Traceback (most recent call last)",
      "Input \u001b[0;32mIn [2]\u001b[0m, in \u001b[0;36m<cell line: 7>\u001b[0;34m()\u001b[0m\n\u001b[1;32m      5\u001b[0m \u001b[38;5;28;01mimport\u001b[39;00m \u001b[38;5;21;01mxarray\u001b[39;00m \u001b[38;5;28;01mas\u001b[39;00m \u001b[38;5;21;01mxr\u001b[39;00m\n\u001b[1;32m      6\u001b[0m \u001b[38;5;28;01mfrom\u001b[39;00m \u001b[38;5;21;01mGDa\u001b[39;00m\u001b[38;5;21;01m.\u001b[39;00m\u001b[38;5;21;01mutil\u001b[39;00m \u001b[38;5;28;01mimport\u001b[39;00m average_stages\n\u001b[0;32m----> 7\u001b[0m \u001b[38;5;28;01mfrom\u001b[39;00m \u001b[38;5;21;01mGDa\u001b[39;00m\u001b[38;5;21;01m.\u001b[39;00m\u001b[38;5;21;01mtemporal_network\u001b[39;00m \u001b[38;5;28;01mimport\u001b[39;00m temporal_network\n",
      "File \u001b[0;32m~/storage1/projects/GrayData-Analysis/GDa/temporal_network.py:5\u001b[0m, in \u001b[0;36m<module>\u001b[0;34m\u001b[0m\n\u001b[1;32m      3\u001b[0m \u001b[38;5;28;01mimport\u001b[39;00m \u001b[38;5;21;01mxarray\u001b[39;00m \u001b[38;5;28;01mas\u001b[39;00m \u001b[38;5;21;01mxr\u001b[39;00m\n\u001b[1;32m      4\u001b[0m \u001b[38;5;28;01mimport\u001b[39;00m \u001b[38;5;21;01mscipy\u001b[39;00m\n\u001b[0;32m----> 5\u001b[0m \u001b[38;5;28;01mimport\u001b[39;00m \u001b[38;5;21;01mGDa\u001b[39;00m\u001b[38;5;21;01m.\u001b[39;00m\u001b[38;5;21;01msession\u001b[39;00m\n\u001b[1;32m      7\u001b[0m \u001b[38;5;28;01mfrom\u001b[39;00m \u001b[38;5;21;01mGDa\u001b[39;00m\u001b[38;5;21;01m.\u001b[39;00m\u001b[38;5;21;01mutil\u001b[39;00m \u001b[38;5;28;01mimport\u001b[39;00m create_stages_time_grid, filter_trial_indexes\n\u001b[1;32m      8\u001b[0m \u001b[38;5;28;01mfrom\u001b[39;00m \u001b[38;5;21;01mGDa\u001b[39;00m\u001b[38;5;21;01m.\u001b[39;00m\u001b[38;5;21;01mnet\u001b[39;00m\u001b[38;5;21;01m.\u001b[39;00m\u001b[38;5;21;01mutil\u001b[39;00m \u001b[38;5;28;01mimport\u001b[39;00m compute_quantile_thresholds, convert_to_adjacency\n",
      "File \u001b[0;32m~/storage1/projects/GrayData-Analysis/GDa/session.py:12\u001b[0m, in \u001b[0;36m<module>\u001b[0;34m\u001b[0m\n\u001b[1;32m      9\u001b[0m \u001b[38;5;28;01mfrom\u001b[39;00m \u001b[38;5;21;01m.\u001b[39;00m\u001b[38;5;21;01mio\u001b[39;00m \u001b[38;5;28;01mimport\u001b[39;00m set_paths, read_mat\n\u001b[1;32m     10\u001b[0m \u001b[38;5;28;01mfrom\u001b[39;00m \u001b[38;5;21;01mtqdm\u001b[39;00m \u001b[38;5;28;01mimport\u001b[39;00m tqdm\n\u001b[0;32m---> 12\u001b[0m \u001b[38;5;28;01mfrom\u001b[39;00m \u001b[38;5;21;01mfrites\u001b[39;00m\u001b[38;5;21;01m.\u001b[39;00m\u001b[38;5;21;01mdataset\u001b[39;00m \u001b[38;5;28;01mimport\u001b[39;00m DatasetEphy\n\u001b[1;32m     13\u001b[0m \u001b[38;5;28;01mfrom\u001b[39;00m \u001b[38;5;21;01mGDa\u001b[39;00m\u001b[38;5;21;01m.\u001b[39;00m\u001b[38;5;21;01mutil\u001b[39;00m \u001b[38;5;28;01mimport\u001b[39;00m filter_trial_indexes\n\u001b[1;32m     16\u001b[0m \u001b[38;5;28;01mclass\u001b[39;00m \u001b[38;5;21;01msession_info\u001b[39;00m():\n",
      "\u001b[0;31mModuleNotFoundError\u001b[0m: No module named 'frites'"
     ]
    }
   ],
   "source": [
    "import os\n",
    "\n",
    "from tqdm import tqdm\n",
    "from config import sessions\n",
    "import xarray as xr\n",
    "from GDa.util import average_stages\n",
    "from GDa.temporal_network import temporal_network"
   ]
  },
  {
   "cell_type": "markdown",
   "id": "4cb7c193-f320-415f-b71f-4c3a54a8de3d",
   "metadata": {},
   "source": [
    "#### Iterate over all sessions and concatenate coherece"
   ]
  },
  {
   "cell_type": "code",
   "execution_count": null,
   "id": "54d470e8-cafd-464a-bc6d-f807bbbe559d",
   "metadata": {},
   "outputs": [
    {
     "name": "stderr",
     "output_type": "stream",
     "text": [
      " 61%|███████████████████████████████▎                   | 38/62 [2:09:41<1:24:56, 212.34s/it]"
     ]
    }
   ],
   "source": [
    "coh_file = f'coh_at_cue.nc'\n",
    "coh_sig_file = f'thr_coh_at_cue_surr.nc'\n",
    "\n",
    "coh = []\n",
    "for s_id in tqdm(sessions):\n",
    "    net = temporal_network(coh_file=coh_file,\n",
    "                           coh_sig_file=coh_sig_file, wt=None,\n",
    "                           date=s_id, trial_type=[1],\n",
    "                           behavioral_response=[1])\n",
    "    # Average if needed\n",
    "    out = average_stages(net.super_tensor, 1)\n",
    "    # To save memory\n",
    "    del net\n",
    "    # Convert to format required by the MI workflow\n",
    "    coh += [out.isel(roi=[r])\n",
    "            for r in range(len(out['roi']))]"
   ]
  },
  {
   "cell_type": "code",
   "execution_count": null,
   "id": "54460418-e5ff-411a-acef-e2f77aa92a43",
   "metadata": {},
   "outputs": [],
   "source": [
    "# Concatenate channels\n",
    "data = xr.concat(coh, dim=\"roi\")\n",
    "# Get unique rois\n",
    "urois, counts = np.unique(data.roi.data, return_counts=True)\n",
    "# Get unique rois that has at leats 10 channels\n",
    "urois = urois[counts >= 10]\n",
    "# Average channels withn the same roi\n",
    "data = data.groupby(\"roi\").mean(\"roi\", skipna=True)\n",
    "data = data.sel(roi=urois)"
   ]
  },
  {
   "cell_type": "code",
   "execution_count": null,
   "id": "882b3539-d4d6-4187-9219-c2324c9d4d16",
   "metadata": {},
   "outputs": [],
   "source": []
  }
 ],
 "metadata": {
  "kernelspec": {
   "display_name": "Python 3",
   "language": "python",
   "name": "python3"
  },
  "language_info": {
   "codemirror_mode": {
    "name": "ipython",
    "version": 3
   },
   "file_extension": ".py",
   "mimetype": "text/x-python",
   "name": "python",
   "nbconvert_exporter": "python",
   "pygments_lexer": "ipython3",
   "version": "3.8.8"
  }
 },
 "nbformat": 4,
 "nbformat_minor": 5
}
