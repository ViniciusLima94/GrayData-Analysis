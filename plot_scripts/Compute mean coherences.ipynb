{
 "cells": [
  {
   "cell_type": "markdown",
   "id": "14531776-d11b-4874-848e-b9d1eeefc6c6",
   "metadata": {},
   "source": [
    "### Compute mean coherences and convert to DataFrame"
   ]
  },
  {
   "cell_type": "code",
   "execution_count": 1,
   "id": "97100ed2-499b-4f12-b9e1-ca67538a99ca",
   "metadata": {},
   "outputs": [],
   "source": [
    "import sys\n",
    "\n",
    "sys.path.insert(1, \"/home/vinicius/storage1/projects/GrayData-Analysis\")"
   ]
  },
  {
   "cell_type": "code",
   "execution_count": 5,
   "id": "9f46ca31-0391-4984-a0a3-015bf1f4ff86",
   "metadata": {},
   "outputs": [],
   "source": [
    "import os\n",
    "\n",
    "from tqdm import tqdm\n",
    "from frites.dataset import DatasetEphy\n",
    "from frites.estimator import GCMIEstimator\n",
    "from frites.workflow import WfMi\n",
    "from config import sessions\n",
    "import xarray as xr\n",
    "from GDa.util import average_stages\n",
    "from GDa.temporal_network import temporal_network"
   ]
  },
  {
   "cell_type": "markdown",
   "id": "4cb7c193-f320-415f-b71f-4c3a54a8de3d",
   "metadata": {},
   "source": [
    "#### Iterate over all sessions and concatenate coherece"
   ]
  },
  {
   "cell_type": "code",
   "execution_count": 3,
   "id": "54d470e8-cafd-464a-bc6d-f807bbbe559d",
   "metadata": {},
   "outputs": [
    {
     "name": "stderr",
     "output_type": "stream",
     "text": [
      "100%|████████████████████████████████████████| 62/62 [3:20:13<00:00, 193.77s/it]\n"
     ]
    }
   ],
   "source": [
    "coh_file = f'coh_k_0.3_multitaper_at_cue.nc'\n",
    "coh_sig_file = f'coh_k_0.3_multitaper_at_cue_surr.nc'\n",
    "\n",
    "coh = []\n",
    "for s_id in tqdm(sessions):\n",
    "    net = temporal_network(coh_file=coh_file,\n",
    "                           coh_sig_file=coh_sig_file, wt=None,\n",
    "                           date=s_id, trial_type=[1],\n",
    "                           behavioral_response=[1])\n",
    "    # Average if needed\n",
    "    out = average_stages(net.super_tensor, 1)\n",
    "    # To save memory\n",
    "    del net\n",
    "    # Convert to format required by the MI workflow\n",
    "    coh += [out.isel(roi=[r])\n",
    "            for r in range(len(out['roi']))]"
   ]
  },
  {
   "cell_type": "code",
   "execution_count": null,
   "id": "54460418-e5ff-411a-acef-e2f77aa92a43",
   "metadata": {},
   "outputs": [],
   "source": [
    "# Concatenate channels\n",
    "data = xr.concat(coh, dim=\"roi\")\n",
    "# Get unique rois\n",
    "urois, counts = np.unique(data.roi.data, return_counts=True)\n",
    "# Get unique rois that has at leats 10 channels\n",
    "urois = urois[counts >= 10]\n",
    "# Average channels withn the same roi\n",
    "data = data.groupby(\"roi\").mean(\"roi\", skipna=True)\n",
    "data = data.sel(roi=urois)"
   ]
  },
  {
   "cell_type": "code",
   "execution_count": null,
   "id": "882b3539-d4d6-4187-9219-c2324c9d4d16",
   "metadata": {},
   "outputs": [],
   "source": []
  }
 ],
 "metadata": {
  "kernelspec": {
   "display_name": "Python 3 (ipykernel)",
   "language": "python",
   "name": "python3"
  },
  "language_info": {
   "codemirror_mode": {
    "name": "ipython",
    "version": 3
   },
   "file_extension": ".py",
   "mimetype": "text/x-python",
   "name": "python",
   "nbconvert_exporter": "python",
   "pygments_lexer": "ipython3",
   "version": "3.8.8"
  }
 },
 "nbformat": 4,
 "nbformat_minor": 5
}
