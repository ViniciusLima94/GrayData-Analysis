{
 "cells": [
  {
   "cell_type": "markdown",
   "id": "edf08c09-1674-4df7-827c-87597f0fc67d",
   "metadata": {},
   "source": [
    "### Plots flatmaps with distinct features"
   ]
  },
  {
   "cell_type": "code",
   "execution_count": 1,
   "id": "02de1388-8d73-43f1-b1bb-96395627f380",
   "metadata": {},
   "outputs": [],
   "source": [
    "import sys\n",
    "\n",
    "sys.path.insert(1, \"/home/vinicius/storage1/projects/GrayData-Analysis\")"
   ]
  },
  {
   "cell_type": "code",
   "execution_count": 2,
   "id": "2cf83ba7-3503-4d90-a332-69295050d07e",
   "metadata": {},
   "outputs": [],
   "source": [
    "import argparse\n",
    "import os\n",
    "\n",
    "import matplotlib.pyplot as plt\n",
    "import numpy as np\n",
    "import pandas as pd\n",
    "import xarray as xr\n",
    "from tqdm import tqdm\n",
    "\n",
    "from config import sessions\n",
    "from GDa.flatmap.flatmap import flatmap\n",
    "from GDa.util import create_stages_time_grid"
   ]
  },
  {
   "cell_type": "code",
   "execution_count": 3,
   "id": "40e755eb-a7c5-4e6a-ab5f-a7beb8eb5f1f",
   "metadata": {},
   "outputs": [],
   "source": [
    "# Path in which to save plots\n",
    "results = \"/home/vinicius/storage1/projects/GrayData-Analysis/figures/features_flatmaps\""
   ]
  },
  {
   "cell_type": "code",
   "execution_count": 4,
   "id": "714d7a80-9b00-431d-96bf-83ac9a541a30",
   "metadata": {},
   "outputs": [],
   "source": [
    "metric = \"coh\""
   ]
  },
  {
   "cell_type": "markdown",
   "id": "495e1b71-9c91-49cb-9b41-4e096e77edd6",
   "metadata": {},
   "source": [
    "#### Helper function to load data"
   ]
  },
  {
   "cell_type": "code",
   "execution_count": 5,
   "id": "041b1cfe-5d1b-47f7-8b99-13bdb23beae0",
   "metadata": {},
   "outputs": [],
   "source": [
    "def return_file_path(_ROOT, _FILE_NAME, s_id):\n",
    "    path_metric = os.path.join(_ROOT, f\"Results/lucy/{s_id}/session01\", _FILE_NAME)\n",
    "    return path_metric\n",
    "\n",
    "\n",
    "def average_stages(data, stats):\n",
    "    \"\"\"\n",
    "    Loads the data DataArray and average it for each task\n",
    "    stage if needed (avg=1) otherwise return the data itself\n",
    "    (avg=0).\n",
    "    \"\"\"\n",
    "    out = []\n",
    "    # Creates stage mask\n",
    "    attrs = data.attrs\n",
    "    mask = create_stages_time_grid(\n",
    "        attrs[\"t_cue_on\"] - 0.2,\n",
    "        attrs[\"t_cue_off\"],\n",
    "        attrs[\"t_match_on\"],\n",
    "        attrs[\"fsample\"],\n",
    "        data.times.data,\n",
    "        data.sizes[\"trials\"],\n",
    "        early_delay=0.3,\n",
    "        align_to=\"cue\",\n",
    "        flatten=True,\n",
    "    )\n",
    "    for stage in mask.keys():\n",
    "        mask[stage] = xr.DataArray(mask[stage], dims=(\"observations\"))\n",
    "\n",
    "    data = data.stack(observations=(\"trials\", \"times\"))\n",
    "    for stage in mask.keys():\n",
    "        aux = data.isel(observations=mask[stage])\n",
    "        if stats == \"mean\":\n",
    "            out += [aux.mean(\"observations\", skipna=True)]\n",
    "        elif stats == \"95p\":\n",
    "            out += [aux.quantile(0.95, \"observations\", skipna=True)]\n",
    "        elif stats == \"cv\":\n",
    "            mu = aux.mean(\"observations\", skipna=True)\n",
    "            sig = aux.std(\"observations\", skipna=True)\n",
    "            out += [sig / mu]\n",
    "\n",
    "    out = xr.concat(out, \"times\")\n",
    "    out.attrs = attrs\n",
    "    return out"
   ]
  },
  {
   "cell_type": "code",
   "execution_count": 6,
   "id": "08387517-07e2-4149-886f-e7d11fc7d2d4",
   "metadata": {},
   "outputs": [],
   "source": [
    "# Name of the file containing the feature\n",
    "def get_file_name(feature):\n",
    "    if feature == \"power\":\n",
    "        return \"power_tt_1_br_1_at_cue.nc\"\n",
    "    else:\n",
    "        return f\"{metric}_{feature}_thr_1_at_cue.nc\""
   ]
  },
  {
   "cell_type": "code",
   "execution_count": 7,
   "id": "22fb5d49-bacc-41aa-9d95-1306d256f2bb",
   "metadata": {},
   "outputs": [],
   "source": [
    "def load_sessions(_ROOT, _FILE_NAME, stats=\"mean\"):\n",
    "    \"\"\"Load data for all sessions\"\"\"\n",
    "\n",
    "    assert stats in [\"mean\", \"95p\", \"cv\"]\n",
    "\n",
    "    data = []\n",
    "    for s_id in tqdm(sessions):\n",
    "        # Get path to file\n",
    "        path_metric = return_file_path(_ROOT, _FILE_NAME, s_id)\n",
    "        # Load network feature\n",
    "        out = xr.load_dataarray(path_metric)\n",
    "        # Average if needed\n",
    "        out = average_stages(out, stats)\n",
    "        # Concqtenate channels\n",
    "        data += [out.isel(roi=[r]).astype(np.float32) for r in range(len(out[\"roi\"]))]\n",
    "\n",
    "    # Concatenate channels\n",
    "    data = xr.concat(data, dim=\"roi\")\n",
    "    # Get unique rois\n",
    "    urois, counts = np.unique(data.roi.data, return_counts=True)\n",
    "    # Get unique rois that has at leats 10 channels\n",
    "    urois = urois[counts >= 10]\n",
    "    # Average channels withn the same roi\n",
    "    data = data.groupby(\"roi\").mean(\"roi\", skipna=True)\n",
    "    data = data.sel(roi=urois)\n",
    "    return data"
   ]
  },
  {
   "cell_type": "markdown",
   "id": "ed6ef82b-e226-4f31-a856-4a26b8695c57",
   "metadata": {},
   "source": [
    "#### Plotting function"
   ]
  },
  {
   "cell_type": "code",
   "execution_count": 8,
   "id": "11244360-75d9-4a4d-8663-572fff5f46b8",
   "metadata": {},
   "outputs": [],
   "source": [
    "def plot_feat_flatmap(data, f, suptitle=None, fig_name=None):\n",
    "    \"\"\"Plot the flatmaps of data for a given frequency\"\"\"\n",
    "    # Define sub-cortical areas names\n",
    "    sca = np.array([\"thal\", \"putamen\", \"claustrum\", \"caudate\"])\n",
    "\n",
    "    # Get area names\n",
    "    areas = data.roi.values\n",
    "    areas = [a.lower() for a in areas]\n",
    "    index = np.where(np.isin(areas, sca))\n",
    "    _areas_nosca = np.delete(areas, index)\n",
    "\n",
    "    times = data.times.values\n",
    "    n_times = len(times)\n",
    "\n",
    "    # Name of each stage to use in plot titles\n",
    "    stage = [r\"$P$\", r\"$S$\", r\"$D_1$\", r\"$D_2$\", r\"$D_M$\"]\n",
    "    # Name of each metric\n",
    "    metrics = [\"mean\", \"95p\", \"cv\"]\n",
    "    n_metrics = len(metrics)\n",
    "\n",
    "    # Annotations\n",
    "    ann = [\"A\", \"B\", \"C\"]\n",
    "\n",
    "    # Create canvas in which the flatmaps will be drawn\n",
    "    fig = plt.figure(figsize=(8, 4), dpi=600)\n",
    "    gs1 = fig.add_gridspec(\n",
    "        nrows=n_metrics, ncols=n_times, left=0.05, right=0.87, bottom=0.05, top=0.92\n",
    "    )\n",
    "    gs2 = fig.add_gridspec(\n",
    "        nrows=n_metrics,\n",
    "        ncols=1,\n",
    "        left=0.90,\n",
    "        right=0.92,\n",
    "        bottom=0.08,\n",
    "        top=0.90,\n",
    "        height_ratios=[0.2] * 3,\n",
    "    )\n",
    "\n",
    "    # Will store the axes of the figure\n",
    "    ax, ax_cbar = [], []\n",
    "    count = 0\n",
    "    for i_f, feature in enumerate(metrics):\n",
    "        # Plot flatmap for different freuquencies and times\n",
    "        ax_cbar += [plt.subplot(gs2[i_f])]  # Colorbar axis\n",
    "        # Limits\n",
    "        vmin = data.isel(freqs=f, stats=i_f).min()\n",
    "        vmax = data.isel(freqs=f, stats=i_f).max()\n",
    "        for t in range(n_times):\n",
    "            ax += [plt.subplot(gs1[count])]  # Flatmap axis\n",
    "            # Get values to plot in the flatmap\n",
    "            values = data.isel(times=t, freqs=f, stats=i_f).values\n",
    "            # Delete values for subcortical areas\n",
    "            values = np.delete(values, index)\n",
    "            # Instantiate flatmap\n",
    "            fmap = flatmap(values, _areas_nosca)\n",
    "            # Only plot colorbar for last column\n",
    "            if t == 3:\n",
    "                fmap.plot(\n",
    "                    ax[count],\n",
    "                    ax_colorbar=ax_cbar[i_f],\n",
    "                    cbar_title=f\"{feature}\",\n",
    "                    vmin=vmin,\n",
    "                    vmax=vmax,\n",
    "                    alpha=0.6,\n",
    "                    colormap=\"hot_r\",\n",
    "                )\n",
    "            else:\n",
    "                fmap.plot(\n",
    "                    ax[count],\n",
    "                    ax_colorbar=None,\n",
    "                    cbar_title=f\"{feature}\",\n",
    "                    vmin=vmin,\n",
    "                    vmax=vmax,\n",
    "                    alpha=0.6,\n",
    "                    colormap=\"hot_r\",\n",
    "                )\n",
    "            count += 1\n",
    "            if t == 0:\n",
    "                plt.annotate(ann[i_f], (0, 0.9))\n",
    "            if isinstance(suptitle, str):\n",
    "                plt.suptitle(suptitle + f\", band {f+1}\", fontsize=10)\n",
    "    plt.savefig(os.path.join(results, fig_name))\n",
    "    plt.close()"
   ]
  },
  {
   "cell_type": "code",
   "execution_count": 9,
   "id": "65cc5622-85bb-4691-a486-3cdf7deb3be2",
   "metadata": {},
   "outputs": [],
   "source": [
    "_ROOT = os.path.expanduser(\"~/funcog/gda/\")"
   ]
  },
  {
   "cell_type": "markdown",
   "id": "032e9126-bd74-44fb-bf3f-b3318a431263",
   "metadata": {},
   "source": [
    "### Power"
   ]
  },
  {
   "cell_type": "code",
   "execution_count": 10,
   "id": "588fd943-5883-42cd-8d3e-bed3a520d8f7",
   "metadata": {},
   "outputs": [],
   "source": [
    "_FILE_NAME = get_file_name(\"power\")"
   ]
  },
  {
   "cell_type": "code",
   "execution_count": 18,
   "id": "b58d9ace-b431-421b-b3cd-67509d613f20",
   "metadata": {},
   "outputs": [],
   "source": [
    "if metric == \"coh\":\n",
    "    power_mean = load_sessions(_ROOT, _FILE_NAME, stats=\"mean\")\n",
    "    power_cv = load_sessions(_ROOT, _FILE_NAME, stats=\"cv\")\n",
    "    power_95p = load_sessions(_ROOT, _FILE_NAME, stats=\"95p\")\n",
    "    data = xr.concat([power_mean, power_95p, power_cv], \"stats\")\n",
    "    for f in range(10):\n",
    "        fig_name = f\"power_{metric}_f_{f}.png\"\n",
    "        plot_feat_flatmap(data, f, suptitle=\"Power\", fig_name=fig_name)"
   ]
  },
  {
   "cell_type": "markdown",
   "id": "35c71ba9-28b6-44e3-b3ed-2de406bf5cde",
   "metadata": {},
   "source": [
    "### Degree"
   ]
  },
  {
   "cell_type": "code",
   "execution_count": 19,
   "id": "61eb9860-0264-478f-8d4e-6725b67c62b8",
   "metadata": {},
   "outputs": [],
   "source": [
    "_FILE_NAME = get_file_name(\"degree\")"
   ]
  },
  {
   "cell_type": "code",
   "execution_count": 20,
   "id": "de893f10-8c0e-4442-b078-749da62655df",
   "metadata": {},
   "outputs": [
    {
     "name": "stderr",
     "output_type": "stream",
     "text": [
      "100%|███████████████████████████████████████████| 62/62 [03:09<00:00,  3.06s/it]\n"
     ]
    }
   ],
   "source": [
    "degree_mean = load_sessions(_ROOT, _FILE_NAME, stats=\"mean\")"
   ]
  },
  {
   "cell_type": "code",
   "execution_count": 21,
   "id": "0e09ce33-bbb4-434f-b7a4-86c5574c44a6",
   "metadata": {},
   "outputs": [
    {
     "name": "stderr",
     "output_type": "stream",
     "text": [
      "100%|███████████████████████████████████████████| 62/62 [01:25<00:00,  1.37s/it]\n"
     ]
    }
   ],
   "source": [
    "degree_cv = load_sessions(_ROOT, _FILE_NAME, stats=\"cv\")"
   ]
  },
  {
   "cell_type": "code",
   "execution_count": 22,
   "id": "8c277308-f2aa-487c-9ad8-697a757644ea",
   "metadata": {},
   "outputs": [
    {
     "name": "stderr",
     "output_type": "stream",
     "text": [
      "100%|███████████████████████████████████████████| 62/62 [01:30<00:00,  1.45s/it]\n"
     ]
    }
   ],
   "source": [
    "degree_95p = load_sessions(_ROOT, _FILE_NAME, stats=\"95p\")"
   ]
  },
  {
   "cell_type": "code",
   "execution_count": 23,
   "id": "0ca554ec-81ec-4a9a-be39-6f1d4c86ef34",
   "metadata": {},
   "outputs": [],
   "source": [
    "data = xr.concat([degree_mean, degree_cv, degree_95p], \"stats\")"
   ]
  },
  {
   "cell_type": "code",
   "execution_count": 24,
   "id": "e1eb629f-b0dd-4441-8ced-3b22729ec6b0",
   "metadata": {},
   "outputs": [],
   "source": [
    "for f in range(10):\n",
    "    fig_name = f\"degree_{metric}_f_{f}.png\"\n",
    "    plot_feat_flatmap(data, f, suptitle=\"Degree\", fig_name=fig_name)"
   ]
  },
  {
   "cell_type": "markdown",
   "id": "f3e51149-db08-4fba-b81e-424cd766de18",
   "metadata": {},
   "source": [
    "### Coreness"
   ]
  },
  {
   "cell_type": "code",
   "execution_count": 25,
   "id": "0162d61c-58eb-4db6-9357-b6e6a02d1110",
   "metadata": {},
   "outputs": [],
   "source": [
    "_FILE_NAME = get_file_name(\"coreness\")"
   ]
  },
  {
   "cell_type": "code",
   "execution_count": 26,
   "id": "a22ef0f8-0fdf-49ee-8454-615498b8c489",
   "metadata": {},
   "outputs": [
    {
     "name": "stderr",
     "output_type": "stream",
     "text": [
      "100%|███████████████████████████████████████████| 62/62 [03:13<00:00,  3.12s/it]\n"
     ]
    }
   ],
   "source": [
    "coreness_mean = load_sessions(_ROOT, _FILE_NAME, stats=\"mean\")"
   ]
  },
  {
   "cell_type": "code",
   "execution_count": 27,
   "id": "c2358b75-89cf-4ee2-bf8d-002a67c3528e",
   "metadata": {},
   "outputs": [
    {
     "name": "stderr",
     "output_type": "stream",
     "text": [
      "100%|███████████████████████████████████████████| 62/62 [01:51<00:00,  1.80s/it]\n"
     ]
    }
   ],
   "source": [
    "coreness_cv = load_sessions(_ROOT, _FILE_NAME, stats=\"cv\")"
   ]
  },
  {
   "cell_type": "code",
   "execution_count": 28,
   "id": "4de5f2e1-4f13-4730-9d8c-38d05be58a06",
   "metadata": {},
   "outputs": [
    {
     "name": "stderr",
     "output_type": "stream",
     "text": [
      "100%|███████████████████████████████████████████| 62/62 [01:23<00:00,  1.35s/it]\n"
     ]
    }
   ],
   "source": [
    "coreness_95p = load_sessions(_ROOT, _FILE_NAME, stats=\"95p\")"
   ]
  },
  {
   "cell_type": "code",
   "execution_count": 29,
   "id": "4bd30602-f424-41e8-a91a-24b9a1f618e3",
   "metadata": {},
   "outputs": [],
   "source": [
    "data = xr.concat([coreness_mean, coreness_95p, coreness_cv], \"stats\")"
   ]
  },
  {
   "cell_type": "code",
   "execution_count": 30,
   "id": "58096553-8390-4cb1-a1f7-c93c1007e8ce",
   "metadata": {},
   "outputs": [],
   "source": [
    "for f in range(10):\n",
    "    fig_name = f\"coreness_{metric}_f_{f}.png\"\n",
    "    plot_feat_flatmap(data, f, suptitle=\"Coreness\", fig_name=fig_name)"
   ]
  },
  {
   "cell_type": "markdown",
   "id": "4e697d0c-d0e1-4648-92b4-265655a6b2c0",
   "metadata": {},
   "source": [
    "### Efficiency"
   ]
  },
  {
   "cell_type": "code",
   "execution_count": 31,
   "id": "fde10709-b06b-4c82-82d2-ec2a7b3d6150",
   "metadata": {},
   "outputs": [],
   "source": [
    "_FILE_NAME = get_file_name(\"efficiency\")"
   ]
  },
  {
   "cell_type": "code",
   "execution_count": 32,
   "id": "62006dd2-b38f-4a25-a445-c933fd177ca7",
   "metadata": {},
   "outputs": [
    {
     "name": "stderr",
     "output_type": "stream",
     "text": [
      "100%|███████████████████████████████████████████| 62/62 [03:10<00:00,  3.08s/it]\n"
     ]
    }
   ],
   "source": [
    "eff_mean = load_sessions(_ROOT, _FILE_NAME, stats=\"mean\")"
   ]
  },
  {
   "cell_type": "code",
   "execution_count": 33,
   "id": "c6f037ca-89a4-462d-8bc0-374f433fc23e",
   "metadata": {},
   "outputs": [
    {
     "name": "stderr",
     "output_type": "stream",
     "text": [
      "100%|███████████████████████████████████████████| 62/62 [00:45<00:00,  1.35it/s]\n"
     ]
    }
   ],
   "source": [
    "eff_cv = load_sessions(_ROOT, _FILE_NAME, stats=\"cv\")"
   ]
  },
  {
   "cell_type": "code",
   "execution_count": 34,
   "id": "150786e1-ec74-47eb-b602-d2ca4302eb2c",
   "metadata": {},
   "outputs": [
    {
     "name": "stderr",
     "output_type": "stream",
     "text": [
      "100%|███████████████████████████████████████████| 62/62 [01:33<00:00,  1.51s/it]\n"
     ]
    }
   ],
   "source": [
    "eff_95p = load_sessions(_ROOT, _FILE_NAME, stats=\"95p\")"
   ]
  },
  {
   "cell_type": "code",
   "execution_count": 35,
   "id": "1631573d-c1fa-49db-b4f6-6fb7ff1c5e05",
   "metadata": {},
   "outputs": [],
   "source": [
    "data = xr.concat([eff_mean, eff_95p, eff_cv], \"stats\")"
   ]
  },
  {
   "cell_type": "code",
   "execution_count": 36,
   "id": "3b7a5b20-1c8a-496d-943d-616c5233334c",
   "metadata": {},
   "outputs": [],
   "source": [
    "for f in range(10):\n",
    "    fig_name = f\"efficiency_{metric}_f_{f}.png\"\n",
    "    plot_feat_flatmap(data, f, suptitle=\"Efficiency\", fig_name=fig_name)"
   ]
  },
  {
   "cell_type": "markdown",
   "id": "ad6fa2b7-3e07-43a0-9339-a433f9156ee2",
   "metadata": {},
   "source": [
    "### Meta-connectivity"
   ]
  },
  {
   "cell_type": "code",
   "execution_count": 32,
   "id": "7c2d5d86-f84d-4748-bb52-b6110d4892f2",
   "metadata": {},
   "outputs": [],
   "source": [
    "_ROOT = os.path.expanduser(\"~/funcog/gda\")\n",
    "_RESULTS = \"Results/lucy/meta_conn\"\n",
    "\n",
    "\n",
    "metric = \"plv\"\n",
    "\n",
    "\n",
    "def get_mc_path(session):\n",
    "    return os.path.join(_ROOT, _RESULTS, f\"ts_{metric}_{session}.nc\")\n",
    "\n",
    "\n",
    "def load_mc():\n",
    "    \"\"\"Load MC for all sessions\"\"\"\n",
    "\n",
    "    data = []\n",
    "    for session in tqdm(sessions):\n",
    "        out = xr.load_dataarray(get_mc_path(session))\n",
    "        data += [out.isel(roi=[r]).astype(np.float32) for r in range(len(out[\"roi\"]))]\n",
    "\n",
    "    # Concatenate channels\n",
    "    data = xr.concat(data, dim=\"roi\")\n",
    "    # Get unique rois\n",
    "    urois, counts = np.unique(data.roi.data, return_counts=True)\n",
    "    # Get unique rois that has at leats 10 channels\n",
    "    urois = urois[counts >= 10]\n",
    "    # Average channels withn the same roi\n",
    "    data = data.groupby(\"roi\").mean(\"roi\", skipna=True)\n",
    "    data = data.sel(roi=urois)\n",
    "    return data"
   ]
  },
  {
   "cell_type": "code",
   "execution_count": 33,
   "id": "eed20e4f-dedb-48d9-8c5a-8795cc49f3bc",
   "metadata": {},
   "outputs": [
    {
     "name": "stderr",
     "output_type": "stream",
     "text": [
      "100%|███████████████████████████████████████████| 62/62 [00:03<00:00, 15.78it/s]\n"
     ]
    }
   ],
   "source": [
    "MC = load_mc()"
   ]
  },
  {
   "cell_type": "code",
   "execution_count": 34,
   "id": "8247bb05-74b8-4571-abec-3bcf44ca2a19",
   "metadata": {},
   "outputs": [],
   "source": [
    "def plot_mc_flatmap(data, f, suptitle=None, fig_name=None):\n",
    "    \"\"\"Plot the flatmaps of MC for a given frequency\"\"\"\n",
    "    # Define sub-cortical areas names\n",
    "    sca = np.array([\"thal\", \"putamen\", \"claustrum\", \"caudate\"])\n",
    "\n",
    "    # Get area names\n",
    "    areas = data.roi.values\n",
    "    areas = [a.lower() for a in areas]\n",
    "    index = np.where(np.isin(areas, sca))\n",
    "    _areas_nosca = np.delete(areas, index)\n",
    "\n",
    "    times = data.times.values\n",
    "    n_times = len(times)\n",
    "    freqs = data.freqs.values\n",
    "    # Name of each stage to use in plot titles\n",
    "    stage = [r\"$P$\", r\"$S$\", r\"$D_1$\", r\"$D_2$\", r\"$D_M$\"]\n",
    "    # Annotations\n",
    "    ann = [\"A\", \"B\", \"C\", \"D\", \"E\", \"F\", \"G\", \"H\", \"I\", \"J\"]\n",
    "\n",
    "    # Create canvas in which the flatmaps will be drawn\n",
    "    fig = plt.figure(figsize=(8, 4), dpi=600)\n",
    "    gs1 = fig.add_gridspec(\n",
    "        nrows=1, ncols=n_times, left=0.05, right=0.87, bottom=0.05, top=0.92\n",
    "    )\n",
    "    gs2 = fig.add_gridspec(\n",
    "        nrows=1,\n",
    "        ncols=1,\n",
    "        left=0.90,\n",
    "        right=0.92,\n",
    "        bottom=0.35,\n",
    "        top=0.5,\n",
    "    )\n",
    "\n",
    "    # Will store the axes of the figure\n",
    "    ax, ax_cbar = [], []\n",
    "    count = 0\n",
    "    # Plot flatmap for different freuquencies and times\n",
    "    ax_cbar += [plt.subplot(gs2[0])]  # Colorbar axis\n",
    "    # Limits\n",
    "    vmin = data.min()\n",
    "    vmax = data.max()\n",
    "    for t in range(n_times):\n",
    "        ax += [plt.subplot(gs1[count])]  # Flatmap axis\n",
    "        # Get values to plot in the flatmap\n",
    "        values = data.isel(times=t, freqs=f).values\n",
    "        # Delete values for subcortical areas\n",
    "        values = np.delete(values, index)\n",
    "        # Instantiate flatmap\n",
    "        fmap = flatmap(values, _areas_nosca)\n",
    "        # Only plot colorbar for last column\n",
    "        if t == 3:\n",
    "            fmap.plot(\n",
    "                ax[count],\n",
    "                ax_colorbar=ax_cbar[0],\n",
    "                cbar_title=\"TS\",\n",
    "                vmin=vmin,\n",
    "                vmax=vmax,\n",
    "                alpha=0.6,\n",
    "                colormap=\"hot_r\",\n",
    "            )\n",
    "        else:\n",
    "            fmap.plot(\n",
    "                ax[count],\n",
    "                ax_colorbar=None,\n",
    "                cbar_title=\"TS\",\n",
    "                vmin=vmin,\n",
    "                vmax=vmax,\n",
    "                alpha=0.6,\n",
    "                colormap=\"hot_r\",\n",
    "            )\n",
    "        count += 1\n",
    "        if t == 0:\n",
    "            plt.annotate(f\"{freqs[f]} Hz\", (0, 0.2), fontsize=5)\n",
    "        plt.title(stage[t], fontsize=10)\n",
    "    plt.savefig(os.path.join(results, fig_name), bbox_inches=\"tight\")\n",
    "    plt.close()"
   ]
  },
  {
   "cell_type": "code",
   "execution_count": 35,
   "id": "51d517ba-533f-4541-a8c3-d33b5a96c2de",
   "metadata": {},
   "outputs": [],
   "source": [
    "for f in range(10):\n",
    "    plot_mc_flatmap(MC, f, fig_name=f\"meta_conn_{metric}_{f}_maps.png\")"
   ]
  },
  {
   "cell_type": "code",
   "execution_count": null,
   "id": "dd0d8a03-0a3c-4d88-8e36-933ac7343e33",
   "metadata": {},
   "outputs": [],
   "source": []
  }
 ],
 "metadata": {
  "kernelspec": {
   "display_name": "Python 3 (ipykernel)",
   "language": "python",
   "name": "python3"
  },
  "language_info": {
   "codemirror_mode": {
    "name": "ipython",
    "version": 3
   },
   "file_extension": ".py",
   "mimetype": "text/x-python",
   "name": "python",
   "nbconvert_exporter": "python",
   "pygments_lexer": "ipython3",
   "version": "3.8.8"
  }
 },
 "nbformat": 4,
 "nbformat_minor": 5
}
